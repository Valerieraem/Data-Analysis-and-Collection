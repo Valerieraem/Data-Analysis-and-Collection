{
 "cells": [
  {
   "cell_type": "markdown",
   "id": "719e2860",
   "metadata": {},
   "source": [
    "# Beautiful Soup Web Scraping Project\n",
    "Using beautiful soup and selenium to collect data from trulia. Getting information about houses for sale in San Diego and saving to a csv file.\n",
    "Will add more later to collect data in diffrent cities."
   ]
  },
  {
   "cell_type": "markdown",
   "id": "d1fafe3f",
   "metadata": {},
   "source": [
    "## Imports"
   ]
  },
  {
   "cell_type": "code",
   "execution_count": 2,
   "id": "6eb7640e",
   "metadata": {},
   "outputs": [],
   "source": [
    "import json\n",
    "from bs4 import BeautifulSoup\n",
    "import requests\n",
    "import pandas as pd\n",
    "from selenium import webdriver\n",
    "import time\n",
    "from selenium.webdriver.common.by import By\n",
    "from selenium.webdriver.support.wait import WebDriverWait\n",
    "import selenium.webdriver.support.expected_conditions as EC\n",
    "import urllib.parse"
   ]
  },
  {
   "cell_type": "markdown",
   "id": "cb997058",
   "metadata": {},
   "source": [
    "## HTML Call\n",
    "### using selenium webdriver to bypass blocks"
   ]
  },
  {
   "cell_type": "code",
   "execution_count": 3,
   "id": "ebc2996b",
   "metadata": {},
   "outputs": [
    {
     "name": "stdout",
     "output_type": "stream",
     "text": [
      "None\n"
     ]
    }
   ],
   "source": [
    "driver = webdriver.Edge()\n",
    "response = driver.get(\"https://www.trulia.com/CA/San_Diego/\")\n",
    "WebDriverWait(driver, 10).until(EC.visibility_of_element_located((By.CSS_SELECTOR, 'ul[data-testid=\"search-result-list-container\"]')))\n",
    "print(response)\n",
    "#should have a window pop up."
   ]
  },
  {
   "cell_type": "code",
   "execution_count": 23,
   "id": "d3d50c9f",
   "metadata": {},
   "outputs": [],
   "source": [
    "#previous way that I was getting the html call, had to switch to \n",
    "#using web driver because the website was blocking my calls\n",
    "# result = requests.get(\"https://www.trulia.com/CA/San_Diego/\")\n",
    "# print(result.status_code)\n",
    "# #200 works, 404 not working\n",
    "# src = result.content"
   ]
  },
  {
   "cell_type": "markdown",
   "id": "a1f44786",
   "metadata": {},
   "source": [
    "## Create Soup Object"
   ]
  },
  {
   "cell_type": "code",
   "execution_count": 13,
   "id": "09435786",
   "metadata": {},
   "outputs": [],
   "source": [
    "soup = BeautifulSoup(driver.page_source, 'html.parser')"
   ]
  },
  {
   "cell_type": "code",
   "execution_count": 34,
   "id": "d906f13b",
   "metadata": {},
   "outputs": [],
   "source": [
    "#soup output was here before, removed for easy reading"
   ]
  },
  {
   "cell_type": "markdown",
   "id": "b9b204fa",
   "metadata": {},
   "source": [
    "## Results"
   ]
  },
  {
   "cell_type": "code",
   "execution_count": 15,
   "id": "a099dd99",
   "metadata": {},
   "outputs": [
    {
     "data": {
      "text/plain": [
       "42"
      ]
     },
     "execution_count": 15,
     "metadata": {},
     "output_type": "execute_result"
    }
   ],
   "source": [
    "result_container = soup.find_all('li', {'class':'sc-fc01d244-0'})\n",
    "len(result_container)"
   ]
  },
  {
   "cell_type": "markdown",
   "id": "a3bfe49d",
   "metadata": {},
   "source": [
    "## Filtering out the elements that have the attribute \"data-testid' from the result container"
   ]
  },
  {
   "cell_type": "code",
   "execution_count": 16,
   "id": "e5f22433",
   "metadata": {},
   "outputs": [],
   "source": [
    "results_update = []\n",
    "\n",
    "for results in result_container: \n",
    "    if results.has_attr('data-testid'):\n",
    "        results_update.append(results)"
   ]
  },
  {
   "cell_type": "code",
   "execution_count": 17,
   "id": "91c0815b",
   "metadata": {},
   "outputs": [
    {
     "data": {
      "text/plain": [
       "40"
      ]
     },
     "execution_count": 17,
     "metadata": {},
     "output_type": "execute_result"
    }
   ],
   "source": [
    "len(results_update)\n",
    "#should be 40 results"
   ]
  },
  {
   "cell_type": "markdown",
   "id": "fe707203",
   "metadata": {},
   "source": [
    "## Extracting links for the results"
   ]
  },
  {
   "cell_type": "markdown",
   "id": "b9668e2a",
   "metadata": {},
   "source": [
    "Want to extract links from the results in the results_update list. Will have links for all 40 elements. This will be used to extract data from the property page, such as the house details and pricing."
   ]
  },
  {
   "cell_type": "code",
   "execution_count": 18,
   "id": "cf468d0d",
   "metadata": {},
   "outputs": [],
   "source": [
    "url_1 = 'https://www.trulia.com'\n",
    "url_2 = []\n",
    "count = 0\n",
    "#loop through the results in the results_update list for item\n",
    "for item in results_update:\n",
    "    for link in item.find_all('div', {'data-testid':'property-card-details'}):\n",
    "        #print(link.find('a').get('href'))\n",
    "        url_2.append(link.find('a').get('href'))\n",
    "        #loop through the results_update and find all the divs with the \n",
    "        #attribute of property card details \n",
    "        #then get the 'a' link and add to url_2 list"
   ]
  },
  {
   "cell_type": "code",
   "execution_count": 19,
   "id": "32597305",
   "metadata": {},
   "outputs": [
    {
     "name": "stdout",
     "output_type": "stream",
     "text": [
      "['/p/ca/san-diego/5418-harvest-run-dr-san-diego-ca-92130--1064193329', '/p/ca/san-diego/4368-42nd-st-3-san-diego-ca-92105--2079727955', '/p/ca/san-diego/6415-benson-ave-san-diego-ca-92114--2079818824', '/p/ca/san-diego/16326-avenida-venusto-b-san-diego-ca-92128--2079970422', '/p/ca/san-diego/3820-3820-quarter-mile-dr-san-diego-ca-92130--2704030360', '/p/ca/san-diego/700-w-east-st-1901-san-diego-ca-92101--2116268561', '/p/ca/coronado/50-montego-ct-coronado-ca-92118--1001808762', '/p/ca/san-diego/6296-lisieux-ter-san-diego-ca-92120--2079888064', '/p/ca/san-diego/1328-s-58th-st-san-diego-ca-92114--2116275116', '/p/ca/la-jolla/617-westbourne-st-la-jolla-ca-92037--2079479402', '/p/ca/san-diego/700-w-harbor-dr-w-2902-san-diego-ca-92101--2124227014', '/p/ca/san-diego/725-727-san-fernando-pl-san-diego-ca-92109--2189546261', '/p/ca/coronado/1750-avenida-del-mundo-1108-coronado-ca-92118--2121524015', '/p/ca/san-diego/7980-mission-center-ct-f-san-diego-ca-92108--2079754406', '/p/ca/san-diego/8334-glen-vista-ct-san-diego-ca-92114--2079823895', '/p/ca/san-diego/721-723-san-fernando-pl-san-diego-ca-92109--2189546575', '/p/ca/san-diego/1307-caminito-gabaldon-e-san-diego-ca-92108--2079748740', '/p/ca/san-diego/3050-rue-d-orleans-321-san-diego-ca-92110--2079778919', '/p/ca/san-diego/3340-del-sol-blvd-12-san-diego-ca-92154--2080038255', '/p/ca/del-mar/13522-calais-dr-del-mar-ca-92014--2079358041', '/p/ca/san-diego/5159-marlborough-dr-san-diego-ca-92116--2079849856', '/home/211-Almazon-St-211-San-Diego-CA-92129-2057542168', '/p/ca/san-diego/3907-georgia-st-26-san-diego-ca-92103--2079697166', '/p/ca/san-diego/3749-kingsley-st-san-diego-ca-92106--2079736815', '/p/ca/san-diego/1806-mckee-st-a3-san-diego-ca-92110--2079775755', '/p/ca/san-diego/3851-curtis-st-san-diego-ca-92110--2079780669', '/p/ca/san-diego/6711-kenmar-way-san-diego-ca-92130--2343742103', '/p/ca/san-diego/8909-fallwood-ave-san-diego-ca-92126--2079942113', '/p/ca/coronado/823-9th-st-coronado-ca-92118--2624403391', '/p/ca/san-diego/3244-50-reynard-way-san-diego-ca-92103--2208159798', '/p/ca/san-diego/4686-mount-alifan-dr-san-diego-ca-92111--2079791355', '/p/ca/san-diego/3246-geronimo-ave-san-diego-ca-92117--2079852705', '/p/ca/san-diego/6391-caminito-marcial-san-diego-ca-92111--2079793580', '/p/ca/san-diego/700-w-harbor-dr-w-2003-san-diego-ca-92101--2124226981', '/p/ca/san-diego/12539-el-camino-real-c-san-diego-ca-92130--2079993163', '/p/ca/santee/9328-song-bird-way-santee-ca-92071--2582918636', '/p/ca/santee/10209-w-river-bluff-dr-santee-ca-92071--2582918594', '/p/ca/santee/9300-song-bird-way-santee-ca-92071--2582918637', '/p/ca/san-diego/17287-regalo-ln-san-diego-ca-92128--2079971879', '/home/211-Almazon-St-San-Diego-CA-92127-16794888']\n"
     ]
    },
    {
     "data": {
      "text/plain": [
       "40"
      ]
     },
     "execution_count": 19,
     "metadata": {},
     "output_type": "execute_result"
    }
   ],
   "source": [
    "print(url_2)\n",
    "#checking if we got some links\n",
    "len(url_2)"
   ]
  },
  {
   "cell_type": "markdown",
   "id": "358050a3",
   "metadata": {},
   "source": [
    "## Join URL 1 and URL 2 together to make one whole link"
   ]
  },
  {
   "cell_type": "code",
   "execution_count": 20,
   "id": "69ac09a2",
   "metadata": {
    "scrolled": true
   },
   "outputs": [
    {
     "data": {
      "text/plain": [
       "['https://www.trulia.com/p/ca/san-diego/5418-harvest-run-dr-san-diego-ca-92130--1064193329',\n",
       " 'https://www.trulia.com/p/ca/san-diego/4368-42nd-st-3-san-diego-ca-92105--2079727955',\n",
       " 'https://www.trulia.com/p/ca/san-diego/6415-benson-ave-san-diego-ca-92114--2079818824',\n",
       " 'https://www.trulia.com/p/ca/san-diego/16326-avenida-venusto-b-san-diego-ca-92128--2079970422',\n",
       " 'https://www.trulia.com/p/ca/san-diego/3820-3820-quarter-mile-dr-san-diego-ca-92130--2704030360',\n",
       " 'https://www.trulia.com/p/ca/san-diego/700-w-east-st-1901-san-diego-ca-92101--2116268561',\n",
       " 'https://www.trulia.com/p/ca/coronado/50-montego-ct-coronado-ca-92118--1001808762',\n",
       " 'https://www.trulia.com/p/ca/san-diego/6296-lisieux-ter-san-diego-ca-92120--2079888064',\n",
       " 'https://www.trulia.com/p/ca/san-diego/1328-s-58th-st-san-diego-ca-92114--2116275116',\n",
       " 'https://www.trulia.com/p/ca/la-jolla/617-westbourne-st-la-jolla-ca-92037--2079479402',\n",
       " 'https://www.trulia.com/p/ca/san-diego/700-w-harbor-dr-w-2902-san-diego-ca-92101--2124227014',\n",
       " 'https://www.trulia.com/p/ca/san-diego/725-727-san-fernando-pl-san-diego-ca-92109--2189546261',\n",
       " 'https://www.trulia.com/p/ca/coronado/1750-avenida-del-mundo-1108-coronado-ca-92118--2121524015',\n",
       " 'https://www.trulia.com/p/ca/san-diego/7980-mission-center-ct-f-san-diego-ca-92108--2079754406',\n",
       " 'https://www.trulia.com/p/ca/san-diego/8334-glen-vista-ct-san-diego-ca-92114--2079823895',\n",
       " 'https://www.trulia.com/p/ca/san-diego/721-723-san-fernando-pl-san-diego-ca-92109--2189546575',\n",
       " 'https://www.trulia.com/p/ca/san-diego/1307-caminito-gabaldon-e-san-diego-ca-92108--2079748740',\n",
       " 'https://www.trulia.com/p/ca/san-diego/3050-rue-d-orleans-321-san-diego-ca-92110--2079778919',\n",
       " 'https://www.trulia.com/p/ca/san-diego/3340-del-sol-blvd-12-san-diego-ca-92154--2080038255',\n",
       " 'https://www.trulia.com/p/ca/del-mar/13522-calais-dr-del-mar-ca-92014--2079358041',\n",
       " 'https://www.trulia.com/p/ca/san-diego/5159-marlborough-dr-san-diego-ca-92116--2079849856',\n",
       " 'https://www.trulia.com/home/211-Almazon-St-211-San-Diego-CA-92129-2057542168',\n",
       " 'https://www.trulia.com/p/ca/san-diego/3907-georgia-st-26-san-diego-ca-92103--2079697166',\n",
       " 'https://www.trulia.com/p/ca/san-diego/3749-kingsley-st-san-diego-ca-92106--2079736815',\n",
       " 'https://www.trulia.com/p/ca/san-diego/1806-mckee-st-a3-san-diego-ca-92110--2079775755',\n",
       " 'https://www.trulia.com/p/ca/san-diego/3851-curtis-st-san-diego-ca-92110--2079780669',\n",
       " 'https://www.trulia.com/p/ca/san-diego/6711-kenmar-way-san-diego-ca-92130--2343742103',\n",
       " 'https://www.trulia.com/p/ca/san-diego/8909-fallwood-ave-san-diego-ca-92126--2079942113',\n",
       " 'https://www.trulia.com/p/ca/coronado/823-9th-st-coronado-ca-92118--2624403391',\n",
       " 'https://www.trulia.com/p/ca/san-diego/3244-50-reynard-way-san-diego-ca-92103--2208159798',\n",
       " 'https://www.trulia.com/p/ca/san-diego/4686-mount-alifan-dr-san-diego-ca-92111--2079791355',\n",
       " 'https://www.trulia.com/p/ca/san-diego/3246-geronimo-ave-san-diego-ca-92117--2079852705',\n",
       " 'https://www.trulia.com/p/ca/san-diego/6391-caminito-marcial-san-diego-ca-92111--2079793580',\n",
       " 'https://www.trulia.com/p/ca/san-diego/700-w-harbor-dr-w-2003-san-diego-ca-92101--2124226981',\n",
       " 'https://www.trulia.com/p/ca/san-diego/12539-el-camino-real-c-san-diego-ca-92130--2079993163',\n",
       " 'https://www.trulia.com/p/ca/santee/9328-song-bird-way-santee-ca-92071--2582918636',\n",
       " 'https://www.trulia.com/p/ca/santee/10209-w-river-bluff-dr-santee-ca-92071--2582918594',\n",
       " 'https://www.trulia.com/p/ca/santee/9300-song-bird-way-santee-ca-92071--2582918637',\n",
       " 'https://www.trulia.com/p/ca/san-diego/17287-regalo-ln-san-diego-ca-92128--2079971879',\n",
       " 'https://www.trulia.com/home/211-Almazon-St-San-Diego-CA-92127-16794888']"
      ]
     },
     "execution_count": 20,
     "metadata": {},
     "output_type": "execute_result"
    }
   ],
   "source": [
    "url_joined = []\n",
    "\n",
    "for link_2 in url_2: \n",
    "    url_joined.append(urllib.parse.urljoin(url_1, link_2))\n",
    "    \n",
    "url_joined"
   ]
  },
  {
   "cell_type": "markdown",
   "id": "689cf5a8",
   "metadata": {},
   "source": [
    "## Get Data From Links"
   ]
  },
  {
   "cell_type": "markdown",
   "id": "95a7316b",
   "metadata": {},
   "source": [
    "Want to get address, bedrooms, bathrooms, sqft, year built, parking, and price"
   ]
  },
  {
   "cell_type": "code",
   "execution_count": 179,
   "id": "57373bad",
   "metadata": {},
   "outputs": [
    {
     "name": "stdout",
     "output_type": "stream",
     "text": [
      "https://www.trulia.com/p/ca/san-diego/3820-3820-quarter-mile-dr-san-diego-ca-92130--2704030360\n"
     ]
    }
   ],
   "source": [
    "first_link = url_joined[0]\n",
    "print(first_link)"
   ]
  },
  {
   "cell_type": "markdown",
   "id": "b40a631a",
   "metadata": {},
   "source": [
    "### Get request using a new driver and creating a new soup object"
   ]
  },
  {
   "cell_type": "code",
   "execution_count": 181,
   "id": "a5c30a28",
   "metadata": {},
   "outputs": [
    {
     "name": "stdout",
     "output_type": "stream",
     "text": [
      "None\n"
     ]
    }
   ],
   "source": [
    "#get request using a new driver and creating soup object\n",
    "driver2 = webdriver.Edge()\n",
    "response = driver2.get(first_link)\n",
    "print(response)"
   ]
  },
  {
   "cell_type": "code",
   "execution_count": 33,
   "id": "557c75c5",
   "metadata": {},
   "outputs": [
    {
     "ename": "NameError",
     "evalue": "name 'driver2' is not defined",
     "output_type": "error",
     "traceback": [
      "\u001b[1;31m---------------------------------------------------------------------------\u001b[0m",
      "\u001b[1;31mNameError\u001b[0m                                 Traceback (most recent call last)",
      "Cell \u001b[1;32mIn [33], line 1\u001b[0m\n\u001b[1;32m----> 1\u001b[0m soup2 \u001b[38;5;241m=\u001b[39m BeautifulSoup(\u001b[43mdriver2\u001b[49m\u001b[38;5;241m.\u001b[39mpage_source, \u001b[38;5;124m'\u001b[39m\u001b[38;5;124mhtml.parser\u001b[39m\u001b[38;5;124m'\u001b[39m)\n",
      "\u001b[1;31mNameError\u001b[0m: name 'driver2' is not defined"
     ]
    }
   ],
   "source": [
    "soup2 = BeautifulSoup(driver2.page_source, 'html.parser')"
   ]
  },
  {
   "cell_type": "markdown",
   "id": "e5ca19b1",
   "metadata": {},
   "source": [
    "### Getting Address"
   ]
  },
  {
   "cell_type": "code",
   "execution_count": 185,
   "id": "c07e1648",
   "metadata": {},
   "outputs": [
    {
     "data": {
      "text/plain": [
       "'3820-3820 Quarter Mile Dr'"
      ]
     },
     "execution_count": 185,
     "metadata": {},
     "output_type": "execute_result"
    }
   ],
   "source": [
    "soup2.find('span',{'data-testid':'home-details-summary-headline'}).get_text()"
   ]
  },
  {
   "cell_type": "markdown",
   "id": "b7ed6714",
   "metadata": {},
   "source": [
    "### Bedrooms"
   ]
  },
  {
   "cell_type": "code",
   "execution_count": 187,
   "id": "cf4f9926",
   "metadata": {},
   "outputs": [
    {
     "data": {
      "text/plain": [
       "'3 Beds'"
      ]
     },
     "execution_count": 187,
     "metadata": {},
     "output_type": "execute_result"
    }
   ],
   "source": [
    "soup2.find('li', {'data-testid':'bed'}).get_text()"
   ]
  },
  {
   "cell_type": "markdown",
   "id": "05769df3",
   "metadata": {},
   "source": [
    "### Bathrooms"
   ]
  },
  {
   "cell_type": "code",
   "execution_count": 188,
   "id": "234c8fe7",
   "metadata": {},
   "outputs": [
    {
     "data": {
      "text/plain": [
       "'3 Baths'"
      ]
     },
     "execution_count": 188,
     "metadata": {},
     "output_type": "execute_result"
    }
   ],
   "source": [
    "soup2.find('li', {'data-testid':'bath'}).get_text()"
   ]
  },
  {
   "cell_type": "markdown",
   "id": "2da9dc34",
   "metadata": {},
   "source": [
    "### Sqft"
   ]
  },
  {
   "cell_type": "code",
   "execution_count": 189,
   "id": "9eb30005",
   "metadata": {},
   "outputs": [
    {
     "data": {
      "text/plain": [
       "'1,921 sqft'"
      ]
     },
     "execution_count": 189,
     "metadata": {},
     "output_type": "execute_result"
    }
   ],
   "source": [
    "soup2.find('li', {'data-testid':'floor'}).get_text()"
   ]
  },
  {
   "cell_type": "markdown",
   "id": "3f4cb919",
   "metadata": {},
   "source": [
    "### Year Built"
   ]
  },
  {
   "cell_type": "code",
   "execution_count": 206,
   "id": "c15a2afe",
   "metadata": {},
   "outputs": [
    {
     "data": {
      "text/plain": [
       "'Year Built: 2000'"
      ]
     },
     "execution_count": 206,
     "metadata": {},
     "output_type": "execute_result"
    }
   ],
   "source": [
    "soup2.find('div', string = 'Year Built').findNext('div').findNext('div').get_text()"
   ]
  },
  {
   "cell_type": "markdown",
   "id": "ee349ab4",
   "metadata": {},
   "source": [
    "### Parking"
   ]
  },
  {
   "cell_type": "code",
   "execution_count": 195,
   "id": "ebc487f5",
   "metadata": {},
   "outputs": [
    {
     "data": {
      "text/plain": [
       "'2 Car Garage'"
      ]
     },
     "execution_count": 195,
     "metadata": {},
     "output_type": "execute_result"
    }
   ],
   "source": [
    "soup2.find('div', string = 'Parking').findNext('div').findNext('div').get_text()"
   ]
  },
  {
   "cell_type": "markdown",
   "id": "a8e8eea1",
   "metadata": {},
   "source": [
    "### Price"
   ]
  },
  {
   "cell_type": "code",
   "execution_count": 197,
   "id": "700b9f86",
   "metadata": {},
   "outputs": [
    {
     "data": {
      "text/plain": [
       "'$1,539,000'"
      ]
     },
     "execution_count": 197,
     "metadata": {},
     "output_type": "execute_result"
    }
   ],
   "source": [
    "soup2.find('h3', {'data-testid':'on-market-price-details'}).get_text()"
   ]
  },
  {
   "cell_type": "markdown",
   "id": "e14b08cd",
   "metadata": {},
   "source": [
    "## Loop through all links and grab all 7 data points"
   ]
  },
  {
   "cell_type": "code",
   "execution_count": 198,
   "id": "2ebbab6e",
   "metadata": {},
   "outputs": [],
   "source": [
    "# create lists with data \n",
    "address = []\n",
    "bedrooms = []\n",
    "bathrooms = []\n",
    "area = []\n",
    "year_built = []\n",
    "parking = []\n",
    "price = []\n",
    "\n",
    "#loop through all joined links\n",
    "for link in url_joined:\n",
    "    #start new driver with link\n",
    "    driver3 = webdriver.Edge()\n",
    "    response = driver3.get(link)\n",
    "    \n",
    "    #create soup object\n",
    "    soup3 = BeautifulSoup(driver3.page_source, 'html.parser')\n",
    "    \n",
    "    try:\n",
    "        address.append(soup3.find('span',{'data-testid':'home-details-summary-headline'}).get_text())\n",
    "    except:\n",
    "        address.append('')\n",
    "    \n",
    "    try:\n",
    "        bedrooms.append(soup3.find('li', {'data-testid':'bed'}).get_text())\n",
    "    except:\n",
    "        bedrooms.append('')\n",
    "    \n",
    "    try:\n",
    "        bathrooms.append(soup3.find('li', {'data-testid':'bath'}).get_text())\n",
    "    except:\n",
    "        bathrooms.append('')\n",
    "    \n",
    "    try:\n",
    "        area.append(soup3.find('li', {'data-testid':'floor'}).get_text())\n",
    "    except: \n",
    "        area.append('')\n",
    "    \n",
    "    try:\n",
    "        year_built.append(soup3.find('div', string = 'Year Built').findNext('div').findNext('div').get_text())\n",
    "    except: \n",
    "        year_built.append('')\n",
    "        \n",
    "    try:\n",
    "        parking.append(soup3.find('div', string = 'Parking').findNext('div').findNext('div').get_text())\n",
    "    except:\n",
    "        parking.append('')\n",
    "    \n",
    "    try:\n",
    "        price.append(soup3.find('h3', {'data-testid':'on-market-price-details'}).get_text())\n",
    "    except:\n",
    "        price.append('')\n",
    "        \n",
    "    output = {'Address':address, 'Bedrooms':bedrooms, 'Bathrooms':bathrooms, 'Area':area, \n",
    "             'Year Built':year_built, 'Parking':parking, 'Price':price}\n",
    "    \n",
    "    #closing the driver at the end\n",
    "    driver3.close()\n",
    "    "
   ]
  },
  {
   "cell_type": "code",
   "execution_count": 199,
   "id": "40f618a6",
   "metadata": {},
   "outputs": [
    {
     "data": {
      "text/plain": [
       "{'Address': ['3820-3820 Quarter Mile Dr',\n",
       "  '700 W  East St #1901',\n",
       "  '50 Montego Ct',\n",
       "  '6296 Lisieux Ter',\n",
       "  '1328 S  58th St',\n",
       "  '617 Westbourne St',\n",
       "  '700 W  Harbor Dr   W  #2902',\n",
       "  '7980 Mission Center Ct #F',\n",
       "  '8334 Glen Vista Ct',\n",
       "  '721-723 San Fernando Pl',\n",
       "  '1307 Caminito Gabaldon #E',\n",
       "  '3050 Rue D Orleans #321',\n",
       "  '3340 Del Sol Blvd #12',\n",
       "  '13522 Calais Dr',\n",
       "  '5159 Marlborough Dr',\n",
       "  '211 Almazon St   #211',\n",
       "  '3907 Georgia St #26',\n",
       "  '3749 Kingsley St',\n",
       "  '1806 McKee St #A3',\n",
       "  '3851 Curtis St',\n",
       "  '6711 Kenmar Way',\n",
       "  '8909 Fallwood Ave',\n",
       "  '823 9th St',\n",
       "  '3244-50 Reynard Way',\n",
       "  '4686 Mount Alifan Dr',\n",
       "  '3246 Geronimo Ave',\n",
       "  '6391 Caminito Marcial',\n",
       "  '700 W  Harbor Dr   W  #2003',\n",
       "  '12539 El Camino Real #C',\n",
       "  '9328 Song Bird Way',\n",
       "  '10209 W  River Bluff Dr',\n",
       "  '9300 Song Bird Way',\n",
       "  '17287 Regalo Ln',\n",
       "  '211 Almazon St',\n",
       "  '9534 Vervain St',\n",
       "  '1565 Northrim Ct #295',\n",
       "  '4677 Pescadero Ave',\n",
       "  '6734 University Ave'],\n",
       " 'Bedrooms': ['3 Beds',\n",
       "  '3 Beds',\n",
       "  '3 Beds',\n",
       "  '3 Beds',\n",
       "  '4 Beds',\n",
       "  '3 Beds',\n",
       "  '2 Beds',\n",
       "  '2 Beds',\n",
       "  '4 Beds',\n",
       "  '6 Beds',\n",
       "  '1 Bed',\n",
       "  '1 Bed',\n",
       "  '2 Beds',\n",
       "  '4 Beds',\n",
       "  '2 Beds',\n",
       "  '',\n",
       "  '1 Bed',\n",
       "  '3 Beds',\n",
       "  '2 Beds',\n",
       "  '4 Beds',\n",
       "  '5 Beds',\n",
       "  '4 Beds',\n",
       "  '4 Beds',\n",
       "  '4 Beds',\n",
       "  '3 Beds',\n",
       "  '5 Beds',\n",
       "  '3 Beds',\n",
       "  '2 Beds',\n",
       "  '3 Beds',\n",
       "  '4 Beds',\n",
       "  '3 Beds',\n",
       "  '4 Beds',\n",
       "  '4 Beds',\n",
       "  '',\n",
       "  '4 Beds',\n",
       "  '1 Bed',\n",
       "  '2 Beds',\n",
       "  '1 Bed'],\n",
       " 'Bathrooms': ['3 Baths',\n",
       "  '2 Baths',\n",
       "  '3 Baths',\n",
       "  '2 Baths',\n",
       "  '2 Baths',\n",
       "  '2 Baths',\n",
       "  '2 Baths',\n",
       "  '1 Bath',\n",
       "  '2 Baths',\n",
       "  '6 Baths',\n",
       "  '1 Bath',\n",
       "  '1 Bath',\n",
       "  '2 Baths',\n",
       "  '2 Baths',\n",
       "  '2 Baths',\n",
       "  '',\n",
       "  '1 Bath',\n",
       "  '1 Bath',\n",
       "  '3 Baths',\n",
       "  '2 Baths',\n",
       "  '6 Baths',\n",
       "  '2 Baths',\n",
       "  '4 Baths',\n",
       "  '4 Baths',\n",
       "  '2 Baths',\n",
       "  '5 Baths',\n",
       "  '2 Baths',\n",
       "  '2 Baths',\n",
       "  '3 Baths',\n",
       "  '3 Baths',\n",
       "  '3 Baths',\n",
       "  '3 Baths',\n",
       "  '2 Baths',\n",
       "  '',\n",
       "  '3 Baths',\n",
       "  '1 Bath',\n",
       "  '1 Bath',\n",
       "  '1 Bath'],\n",
       " 'Area': ['1,947 sqft',\n",
       "  '1,315 sqft',\n",
       "  '1,492 sqft',\n",
       "  '1,762 sqft',\n",
       "  '2,178 sqft',\n",
       "  '1,718 sqft',\n",
       "  '2,047 sqft',\n",
       "  '726 sqft',\n",
       "  '1,986 sqft',\n",
       "  '2,870 sqft',\n",
       "  '726 sqft',\n",
       "  '547 sqft',\n",
       "  '1,344 sqft',\n",
       "  '1,665 sqft',\n",
       "  '2,124 sqft',\n",
       "  '',\n",
       "  '657 sqft',\n",
       "  '1,087 sqft',\n",
       "  '1,430 sqft',\n",
       "  '1,640 sqft',\n",
       "  '3,789 sqft',\n",
       "  '1,550 sqft',\n",
       "  '2,400 sqft',\n",
       "  '2,000 sqft',\n",
       "  '1,252 sqft',\n",
       "  '3,367 sqft',\n",
       "  '1,530 sqft',\n",
       "  '1,374 sqft',\n",
       "  '1,533 sqft (on 0.57 acres)',\n",
       "  '2,226 sqft',\n",
       "  '2,016 sqft',\n",
       "  '2,226 sqft',\n",
       "  '2,228 sqft (on 0.31 acres)',\n",
       "  '',\n",
       "  '2,217 sqft',\n",
       "  '840 sqft',\n",
       "  '870 sqft',\n",
       "  '535 sqft'],\n",
       " 'Year Built': ['Year Built: 2004',\n",
       "  'Year Built: 2007',\n",
       "  'Year Built: 1982',\n",
       "  'Year Built: 1976',\n",
       "  'Year Built: 1963',\n",
       "  'Year Built: 1980',\n",
       "  'Year Built: 2004',\n",
       "  'Year Built: 1981',\n",
       "  'Year Built: 1975',\n",
       "  'Year Built: 1991',\n",
       "  'Year Built: 1975',\n",
       "  'Year Built: 1969',\n",
       "  'Year Built: 1978',\n",
       "  'Year Built: 1970',\n",
       "  'Year Built: 1926',\n",
       "  '',\n",
       "  'Year Built: 1997',\n",
       "  'Year Built: 1951',\n",
       "  'Year Built: 1982',\n",
       "  'Year Built: 1965',\n",
       "  'Year Built: 2017',\n",
       "  'Year Built: 1974',\n",
       "  'Year Built: 2023',\n",
       "  'Year Built: 1952',\n",
       "  'Year Built: 1959',\n",
       "  'Year Built: 1990',\n",
       "  'Year Built: 1974',\n",
       "  'Year Built: 2004',\n",
       "  'Year Built: 1998',\n",
       "  'Year Built: 2023',\n",
       "  'Year Built: 2023',\n",
       "  'Year Built: 2023',\n",
       "  'Year Built: 1972',\n",
       "  '',\n",
       "  'Year Built: 1987',\n",
       "  'Year Built: 1980',\n",
       "  'Year Built: 1948',\n",
       "  'Year Built: 1981'],\n",
       " 'Parking': ['2 Car Garage',\n",
       "  'Garage',\n",
       "  'Garage',\n",
       "  'Garage',\n",
       "  'Garage',\n",
       "  'Garage',\n",
       "  '2 Car Garage',\n",
       "  'Garage',\n",
       "  '2 Car Garage',\n",
       "  '4 Car Garage',\n",
       "  'Garage',\n",
       "  'Garage',\n",
       "  'Garage',\n",
       "  '3 Car Garage',\n",
       "  'Garage',\n",
       "  'No Info',\n",
       "  'Garage',\n",
       "  '1 Car Garage',\n",
       "  'Garage',\n",
       "  '2 Car Garage',\n",
       "  '3 Car Garage',\n",
       "  '2 Car Garage',\n",
       "  'Garage',\n",
       "  'No Info',\n",
       "  '2 Car Garage',\n",
       "  '1 Car Garage',\n",
       "  '1 Car Garage',\n",
       "  '2 Car Garage',\n",
       "  '2 Car Garage',\n",
       "  '2 Car Garage',\n",
       "  '2 Car Garage',\n",
       "  '2 Car Garage',\n",
       "  '2 Car Garage',\n",
       "  'No Info',\n",
       "  '2 Car Garage',\n",
       "  '1 Car Garage',\n",
       "  'No Info',\n",
       "  'No Info'],\n",
       " 'Price': ['$1,539,000',\n",
       "  '$1,240,000',\n",
       "  '$1,490,000',\n",
       "  '$1,395,000',\n",
       "  '$859,000',\n",
       "  '$1,495,000',\n",
       "  '$2,999,900',\n",
       "  '$449,000',\n",
       "  '$749,995',\n",
       "  '$3,750,000',\n",
       "  '$399,900',\n",
       "  '$485,000',\n",
       "  '$247,000',\n",
       "  '$2,050,000',\n",
       "  '$2,150,000',\n",
       "  '$399,000',\n",
       "  '$458,900',\n",
       "  '$1,099,000',\n",
       "  '$749,000',\n",
       "  '$1,295,000',\n",
       "  '$3,149,000',\n",
       "  '$1,085,777',\n",
       "  '$3,485,000',\n",
       "  '$3,950,000',\n",
       "  '$1,255,000',\n",
       "  '$2,590,000',\n",
       "  '$760,000',\n",
       "  '$1,499,900',\n",
       "  '$1,149,000',\n",
       "  '$963,000',\n",
       "  '$933,000',\n",
       "  '$967,000',\n",
       "  '$1,349,900',\n",
       "  '$399,000',\n",
       "  '$1,349,900',\n",
       "  '$635,000',\n",
       "  '$1,199,000',\n",
       "  '$349,990']}"
      ]
     },
     "execution_count": 199,
     "metadata": {},
     "output_type": "execute_result"
    }
   ],
   "source": [
    "#show output \n",
    "output"
   ]
  },
  {
   "cell_type": "code",
   "execution_count": 203,
   "id": "b7297def",
   "metadata": {
    "scrolled": true
   },
   "outputs": [
    {
     "data": {
      "text/html": [
       "<div>\n",
       "<style scoped>\n",
       "    .dataframe tbody tr th:only-of-type {\n",
       "        vertical-align: middle;\n",
       "    }\n",
       "\n",
       "    .dataframe tbody tr th {\n",
       "        vertical-align: top;\n",
       "    }\n",
       "\n",
       "    .dataframe thead th {\n",
       "        text-align: right;\n",
       "    }\n",
       "</style>\n",
       "<table border=\"1\" class=\"dataframe\">\n",
       "  <thead>\n",
       "    <tr style=\"text-align: right;\">\n",
       "      <th></th>\n",
       "      <th>Address</th>\n",
       "      <th>Bedrooms</th>\n",
       "      <th>Bathrooms</th>\n",
       "      <th>Area</th>\n",
       "      <th>Year Built</th>\n",
       "      <th>Parking</th>\n",
       "      <th>Price</th>\n",
       "    </tr>\n",
       "  </thead>\n",
       "  <tbody>\n",
       "    <tr>\n",
       "      <th>0</th>\n",
       "      <td>3820-3820 Quarter Mile Dr</td>\n",
       "      <td>3 Beds</td>\n",
       "      <td>3 Baths</td>\n",
       "      <td>1,947 sqft</td>\n",
       "      <td>Year Built: 2004</td>\n",
       "      <td>2 Car Garage</td>\n",
       "      <td>$1,539,000</td>\n",
       "    </tr>\n",
       "    <tr>\n",
       "      <th>1</th>\n",
       "      <td>700 W  East St #1901</td>\n",
       "      <td>3 Beds</td>\n",
       "      <td>2 Baths</td>\n",
       "      <td>1,315 sqft</td>\n",
       "      <td>Year Built: 2007</td>\n",
       "      <td>Garage</td>\n",
       "      <td>$1,240,000</td>\n",
       "    </tr>\n",
       "    <tr>\n",
       "      <th>2</th>\n",
       "      <td>50 Montego Ct</td>\n",
       "      <td>3 Beds</td>\n",
       "      <td>3 Baths</td>\n",
       "      <td>1,492 sqft</td>\n",
       "      <td>Year Built: 1982</td>\n",
       "      <td>Garage</td>\n",
       "      <td>$1,490,000</td>\n",
       "    </tr>\n",
       "    <tr>\n",
       "      <th>3</th>\n",
       "      <td>6296 Lisieux Ter</td>\n",
       "      <td>3 Beds</td>\n",
       "      <td>2 Baths</td>\n",
       "      <td>1,762 sqft</td>\n",
       "      <td>Year Built: 1976</td>\n",
       "      <td>Garage</td>\n",
       "      <td>$1,395,000</td>\n",
       "    </tr>\n",
       "    <tr>\n",
       "      <th>4</th>\n",
       "      <td>1328 S  58th St</td>\n",
       "      <td>4 Beds</td>\n",
       "      <td>2 Baths</td>\n",
       "      <td>2,178 sqft</td>\n",
       "      <td>Year Built: 1963</td>\n",
       "      <td>Garage</td>\n",
       "      <td>$859,000</td>\n",
       "    </tr>\n",
       "    <tr>\n",
       "      <th>5</th>\n",
       "      <td>617 Westbourne St</td>\n",
       "      <td>3 Beds</td>\n",
       "      <td>2 Baths</td>\n",
       "      <td>1,718 sqft</td>\n",
       "      <td>Year Built: 1980</td>\n",
       "      <td>Garage</td>\n",
       "      <td>$1,495,000</td>\n",
       "    </tr>\n",
       "    <tr>\n",
       "      <th>6</th>\n",
       "      <td>700 W  Harbor Dr   W  #2902</td>\n",
       "      <td>2 Beds</td>\n",
       "      <td>2 Baths</td>\n",
       "      <td>2,047 sqft</td>\n",
       "      <td>Year Built: 2004</td>\n",
       "      <td>2 Car Garage</td>\n",
       "      <td>$2,999,900</td>\n",
       "    </tr>\n",
       "    <tr>\n",
       "      <th>7</th>\n",
       "      <td>7980 Mission Center Ct #F</td>\n",
       "      <td>2 Beds</td>\n",
       "      <td>1 Bath</td>\n",
       "      <td>726 sqft</td>\n",
       "      <td>Year Built: 1981</td>\n",
       "      <td>Garage</td>\n",
       "      <td>$449,000</td>\n",
       "    </tr>\n",
       "    <tr>\n",
       "      <th>8</th>\n",
       "      <td>8334 Glen Vista Ct</td>\n",
       "      <td>4 Beds</td>\n",
       "      <td>2 Baths</td>\n",
       "      <td>1,986 sqft</td>\n",
       "      <td>Year Built: 1975</td>\n",
       "      <td>2 Car Garage</td>\n",
       "      <td>$749,995</td>\n",
       "    </tr>\n",
       "    <tr>\n",
       "      <th>9</th>\n",
       "      <td>721-723 San Fernando Pl</td>\n",
       "      <td>6 Beds</td>\n",
       "      <td>6 Baths</td>\n",
       "      <td>2,870 sqft</td>\n",
       "      <td>Year Built: 1991</td>\n",
       "      <td>4 Car Garage</td>\n",
       "      <td>$3,750,000</td>\n",
       "    </tr>\n",
       "    <tr>\n",
       "      <th>10</th>\n",
       "      <td>1307 Caminito Gabaldon #E</td>\n",
       "      <td>1 Bed</td>\n",
       "      <td>1 Bath</td>\n",
       "      <td>726 sqft</td>\n",
       "      <td>Year Built: 1975</td>\n",
       "      <td>Garage</td>\n",
       "      <td>$399,900</td>\n",
       "    </tr>\n",
       "    <tr>\n",
       "      <th>11</th>\n",
       "      <td>3050 Rue D Orleans #321</td>\n",
       "      <td>1 Bed</td>\n",
       "      <td>1 Bath</td>\n",
       "      <td>547 sqft</td>\n",
       "      <td>Year Built: 1969</td>\n",
       "      <td>Garage</td>\n",
       "      <td>$485,000</td>\n",
       "    </tr>\n",
       "    <tr>\n",
       "      <th>12</th>\n",
       "      <td>3340 Del Sol Blvd #12</td>\n",
       "      <td>2 Beds</td>\n",
       "      <td>2 Baths</td>\n",
       "      <td>1,344 sqft</td>\n",
       "      <td>Year Built: 1978</td>\n",
       "      <td>Garage</td>\n",
       "      <td>$247,000</td>\n",
       "    </tr>\n",
       "    <tr>\n",
       "      <th>13</th>\n",
       "      <td>13522 Calais Dr</td>\n",
       "      <td>4 Beds</td>\n",
       "      <td>2 Baths</td>\n",
       "      <td>1,665 sqft</td>\n",
       "      <td>Year Built: 1970</td>\n",
       "      <td>3 Car Garage</td>\n",
       "      <td>$2,050,000</td>\n",
       "    </tr>\n",
       "    <tr>\n",
       "      <th>14</th>\n",
       "      <td>5159 Marlborough Dr</td>\n",
       "      <td>2 Beds</td>\n",
       "      <td>2 Baths</td>\n",
       "      <td>2,124 sqft</td>\n",
       "      <td>Year Built: 1926</td>\n",
       "      <td>Garage</td>\n",
       "      <td>$2,150,000</td>\n",
       "    </tr>\n",
       "    <tr>\n",
       "      <th>15</th>\n",
       "      <td>211 Almazon St   #211</td>\n",
       "      <td></td>\n",
       "      <td></td>\n",
       "      <td></td>\n",
       "      <td></td>\n",
       "      <td>No Info</td>\n",
       "      <td>$399,000</td>\n",
       "    </tr>\n",
       "    <tr>\n",
       "      <th>16</th>\n",
       "      <td>3907 Georgia St #26</td>\n",
       "      <td>1 Bed</td>\n",
       "      <td>1 Bath</td>\n",
       "      <td>657 sqft</td>\n",
       "      <td>Year Built: 1997</td>\n",
       "      <td>Garage</td>\n",
       "      <td>$458,900</td>\n",
       "    </tr>\n",
       "    <tr>\n",
       "      <th>17</th>\n",
       "      <td>3749 Kingsley St</td>\n",
       "      <td>3 Beds</td>\n",
       "      <td>1 Bath</td>\n",
       "      <td>1,087 sqft</td>\n",
       "      <td>Year Built: 1951</td>\n",
       "      <td>1 Car Garage</td>\n",
       "      <td>$1,099,000</td>\n",
       "    </tr>\n",
       "    <tr>\n",
       "      <th>18</th>\n",
       "      <td>1806 McKee St #A3</td>\n",
       "      <td>2 Beds</td>\n",
       "      <td>3 Baths</td>\n",
       "      <td>1,430 sqft</td>\n",
       "      <td>Year Built: 1982</td>\n",
       "      <td>Garage</td>\n",
       "      <td>$749,000</td>\n",
       "    </tr>\n",
       "    <tr>\n",
       "      <th>19</th>\n",
       "      <td>3851 Curtis St</td>\n",
       "      <td>4 Beds</td>\n",
       "      <td>2 Baths</td>\n",
       "      <td>1,640 sqft</td>\n",
       "      <td>Year Built: 1965</td>\n",
       "      <td>2 Car Garage</td>\n",
       "      <td>$1,295,000</td>\n",
       "    </tr>\n",
       "    <tr>\n",
       "      <th>20</th>\n",
       "      <td>6711 Kenmar Way</td>\n",
       "      <td>5 Beds</td>\n",
       "      <td>6 Baths</td>\n",
       "      <td>3,789 sqft</td>\n",
       "      <td>Year Built: 2017</td>\n",
       "      <td>3 Car Garage</td>\n",
       "      <td>$3,149,000</td>\n",
       "    </tr>\n",
       "    <tr>\n",
       "      <th>21</th>\n",
       "      <td>8909 Fallwood Ave</td>\n",
       "      <td>4 Beds</td>\n",
       "      <td>2 Baths</td>\n",
       "      <td>1,550 sqft</td>\n",
       "      <td>Year Built: 1974</td>\n",
       "      <td>2 Car Garage</td>\n",
       "      <td>$1,085,777</td>\n",
       "    </tr>\n",
       "    <tr>\n",
       "      <th>22</th>\n",
       "      <td>823 9th St</td>\n",
       "      <td>4 Beds</td>\n",
       "      <td>4 Baths</td>\n",
       "      <td>2,400 sqft</td>\n",
       "      <td>Year Built: 2023</td>\n",
       "      <td>Garage</td>\n",
       "      <td>$3,485,000</td>\n",
       "    </tr>\n",
       "    <tr>\n",
       "      <th>23</th>\n",
       "      <td>3244-50 Reynard Way</td>\n",
       "      <td>4 Beds</td>\n",
       "      <td>4 Baths</td>\n",
       "      <td>2,000 sqft</td>\n",
       "      <td>Year Built: 1952</td>\n",
       "      <td>No Info</td>\n",
       "      <td>$3,950,000</td>\n",
       "    </tr>\n",
       "    <tr>\n",
       "      <th>24</th>\n",
       "      <td>4686 Mount Alifan Dr</td>\n",
       "      <td>3 Beds</td>\n",
       "      <td>2 Baths</td>\n",
       "      <td>1,252 sqft</td>\n",
       "      <td>Year Built: 1959</td>\n",
       "      <td>2 Car Garage</td>\n",
       "      <td>$1,255,000</td>\n",
       "    </tr>\n",
       "    <tr>\n",
       "      <th>25</th>\n",
       "      <td>3246 Geronimo Ave</td>\n",
       "      <td>5 Beds</td>\n",
       "      <td>5 Baths</td>\n",
       "      <td>3,367 sqft</td>\n",
       "      <td>Year Built: 1990</td>\n",
       "      <td>1 Car Garage</td>\n",
       "      <td>$2,590,000</td>\n",
       "    </tr>\n",
       "    <tr>\n",
       "      <th>26</th>\n",
       "      <td>6391 Caminito Marcial</td>\n",
       "      <td>3 Beds</td>\n",
       "      <td>2 Baths</td>\n",
       "      <td>1,530 sqft</td>\n",
       "      <td>Year Built: 1974</td>\n",
       "      <td>1 Car Garage</td>\n",
       "      <td>$760,000</td>\n",
       "    </tr>\n",
       "    <tr>\n",
       "      <th>27</th>\n",
       "      <td>700 W  Harbor Dr   W  #2003</td>\n",
       "      <td>2 Beds</td>\n",
       "      <td>2 Baths</td>\n",
       "      <td>1,374 sqft</td>\n",
       "      <td>Year Built: 2004</td>\n",
       "      <td>2 Car Garage</td>\n",
       "      <td>$1,499,900</td>\n",
       "    </tr>\n",
       "    <tr>\n",
       "      <th>28</th>\n",
       "      <td>12539 El Camino Real #C</td>\n",
       "      <td>3 Beds</td>\n",
       "      <td>3 Baths</td>\n",
       "      <td>1,533 sqft (on 0.57 acres)</td>\n",
       "      <td>Year Built: 1998</td>\n",
       "      <td>2 Car Garage</td>\n",
       "      <td>$1,149,000</td>\n",
       "    </tr>\n",
       "    <tr>\n",
       "      <th>29</th>\n",
       "      <td>9328 Song Bird Way</td>\n",
       "      <td>4 Beds</td>\n",
       "      <td>3 Baths</td>\n",
       "      <td>2,226 sqft</td>\n",
       "      <td>Year Built: 2023</td>\n",
       "      <td>2 Car Garage</td>\n",
       "      <td>$963,000</td>\n",
       "    </tr>\n",
       "    <tr>\n",
       "      <th>30</th>\n",
       "      <td>10209 W  River Bluff Dr</td>\n",
       "      <td>3 Beds</td>\n",
       "      <td>3 Baths</td>\n",
       "      <td>2,016 sqft</td>\n",
       "      <td>Year Built: 2023</td>\n",
       "      <td>2 Car Garage</td>\n",
       "      <td>$933,000</td>\n",
       "    </tr>\n",
       "    <tr>\n",
       "      <th>31</th>\n",
       "      <td>9300 Song Bird Way</td>\n",
       "      <td>4 Beds</td>\n",
       "      <td>3 Baths</td>\n",
       "      <td>2,226 sqft</td>\n",
       "      <td>Year Built: 2023</td>\n",
       "      <td>2 Car Garage</td>\n",
       "      <td>$967,000</td>\n",
       "    </tr>\n",
       "    <tr>\n",
       "      <th>32</th>\n",
       "      <td>17287 Regalo Ln</td>\n",
       "      <td>4 Beds</td>\n",
       "      <td>2 Baths</td>\n",
       "      <td>2,228 sqft (on 0.31 acres)</td>\n",
       "      <td>Year Built: 1972</td>\n",
       "      <td>2 Car Garage</td>\n",
       "      <td>$1,349,900</td>\n",
       "    </tr>\n",
       "    <tr>\n",
       "      <th>33</th>\n",
       "      <td>211 Almazon St</td>\n",
       "      <td></td>\n",
       "      <td></td>\n",
       "      <td></td>\n",
       "      <td></td>\n",
       "      <td>No Info</td>\n",
       "      <td>$399,000</td>\n",
       "    </tr>\n",
       "    <tr>\n",
       "      <th>34</th>\n",
       "      <td>9534 Vervain St</td>\n",
       "      <td>4 Beds</td>\n",
       "      <td>3 Baths</td>\n",
       "      <td>2,217 sqft</td>\n",
       "      <td>Year Built: 1987</td>\n",
       "      <td>2 Car Garage</td>\n",
       "      <td>$1,349,900</td>\n",
       "    </tr>\n",
       "    <tr>\n",
       "      <th>35</th>\n",
       "      <td>1565 Northrim Ct #295</td>\n",
       "      <td>1 Bed</td>\n",
       "      <td>1 Bath</td>\n",
       "      <td>840 sqft</td>\n",
       "      <td>Year Built: 1980</td>\n",
       "      <td>1 Car Garage</td>\n",
       "      <td>$635,000</td>\n",
       "    </tr>\n",
       "    <tr>\n",
       "      <th>36</th>\n",
       "      <td>4677 Pescadero Ave</td>\n",
       "      <td>2 Beds</td>\n",
       "      <td>1 Bath</td>\n",
       "      <td>870 sqft</td>\n",
       "      <td>Year Built: 1948</td>\n",
       "      <td>No Info</td>\n",
       "      <td>$1,199,000</td>\n",
       "    </tr>\n",
       "    <tr>\n",
       "      <th>37</th>\n",
       "      <td>6734 University Ave</td>\n",
       "      <td>1 Bed</td>\n",
       "      <td>1 Bath</td>\n",
       "      <td>535 sqft</td>\n",
       "      <td>Year Built: 1981</td>\n",
       "      <td>No Info</td>\n",
       "      <td>$349,990</td>\n",
       "    </tr>\n",
       "  </tbody>\n",
       "</table>\n",
       "</div>"
      ],
      "text/plain": [
       "                        Address Bedrooms Bathrooms  \\\n",
       "0     3820-3820 Quarter Mile Dr   3 Beds   3 Baths   \n",
       "1          700 W  East St #1901   3 Beds   2 Baths   \n",
       "2                 50 Montego Ct   3 Beds   3 Baths   \n",
       "3              6296 Lisieux Ter   3 Beds   2 Baths   \n",
       "4               1328 S  58th St   4 Beds   2 Baths   \n",
       "5             617 Westbourne St   3 Beds   2 Baths   \n",
       "6   700 W  Harbor Dr   W  #2902   2 Beds   2 Baths   \n",
       "7     7980 Mission Center Ct #F   2 Beds    1 Bath   \n",
       "8            8334 Glen Vista Ct   4 Beds   2 Baths   \n",
       "9       721-723 San Fernando Pl   6 Beds   6 Baths   \n",
       "10    1307 Caminito Gabaldon #E    1 Bed    1 Bath   \n",
       "11      3050 Rue D Orleans #321    1 Bed    1 Bath   \n",
       "12        3340 Del Sol Blvd #12   2 Beds   2 Baths   \n",
       "13              13522 Calais Dr   4 Beds   2 Baths   \n",
       "14          5159 Marlborough Dr   2 Beds   2 Baths   \n",
       "15        211 Almazon St   #211                      \n",
       "16          3907 Georgia St #26    1 Bed    1 Bath   \n",
       "17             3749 Kingsley St   3 Beds    1 Bath   \n",
       "18            1806 McKee St #A3   2 Beds   3 Baths   \n",
       "19               3851 Curtis St   4 Beds   2 Baths   \n",
       "20              6711 Kenmar Way   5 Beds   6 Baths   \n",
       "21            8909 Fallwood Ave   4 Beds   2 Baths   \n",
       "22                   823 9th St   4 Beds   4 Baths   \n",
       "23          3244-50 Reynard Way   4 Beds   4 Baths   \n",
       "24         4686 Mount Alifan Dr   3 Beds   2 Baths   \n",
       "25            3246 Geronimo Ave   5 Beds   5 Baths   \n",
       "26        6391 Caminito Marcial   3 Beds   2 Baths   \n",
       "27  700 W  Harbor Dr   W  #2003   2 Beds   2 Baths   \n",
       "28      12539 El Camino Real #C   3 Beds   3 Baths   \n",
       "29           9328 Song Bird Way   4 Beds   3 Baths   \n",
       "30      10209 W  River Bluff Dr   3 Beds   3 Baths   \n",
       "31           9300 Song Bird Way   4 Beds   3 Baths   \n",
       "32              17287 Regalo Ln   4 Beds   2 Baths   \n",
       "33               211 Almazon St                      \n",
       "34              9534 Vervain St   4 Beds   3 Baths   \n",
       "35        1565 Northrim Ct #295    1 Bed    1 Bath   \n",
       "36           4677 Pescadero Ave   2 Beds    1 Bath   \n",
       "37          6734 University Ave    1 Bed    1 Bath   \n",
       "\n",
       "                          Area        Year Built       Parking       Price  \n",
       "0                   1,947 sqft  Year Built: 2004  2 Car Garage  $1,539,000  \n",
       "1                   1,315 sqft  Year Built: 2007        Garage  $1,240,000  \n",
       "2                   1,492 sqft  Year Built: 1982        Garage  $1,490,000  \n",
       "3                   1,762 sqft  Year Built: 1976        Garage  $1,395,000  \n",
       "4                   2,178 sqft  Year Built: 1963        Garage    $859,000  \n",
       "5                   1,718 sqft  Year Built: 1980        Garage  $1,495,000  \n",
       "6                   2,047 sqft  Year Built: 2004  2 Car Garage  $2,999,900  \n",
       "7                     726 sqft  Year Built: 1981        Garage    $449,000  \n",
       "8                   1,986 sqft  Year Built: 1975  2 Car Garage    $749,995  \n",
       "9                   2,870 sqft  Year Built: 1991  4 Car Garage  $3,750,000  \n",
       "10                    726 sqft  Year Built: 1975        Garage    $399,900  \n",
       "11                    547 sqft  Year Built: 1969        Garage    $485,000  \n",
       "12                  1,344 sqft  Year Built: 1978        Garage    $247,000  \n",
       "13                  1,665 sqft  Year Built: 1970  3 Car Garage  $2,050,000  \n",
       "14                  2,124 sqft  Year Built: 1926        Garage  $2,150,000  \n",
       "15                                                     No Info    $399,000  \n",
       "16                    657 sqft  Year Built: 1997        Garage    $458,900  \n",
       "17                  1,087 sqft  Year Built: 1951  1 Car Garage  $1,099,000  \n",
       "18                  1,430 sqft  Year Built: 1982        Garage    $749,000  \n",
       "19                  1,640 sqft  Year Built: 1965  2 Car Garage  $1,295,000  \n",
       "20                  3,789 sqft  Year Built: 2017  3 Car Garage  $3,149,000  \n",
       "21                  1,550 sqft  Year Built: 1974  2 Car Garage  $1,085,777  \n",
       "22                  2,400 sqft  Year Built: 2023        Garage  $3,485,000  \n",
       "23                  2,000 sqft  Year Built: 1952       No Info  $3,950,000  \n",
       "24                  1,252 sqft  Year Built: 1959  2 Car Garage  $1,255,000  \n",
       "25                  3,367 sqft  Year Built: 1990  1 Car Garage  $2,590,000  \n",
       "26                  1,530 sqft  Year Built: 1974  1 Car Garage    $760,000  \n",
       "27                  1,374 sqft  Year Built: 2004  2 Car Garage  $1,499,900  \n",
       "28  1,533 sqft (on 0.57 acres)  Year Built: 1998  2 Car Garage  $1,149,000  \n",
       "29                  2,226 sqft  Year Built: 2023  2 Car Garage    $963,000  \n",
       "30                  2,016 sqft  Year Built: 2023  2 Car Garage    $933,000  \n",
       "31                  2,226 sqft  Year Built: 2023  2 Car Garage    $967,000  \n",
       "32  2,228 sqft (on 0.31 acres)  Year Built: 1972  2 Car Garage  $1,349,900  \n",
       "33                                                     No Info    $399,000  \n",
       "34                  2,217 sqft  Year Built: 1987  2 Car Garage  $1,349,900  \n",
       "35                    840 sqft  Year Built: 1980  1 Car Garage    $635,000  \n",
       "36                    870 sqft  Year Built: 1948       No Info  $1,199,000  \n",
       "37                    535 sqft  Year Built: 1981       No Info    $349,990  "
      ]
     },
     "execution_count": 203,
     "metadata": {},
     "output_type": "execute_result"
    }
   ],
   "source": [
    "#putting output in a DataFrame\n",
    "df = pd.DataFrame(output)\n",
    "df"
   ]
  },
  {
   "cell_type": "markdown",
   "id": "57b2c052",
   "metadata": {},
   "source": [
    "## Accessing Multiple Pages of Results\n",
    "Getting multiple pages worth of data."
   ]
  },
  {
   "cell_type": "markdown",
   "id": "68b3735a",
   "metadata": {},
   "source": [
    "### Gathering all links from 25 pages"
   ]
  },
  {
   "cell_type": "code",
   "execution_count": 28,
   "id": "bd900894",
   "metadata": {},
   "outputs": [],
   "source": [
    "url_1 = 'https://www.trulia.com'\n",
    "url_joined = []\n",
    "\n",
    "for i in range(1,26):\n",
    "    #https://www.trulia.com/CA/San_Diego/2_p/\n",
    "    website = 'https://www.trulia.com/CA/San_Diego/' + str(i) + '_p/'\n",
    "    \n",
    "    #request\n",
    "    driver4 = webdriver.Edge()\n",
    "    response = driver4.get(website)\n",
    "    WebDriverWait(driver4, 10).until(EC.visibility_of_element_located((By.CSS_SELECTOR, 'ul[data-testid=\"search-result-list-container\"]')))\n",
    "    driver4.maximize_window()\n",
    "    time.sleep(10) \n",
    "\n",
    "    #create soup object\n",
    "    soup4 = BeautifulSoup(driver4.page_source, 'html.parser')\n",
    "    \n",
    "    #result container \n",
    "    result_container = soup4.find_all('li', {'class':'sc-fc01d244-0'})\n",
    "    len(result_container)\n",
    "    \n",
    "    results_update = []\n",
    "\n",
    "    for results in result_container: \n",
    "        if results.has_attr('data-testid'):\n",
    "            results_update.append(results)\n",
    "    \n",
    "    #relative url\n",
    "    relative_url = []\n",
    "    #loop through the results in the results_update list for item\n",
    "    for item in results_update:\n",
    "        for link in item.find_all('div', {'data-testid':'property-card-details'}):\n",
    "            relative_url.append(link.find('a').get('href'))\n",
    "    len(relative_url)\n",
    "    #joining urls\n",
    "    for link_2 in relative_url: \n",
    "        url_joined.append(urllib.parse.urljoin(url_1, link_2))\n",
    "    \n"
   ]
  },
  {
   "cell_type": "code",
   "execution_count": 29,
   "id": "fd981dbb",
   "metadata": {},
   "outputs": [
    {
     "data": {
      "text/plain": [
       "918"
      ]
     },
     "execution_count": 29,
     "metadata": {},
     "output_type": "execute_result"
    }
   ],
   "source": [
    "len(url_joined)"
   ]
  },
  {
   "cell_type": "markdown",
   "id": "4434f26f",
   "metadata": {},
   "source": [
    "### Going through each link and generating data"
   ]
  },
  {
   "cell_type": "code",
   "execution_count": 30,
   "id": "2cc57f51",
   "metadata": {},
   "outputs": [],
   "source": [
    "# create lists with data \n",
    "address = []\n",
    "bedrooms = []\n",
    "bathrooms = []\n",
    "area = []\n",
    "year_built = []\n",
    "parking = []\n",
    "price = []\n",
    "\n",
    "\n",
    "for link in url_joined:\n",
    "    driver3 = webdriver.Edge()\n",
    "    response = driver3.get(link)\n",
    "    #create soup object\n",
    "    soup3 = BeautifulSoup(driver3.page_source, 'html.parser')\n",
    "    \n",
    "    try:\n",
    "        address.append(soup3.find('span',{'data-testid':'home-details-summary-headline'}).get_text())\n",
    "    except:\n",
    "        address.append('')\n",
    "        \n",
    "    try:\n",
    "        bedrooms.append(soup3.find('li', {'data-testid':'bed'}).get_text())\n",
    "    except:\n",
    "        bedrooms.append('')\n",
    "    \n",
    "    try:\n",
    "        bathrooms.append(soup3.find('li', {'data-testid':'bath'}).get_text())\n",
    "    except:\n",
    "        bathrooms.append('')\n",
    "    \n",
    "    try:\n",
    "        area.append(soup3.find('li', {'data-testid':'floor'}).get_text())\n",
    "    except: \n",
    "        area.append('')\n",
    "    \n",
    "    try:\n",
    "        year_built.append(soup3.find('div', string = 'Year Built').findNext('div').findNext('div').get_text())\n",
    "    except: \n",
    "        year_built.append('')\n",
    "        \n",
    "    try:\n",
    "        parking.append(soup3.find('div', string = 'Parking').findNext('div').findNext('div').get_text())\n",
    "    except:\n",
    "        parking.append('')\n",
    "    \n",
    "    try:\n",
    "        price.append(soup3.find('h3', {'data-testid':'on-market-price-details'}).get_text())\n",
    "    except:\n",
    "        price.append('')\n",
    "        \n",
    "    output = {'Address':address, 'Bedrooms':bedrooms, 'Bathrooms':bathrooms, 'Area':area, \n",
    "             'Year Built':year_built, 'Parking':parking, 'Price':price}\n",
    "    \n",
    "    #closing the driver at the end\n",
    "    driver3.close()\n",
    "    \n",
    "    \n",
    "    "
   ]
  },
  {
   "cell_type": "code",
   "execution_count": 31,
   "id": "ba00df4a",
   "metadata": {
    "scrolled": true
   },
   "outputs": [
    {
     "data": {
      "text/html": [
       "<div>\n",
       "<style scoped>\n",
       "    .dataframe tbody tr th:only-of-type {\n",
       "        vertical-align: middle;\n",
       "    }\n",
       "\n",
       "    .dataframe tbody tr th {\n",
       "        vertical-align: top;\n",
       "    }\n",
       "\n",
       "    .dataframe thead th {\n",
       "        text-align: right;\n",
       "    }\n",
       "</style>\n",
       "<table border=\"1\" class=\"dataframe\">\n",
       "  <thead>\n",
       "    <tr style=\"text-align: right;\">\n",
       "      <th></th>\n",
       "      <th>Address</th>\n",
       "      <th>Bedrooms</th>\n",
       "      <th>Bathrooms</th>\n",
       "      <th>Area</th>\n",
       "      <th>Year Built</th>\n",
       "      <th>Parking</th>\n",
       "      <th>Price</th>\n",
       "    </tr>\n",
       "  </thead>\n",
       "  <tbody>\n",
       "    <tr>\n",
       "      <th>0</th>\n",
       "      <td>5418 Harvest Run Dr</td>\n",
       "      <td>6 Beds</td>\n",
       "      <td>6 Baths</td>\n",
       "      <td>4,687 sqft</td>\n",
       "      <td>Year Built: 2001</td>\n",
       "      <td>3 Car Garage</td>\n",
       "      <td>$3,295,000</td>\n",
       "    </tr>\n",
       "    <tr>\n",
       "      <th>1</th>\n",
       "      <td>4368 42nd St #3</td>\n",
       "      <td>2 Beds</td>\n",
       "      <td>2 Baths</td>\n",
       "      <td>947 sqft</td>\n",
       "      <td>Year Built: 1984</td>\n",
       "      <td>Garage</td>\n",
       "      <td>$629,000</td>\n",
       "    </tr>\n",
       "    <tr>\n",
       "      <th>2</th>\n",
       "      <td>6415 Benson Ave</td>\n",
       "      <td>5 Beds</td>\n",
       "      <td>3 Baths</td>\n",
       "      <td>1,789 sqft (on 19,467 acres)</td>\n",
       "      <td>Year Built: 1987</td>\n",
       "      <td>2 Car Garage</td>\n",
       "      <td>$699,000</td>\n",
       "    </tr>\n",
       "    <tr>\n",
       "      <th>3</th>\n",
       "      <td>16326 Avenida Venusto #B</td>\n",
       "      <td>3 Beds</td>\n",
       "      <td>3 Baths</td>\n",
       "      <td>1,632 sqft (on 8.45 acres)</td>\n",
       "      <td>Year Built: 1990</td>\n",
       "      <td>2 Car Garage</td>\n",
       "      <td>$799,000</td>\n",
       "    </tr>\n",
       "    <tr>\n",
       "      <th>4</th>\n",
       "      <td>3820-3820 Quarter Mile Dr</td>\n",
       "      <td>3 Beds</td>\n",
       "      <td>3 Baths</td>\n",
       "      <td>1,947 sqft</td>\n",
       "      <td>Year Built: 2004</td>\n",
       "      <td>2 Car Garage</td>\n",
       "      <td>$1,539,000</td>\n",
       "    </tr>\n",
       "    <tr>\n",
       "      <th>...</th>\n",
       "      <td>...</td>\n",
       "      <td>...</td>\n",
       "      <td>...</td>\n",
       "      <td>...</td>\n",
       "      <td>...</td>\n",
       "      <td>...</td>\n",
       "      <td>...</td>\n",
       "    </tr>\n",
       "    <tr>\n",
       "      <th>913</th>\n",
       "      <td>8517 Even Seth Cir</td>\n",
       "      <td>4 Beds</td>\n",
       "      <td>3 Baths</td>\n",
       "      <td>2,217 sqft</td>\n",
       "      <td>Year Built: 2018</td>\n",
       "      <td>3 Car Garage</td>\n",
       "      <td>$1,199,000</td>\n",
       "    </tr>\n",
       "    <tr>\n",
       "      <th>914</th>\n",
       "      <td>13104 Dana Vista St #350</td>\n",
       "      <td>4 Beds</td>\n",
       "      <td>2 Baths</td>\n",
       "      <td>1,980 sqft</td>\n",
       "      <td>Year Built: 2006</td>\n",
       "      <td>Carport</td>\n",
       "      <td>$395,500</td>\n",
       "    </tr>\n",
       "    <tr>\n",
       "      <th>915</th>\n",
       "      <td>3906 Stanford Dr</td>\n",
       "      <td>4 Beds</td>\n",
       "      <td>3 Baths</td>\n",
       "      <td>2,398 sqft</td>\n",
       "      <td>Year Built: 1992</td>\n",
       "      <td>3 Car Garage</td>\n",
       "      <td>$975,000</td>\n",
       "    </tr>\n",
       "    <tr>\n",
       "      <th>916</th>\n",
       "      <td>3365 Donna Dr</td>\n",
       "      <td>3 Beds</td>\n",
       "      <td>3 Baths</td>\n",
       "      <td>1,680 sqft</td>\n",
       "      <td>Year Built: 1976</td>\n",
       "      <td>2 Car Garage</td>\n",
       "      <td>$1,495,000</td>\n",
       "    </tr>\n",
       "    <tr>\n",
       "      <th>917</th>\n",
       "      <td>15928 Cumberland Dr</td>\n",
       "      <td>5 Beds</td>\n",
       "      <td>3 Baths</td>\n",
       "      <td>3,071 sqft (on 0.67 acres)</td>\n",
       "      <td>Year Built: 1989</td>\n",
       "      <td>Garage</td>\n",
       "      <td>$1,725,000</td>\n",
       "    </tr>\n",
       "  </tbody>\n",
       "</table>\n",
       "<p>918 rows × 7 columns</p>\n",
       "</div>"
      ],
      "text/plain": [
       "                       Address Bedrooms Bathrooms  \\\n",
       "0          5418 Harvest Run Dr   6 Beds   6 Baths   \n",
       "1              4368 42nd St #3   2 Beds   2 Baths   \n",
       "2              6415 Benson Ave   5 Beds   3 Baths   \n",
       "3     16326 Avenida Venusto #B   3 Beds   3 Baths   \n",
       "4    3820-3820 Quarter Mile Dr   3 Beds   3 Baths   \n",
       "..                         ...      ...       ...   \n",
       "913         8517 Even Seth Cir   4 Beds   3 Baths   \n",
       "914   13104 Dana Vista St #350   4 Beds   2 Baths   \n",
       "915           3906 Stanford Dr   4 Beds   3 Baths   \n",
       "916              3365 Donna Dr   3 Beds   3 Baths   \n",
       "917        15928 Cumberland Dr   5 Beds   3 Baths   \n",
       "\n",
       "                             Area        Year Built       Parking       Price  \n",
       "0                      4,687 sqft  Year Built: 2001  3 Car Garage  $3,295,000  \n",
       "1                        947 sqft  Year Built: 1984        Garage    $629,000  \n",
       "2    1,789 sqft (on 19,467 acres)  Year Built: 1987  2 Car Garage    $699,000  \n",
       "3      1,632 sqft (on 8.45 acres)  Year Built: 1990  2 Car Garage    $799,000  \n",
       "4                      1,947 sqft  Year Built: 2004  2 Car Garage  $1,539,000  \n",
       "..                            ...               ...           ...         ...  \n",
       "913                    2,217 sqft  Year Built: 2018  3 Car Garage  $1,199,000  \n",
       "914                    1,980 sqft  Year Built: 2006       Carport    $395,500  \n",
       "915                    2,398 sqft  Year Built: 1992  3 Car Garage    $975,000  \n",
       "916                    1,680 sqft  Year Built: 1976  2 Car Garage  $1,495,000  \n",
       "917    3,071 sqft (on 0.67 acres)  Year Built: 1989        Garage  $1,725,000  \n",
       "\n",
       "[918 rows x 7 columns]"
      ]
     },
     "execution_count": 31,
     "metadata": {},
     "output_type": "execute_result"
    }
   ],
   "source": [
    "#putting output in a DataFrame\n",
    "df = pd.DataFrame(output)\n",
    "df"
   ]
  },
  {
   "cell_type": "markdown",
   "id": "88339bc5",
   "metadata": {},
   "source": [
    "### Output to CSV file"
   ]
  },
  {
   "cell_type": "code",
   "execution_count": 32,
   "id": "c4150194",
   "metadata": {},
   "outputs": [],
   "source": [
    "df.to_csv('SanDiego_Data', encoding='utf-8', index=False)\n"
   ]
  }
 ],
 "metadata": {
  "kernelspec": {
   "display_name": "Python 3 (ipykernel)",
   "language": "python",
   "name": "python3"
  },
  "language_info": {
   "codemirror_mode": {
    "name": "ipython",
    "version": 3
   },
   "file_extension": ".py",
   "mimetype": "text/x-python",
   "name": "python",
   "nbconvert_exporter": "python",
   "pygments_lexer": "ipython3",
   "version": "3.9.13"
  }
 },
 "nbformat": 4,
 "nbformat_minor": 5
}
