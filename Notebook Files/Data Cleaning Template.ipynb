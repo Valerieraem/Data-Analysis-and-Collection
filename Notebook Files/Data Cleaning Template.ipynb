{
 "cells": [
  {
   "cell_type": "markdown",
   "id": "204376d1",
   "metadata": {},
   "source": [
    "# Data Cleaning Step\n",
    "## Need to combine all datasets, and start data cleaning process. Steps listed below"
   ]
  },
  {
   "cell_type": "markdown",
   "id": "56266c30",
   "metadata": {},
   "source": [
    "- Check for missing data \n",
    "\n",
    "- Check for outliers and doubles \n",
    "\n",
    "- Change Price Column\n",
    "    - Cut dollar sign\n",
    "    - cut , in price\n",
    "    \n",
    "- Change Area Column \n",
    "    - Cut sqft from string and , \n",
    "    \n",
    "- Bedrooms / Bathrooms \n",
    "    - cut beds and baths, change studio to 1 room \n",
    "\n",
    "- Parking \n",
    "    - change to yes/no \n",
    "\n",
    "- Convert All Numbers to Integers\n",
    "\n",
    "- Make new column 'price/sqft' "
   ]
  },
  {
   "cell_type": "markdown",
   "id": "32b82543",
   "metadata": {},
   "source": [
    "### Imports"
   ]
  },
  {
   "cell_type": "code",
   "execution_count": 156,
   "id": "a16f7024",
   "metadata": {},
   "outputs": [],
   "source": [
    "import pandas as pd\n",
    "import os\n",
    "import seaborn as sns\n",
    "from pandas.api.types import is_string_dtype\n",
    "from pandas.api.types import is_numeric_dtype"
   ]
  },
  {
   "cell_type": "markdown",
   "id": "194c0bd0",
   "metadata": {},
   "source": [
    "## Combining All Datasets"
   ]
  },
  {
   "cell_type": "code",
   "execution_count": 3,
   "id": "2d50a09a",
   "metadata": {},
   "outputs": [],
   "source": [
    "dfInd = pd.read_csv('Indianapolis_DataFinal.csv')\n",
    "dfCol = pd.read_csv('ColoradoSprings_Data.csv')\n",
    "dfAlb = pd.read_csv('Albuquerque_Data.csv')\n",
    "dfPhil = pd.read_csv('Philadelphia_Data.csv')\n",
    "dfSan = pd.read_csv('SanDiego_Data.csv')"
   ]
  },
  {
   "cell_type": "code",
   "execution_count": 4,
   "id": "cb11267f",
   "metadata": {},
   "outputs": [],
   "source": [
    "dfcombined = pd.concat([dfInd, dfCol, dfAlb, dfPhil, dfSan], ignore_index=True, sort=False)"
   ]
  },
  {
   "cell_type": "code",
   "execution_count": 6,
   "id": "be012e7b",
   "metadata": {},
   "outputs": [],
   "source": [
    "dfcombined.to_csv('CombinedData.csv', encoding='utf-8', index=False)"
   ]
  },
  {
   "cell_type": "code",
   "execution_count": 40,
   "id": "f937e857",
   "metadata": {},
   "outputs": [],
   "source": [
    "dfcombined = pd.read_csv('CombinedData.csv')"
   ]
  },
  {
   "cell_type": "markdown",
   "id": "c20b2e3a",
   "metadata": {},
   "source": [
    "## Data Cleaning Process"
   ]
  },
  {
   "cell_type": "code",
   "execution_count": 41,
   "id": "f1207720",
   "metadata": {
    "scrolled": true
   },
   "outputs": [
    {
     "name": "stdout",
     "output_type": "stream",
     "text": [
      "<class 'pandas.core.frame.DataFrame'>\n",
      "RangeIndex: 5208 entries, 0 to 5207\n",
      "Data columns (total 8 columns):\n",
      " #   Column      Non-Null Count  Dtype \n",
      "---  ------      --------------  ----- \n",
      " 0   Address     4940 non-null   object\n",
      " 1   Bedrooms    4389 non-null   object\n",
      " 2   Bathrooms   4293 non-null   object\n",
      " 3   Area        4253 non-null   object\n",
      " 4   Year Built  4319 non-null   object\n",
      " 5   Parking     4940 non-null   object\n",
      " 6   Price       4928 non-null   object\n",
      " 7   Location    5208 non-null   object\n",
      "dtypes: object(8)\n",
      "memory usage: 325.6+ KB\n"
     ]
    }
   ],
   "source": [
    "dfcombined.info()"
   ]
  },
  {
   "cell_type": "markdown",
   "id": "1b383aee",
   "metadata": {},
   "source": [
    "### Getting rid of NA values"
   ]
  },
  {
   "cell_type": "code",
   "execution_count": 42,
   "id": "b462cbf6",
   "metadata": {
    "scrolled": true
   },
   "outputs": [
    {
     "data": {
      "text/html": [
       "<div>\n",
       "<style scoped>\n",
       "    .dataframe tbody tr th:only-of-type {\n",
       "        vertical-align: middle;\n",
       "    }\n",
       "\n",
       "    .dataframe tbody tr th {\n",
       "        vertical-align: top;\n",
       "    }\n",
       "\n",
       "    .dataframe thead th {\n",
       "        text-align: right;\n",
       "    }\n",
       "</style>\n",
       "<table border=\"1\" class=\"dataframe\">\n",
       "  <thead>\n",
       "    <tr style=\"text-align: right;\">\n",
       "      <th></th>\n",
       "      <th>Address</th>\n",
       "      <th>Bedrooms</th>\n",
       "      <th>Bathrooms</th>\n",
       "      <th>Area</th>\n",
       "      <th>Year Built</th>\n",
       "      <th>Parking</th>\n",
       "      <th>Price</th>\n",
       "      <th>Location</th>\n",
       "    </tr>\n",
       "  </thead>\n",
       "  <tbody>\n",
       "    <tr>\n",
       "      <th>8</th>\n",
       "      <td>8355 Fieldfare Way</td>\n",
       "      <td>NaN</td>\n",
       "      <td>NaN</td>\n",
       "      <td>NaN</td>\n",
       "      <td>NaN</td>\n",
       "      <td>No Info</td>\n",
       "      <td>$40,000</td>\n",
       "      <td>Indianapolis</td>\n",
       "    </tr>\n",
       "    <tr>\n",
       "      <th>13</th>\n",
       "      <td>11805 E  62nd St</td>\n",
       "      <td>Studio</td>\n",
       "      <td>NaN</td>\n",
       "      <td>NaN</td>\n",
       "      <td>NaN</td>\n",
       "      <td>No Info</td>\n",
       "      <td>$3,000,000</td>\n",
       "      <td>Indianapolis</td>\n",
       "    </tr>\n",
       "    <tr>\n",
       "      <th>20</th>\n",
       "      <td>41 N  Euclid Ave</td>\n",
       "      <td>6 Beds</td>\n",
       "      <td>3 Baths</td>\n",
       "      <td>NaN</td>\n",
       "      <td>Year Built: 1920</td>\n",
       "      <td>No Info</td>\n",
       "      <td>$199,900</td>\n",
       "      <td>Indianapolis</td>\n",
       "    </tr>\n",
       "    <tr>\n",
       "      <th>58</th>\n",
       "      <td>2937 W  10th St</td>\n",
       "      <td>5 Beds</td>\n",
       "      <td>5 Baths</td>\n",
       "      <td>NaN</td>\n",
       "      <td>Year Built: 1913</td>\n",
       "      <td>No Info</td>\n",
       "      <td>$259,990</td>\n",
       "      <td>Indianapolis</td>\n",
       "    </tr>\n",
       "    <tr>\n",
       "      <th>59</th>\n",
       "      <td>7338 Five Points Rd</td>\n",
       "      <td>NaN</td>\n",
       "      <td>NaN</td>\n",
       "      <td>NaN</td>\n",
       "      <td>NaN</td>\n",
       "      <td>No Info</td>\n",
       "      <td>$595,000</td>\n",
       "      <td>Indianapolis</td>\n",
       "    </tr>\n",
       "    <tr>\n",
       "      <th>...</th>\n",
       "      <td>...</td>\n",
       "      <td>...</td>\n",
       "      <td>...</td>\n",
       "      <td>...</td>\n",
       "      <td>...</td>\n",
       "      <td>...</td>\n",
       "      <td>...</td>\n",
       "      <td>...</td>\n",
       "    </tr>\n",
       "    <tr>\n",
       "      <th>5181</th>\n",
       "      <td>Vacant Lot Off Eldorado Dr</td>\n",
       "      <td>NaN</td>\n",
       "      <td>NaN</td>\n",
       "      <td>NaN</td>\n",
       "      <td>NaN</td>\n",
       "      <td>No Info</td>\n",
       "      <td>$1,560,000</td>\n",
       "      <td>San Diego</td>\n",
       "    </tr>\n",
       "    <tr>\n",
       "      <th>5182</th>\n",
       "      <td>2500 6th Ave #4</td>\n",
       "      <td>4 Beds</td>\n",
       "      <td>5 Baths</td>\n",
       "      <td>5,000 sqft</td>\n",
       "      <td>NaN</td>\n",
       "      <td>Garage</td>\n",
       "      <td>$14,995,000</td>\n",
       "      <td>San Diego</td>\n",
       "    </tr>\n",
       "    <tr>\n",
       "      <th>5188</th>\n",
       "      <td>3971 32nd St</td>\n",
       "      <td>NaN</td>\n",
       "      <td>NaN</td>\n",
       "      <td>NaN</td>\n",
       "      <td>NaN</td>\n",
       "      <td>No Info</td>\n",
       "      <td>$2,850,000</td>\n",
       "      <td>San Diego</td>\n",
       "    </tr>\n",
       "    <tr>\n",
       "      <th>5199</th>\n",
       "      <td>7570 La Jolla Blvd</td>\n",
       "      <td>NaN</td>\n",
       "      <td>NaN</td>\n",
       "      <td>NaN</td>\n",
       "      <td>NaN</td>\n",
       "      <td>No Info</td>\n",
       "      <td>$6,390,000</td>\n",
       "      <td>San Diego</td>\n",
       "    </tr>\n",
       "    <tr>\n",
       "      <th>5200</th>\n",
       "      <td>4576 32nd St</td>\n",
       "      <td>4 Beds</td>\n",
       "      <td>NaN</td>\n",
       "      <td>1,998 sqft</td>\n",
       "      <td>Year Built: 1925</td>\n",
       "      <td>Garage</td>\n",
       "      <td>$1,495,000</td>\n",
       "      <td>San Diego</td>\n",
       "    </tr>\n",
       "  </tbody>\n",
       "</table>\n",
       "<p>1061 rows × 8 columns</p>\n",
       "</div>"
      ],
      "text/plain": [
       "                         Address Bedrooms Bathrooms        Area  \\\n",
       "8             8355 Fieldfare Way      NaN       NaN         NaN   \n",
       "13              11805 E  62nd St   Studio       NaN         NaN   \n",
       "20              41 N  Euclid Ave   6 Beds   3 Baths         NaN   \n",
       "58               2937 W  10th St   5 Beds   5 Baths         NaN   \n",
       "59           7338 Five Points Rd      NaN       NaN         NaN   \n",
       "...                          ...      ...       ...         ...   \n",
       "5181  Vacant Lot Off Eldorado Dr      NaN       NaN         NaN   \n",
       "5182             2500 6th Ave #4   4 Beds   5 Baths  5,000 sqft   \n",
       "5188                3971 32nd St      NaN       NaN         NaN   \n",
       "5199          7570 La Jolla Blvd      NaN       NaN         NaN   \n",
       "5200                4576 32nd St   4 Beds       NaN  1,998 sqft   \n",
       "\n",
       "            Year Built  Parking        Price      Location  \n",
       "8                  NaN  No Info      $40,000  Indianapolis  \n",
       "13                 NaN  No Info   $3,000,000  Indianapolis  \n",
       "20    Year Built: 1920  No Info     $199,900  Indianapolis  \n",
       "58    Year Built: 1913  No Info     $259,990  Indianapolis  \n",
       "59                 NaN  No Info     $595,000  Indianapolis  \n",
       "...                ...      ...          ...           ...  \n",
       "5181               NaN  No Info   $1,560,000     San Diego  \n",
       "5182               NaN   Garage  $14,995,000     San Diego  \n",
       "5188               NaN  No Info   $2,850,000     San Diego  \n",
       "5199               NaN  No Info   $6,390,000     San Diego  \n",
       "5200  Year Built: 1925   Garage   $1,495,000     San Diego  \n",
       "\n",
       "[1061 rows x 8 columns]"
      ]
     },
     "execution_count": 42,
     "metadata": {},
     "output_type": "execute_result"
    }
   ],
   "source": [
    "dfcombined[dfcombined.isna().any(axis=1)]\n",
    "#checking for at least one missing value in row"
   ]
  },
  {
   "cell_type": "code",
   "execution_count": 43,
   "id": "0686bbda",
   "metadata": {
    "scrolled": true
   },
   "outputs": [
    {
     "data": {
      "text/plain": [
       "<AxesSubplot: >"
      ]
     },
     "execution_count": 43,
     "metadata": {},
     "output_type": "execute_result"
    },
    {
     "data": {
      "image/png": "[encoded data removed]",
      "text/plain": [
       "<Figure size 640x480 with 1 Axes>"
      ]
     },
     "metadata": {},
     "output_type": "display_data"
    }
   ],
   "source": [
    "#making heatmap of missing values\n",
    "sns.heatmap(dfcombined.isna(), yticklabels = False, cbar = False, cmap = 'GnBu')"
   ]
  },
  {
   "cell_type": "code",
   "execution_count": 44,
   "id": "dd9257a6",
   "metadata": {},
   "outputs": [],
   "source": [
    "#Dropping results with n/a values\n",
    "dfcombined = dfcombined.dropna()"
   ]
  },
  {
   "cell_type": "code",
   "execution_count": 45,
   "id": "3ac64620",
   "metadata": {},
   "outputs": [
    {
     "data": {
      "text/plain": [
       "4147"
      ]
     },
     "execution_count": 45,
     "metadata": {},
     "output_type": "execute_result"
    }
   ],
   "source": [
    "len(dfcombined)"
   ]
  },
  {
   "cell_type": "code",
   "execution_count": 47,
   "id": "b8ac1644",
   "metadata": {
    "scrolled": true
   },
   "outputs": [
    {
     "name": "stdout",
     "output_type": "stream",
     "text": [
      "<class 'pandas.core.frame.DataFrame'>\n",
      "Int64Index: 4147 entries, 0 to 5207\n",
      "Data columns (total 8 columns):\n",
      " #   Column      Non-Null Count  Dtype \n",
      "---  ------      --------------  ----- \n",
      " 0   Address     4147 non-null   object\n",
      " 1   Bedrooms    4147 non-null   object\n",
      " 2   Bathrooms   4147 non-null   object\n",
      " 3   Area        4147 non-null   object\n",
      " 4   Year Built  4147 non-null   object\n",
      " 5   Parking     4147 non-null   object\n",
      " 6   Price       4147 non-null   object\n",
      " 7   Location    4147 non-null   object\n",
      "dtypes: object(8)\n",
      "memory usage: 291.6+ KB\n"
     ]
    }
   ],
   "source": [
    "#Showing that all rows have non-null values\n",
    "dfcombined.info()"
   ]
  },
  {
   "cell_type": "markdown",
   "id": "0f20c0a8",
   "metadata": {},
   "source": [
    "### Checking for duplicates"
   ]
  },
  {
   "cell_type": "code",
   "execution_count": 48,
   "id": "e03f9684",
   "metadata": {},
   "outputs": [],
   "source": [
    "dfcombined = dfcombined.reset_index(drop=True)"
   ]
  },
  {
   "cell_type": "code",
   "execution_count": 49,
   "id": "db790a0d",
   "metadata": {
    "scrolled": true
   },
   "outputs": [
    {
     "data": {
      "text/html": [
       "<div>\n",
       "<style scoped>\n",
       "    .dataframe tbody tr th:only-of-type {\n",
       "        vertical-align: middle;\n",
       "    }\n",
       "\n",
       "    .dataframe tbody tr th {\n",
       "        vertical-align: top;\n",
       "    }\n",
       "\n",
       "    .dataframe thead th {\n",
       "        text-align: right;\n",
       "    }\n",
       "</style>\n",
       "<table border=\"1\" class=\"dataframe\">\n",
       "  <thead>\n",
       "    <tr style=\"text-align: right;\">\n",
       "      <th></th>\n",
       "      <th>Address</th>\n",
       "      <th>Bedrooms</th>\n",
       "      <th>Bathrooms</th>\n",
       "      <th>Area</th>\n",
       "      <th>Year Built</th>\n",
       "      <th>Parking</th>\n",
       "      <th>Price</th>\n",
       "      <th>Location</th>\n",
       "    </tr>\n",
       "  </thead>\n",
       "  <tbody>\n",
       "    <tr>\n",
       "      <th>0</th>\n",
       "      <td>2926 Forest Manor Ave</td>\n",
       "      <td>3 Beds</td>\n",
       "      <td>1 Bath</td>\n",
       "      <td>864 sqft</td>\n",
       "      <td>Year Built: 1911</td>\n",
       "      <td>Garage</td>\n",
       "      <td>$85,000</td>\n",
       "      <td>Indianapolis</td>\n",
       "    </tr>\n",
       "    <tr>\n",
       "      <th>1</th>\n",
       "      <td>8820 Yardley Ct #208</td>\n",
       "      <td>2 Beds</td>\n",
       "      <td>2 Baths</td>\n",
       "      <td>1,070 sqft</td>\n",
       "      <td>Year Built: 1993</td>\n",
       "      <td>No Info</td>\n",
       "      <td>$159,900</td>\n",
       "      <td>Indianapolis</td>\n",
       "    </tr>\n",
       "    <tr>\n",
       "      <th>2</th>\n",
       "      <td>2169 Kildare Ave</td>\n",
       "      <td>2 Beds</td>\n",
       "      <td>1 Bath</td>\n",
       "      <td>1,544 sqft</td>\n",
       "      <td>Year Built: 1940</td>\n",
       "      <td>Garage</td>\n",
       "      <td>$152,000</td>\n",
       "      <td>Indianapolis</td>\n",
       "    </tr>\n",
       "    <tr>\n",
       "      <th>3</th>\n",
       "      <td>4741 Bridgefield Dr</td>\n",
       "      <td>2 Beds</td>\n",
       "      <td>2 Baths</td>\n",
       "      <td>1,312 sqft</td>\n",
       "      <td>Year Built: 1998</td>\n",
       "      <td>2 Car Garage</td>\n",
       "      <td>$180,000</td>\n",
       "      <td>Indianapolis</td>\n",
       "    </tr>\n",
       "    <tr>\n",
       "      <th>4</th>\n",
       "      <td>Grandover Plan in Edgewood Farms by D.R. Horto...</td>\n",
       "      <td>3 Beds</td>\n",
       "      <td>3 Baths</td>\n",
       "      <td>2,141 sqft</td>\n",
       "      <td>Year Built: 2023</td>\n",
       "      <td>No Info</td>\n",
       "      <td>$400,000+</td>\n",
       "      <td>Indianapolis</td>\n",
       "    </tr>\n",
       "    <tr>\n",
       "      <th>...</th>\n",
       "      <td>...</td>\n",
       "      <td>...</td>\n",
       "      <td>...</td>\n",
       "      <td>...</td>\n",
       "      <td>...</td>\n",
       "      <td>...</td>\n",
       "      <td>...</td>\n",
       "      <td>...</td>\n",
       "    </tr>\n",
       "    <tr>\n",
       "      <th>4142</th>\n",
       "      <td>8517 Even Seth Cir</td>\n",
       "      <td>4 Beds</td>\n",
       "      <td>3 Baths</td>\n",
       "      <td>2,217 sqft</td>\n",
       "      <td>Year Built: 2018</td>\n",
       "      <td>3 Car Garage</td>\n",
       "      <td>$1,199,000</td>\n",
       "      <td>San Diego</td>\n",
       "    </tr>\n",
       "    <tr>\n",
       "      <th>4143</th>\n",
       "      <td>13104 Dana Vista St #350</td>\n",
       "      <td>4 Beds</td>\n",
       "      <td>2 Baths</td>\n",
       "      <td>1,980 sqft</td>\n",
       "      <td>Year Built: 2006</td>\n",
       "      <td>Carport</td>\n",
       "      <td>$395,500</td>\n",
       "      <td>San Diego</td>\n",
       "    </tr>\n",
       "    <tr>\n",
       "      <th>4144</th>\n",
       "      <td>3906 Stanford Dr</td>\n",
       "      <td>4 Beds</td>\n",
       "      <td>3 Baths</td>\n",
       "      <td>2,398 sqft</td>\n",
       "      <td>Year Built: 1992</td>\n",
       "      <td>3 Car Garage</td>\n",
       "      <td>$975,000</td>\n",
       "      <td>San Diego</td>\n",
       "    </tr>\n",
       "    <tr>\n",
       "      <th>4145</th>\n",
       "      <td>3365 Donna Dr</td>\n",
       "      <td>3 Beds</td>\n",
       "      <td>3 Baths</td>\n",
       "      <td>1,680 sqft</td>\n",
       "      <td>Year Built: 1976</td>\n",
       "      <td>2 Car Garage</td>\n",
       "      <td>$1,495,000</td>\n",
       "      <td>San Diego</td>\n",
       "    </tr>\n",
       "    <tr>\n",
       "      <th>4146</th>\n",
       "      <td>15928 Cumberland Dr</td>\n",
       "      <td>5 Beds</td>\n",
       "      <td>3 Baths</td>\n",
       "      <td>3,071 sqft (on 0.67 acres)</td>\n",
       "      <td>Year Built: 1989</td>\n",
       "      <td>Garage</td>\n",
       "      <td>$1,725,000</td>\n",
       "      <td>San Diego</td>\n",
       "    </tr>\n",
       "  </tbody>\n",
       "</table>\n",
       "<p>4147 rows × 8 columns</p>\n",
       "</div>"
      ],
      "text/plain": [
       "                                                Address Bedrooms Bathrooms  \\\n",
       "0                                 2926 Forest Manor Ave   3 Beds    1 Bath   \n",
       "1                                  8820 Yardley Ct #208   2 Beds   2 Baths   \n",
       "2                                      2169 Kildare Ave   2 Beds    1 Bath   \n",
       "3                                   4741 Bridgefield Dr   2 Beds   2 Baths   \n",
       "4     Grandover Plan in Edgewood Farms by D.R. Horto...   3 Beds   3 Baths   \n",
       "...                                                 ...      ...       ...   \n",
       "4142                                 8517 Even Seth Cir   4 Beds   3 Baths   \n",
       "4143                           13104 Dana Vista St #350   4 Beds   2 Baths   \n",
       "4144                                   3906 Stanford Dr   4 Beds   3 Baths   \n",
       "4145                                      3365 Donna Dr   3 Beds   3 Baths   \n",
       "4146                                15928 Cumberland Dr   5 Beds   3 Baths   \n",
       "\n",
       "                            Area        Year Built       Parking       Price  \\\n",
       "0                       864 sqft  Year Built: 1911        Garage     $85,000   \n",
       "1                     1,070 sqft  Year Built: 1993       No Info    $159,900   \n",
       "2                     1,544 sqft  Year Built: 1940        Garage    $152,000   \n",
       "3                     1,312 sqft  Year Built: 1998  2 Car Garage    $180,000   \n",
       "4                     2,141 sqft  Year Built: 2023       No Info   $400,000+   \n",
       "...                          ...               ...           ...         ...   \n",
       "4142                  2,217 sqft  Year Built: 2018  3 Car Garage  $1,199,000   \n",
       "4143                  1,980 sqft  Year Built: 2006       Carport    $395,500   \n",
       "4144                  2,398 sqft  Year Built: 1992  3 Car Garage    $975,000   \n",
       "4145                  1,680 sqft  Year Built: 1976  2 Car Garage  $1,495,000   \n",
       "4146  3,071 sqft (on 0.67 acres)  Year Built: 1989        Garage  $1,725,000   \n",
       "\n",
       "          Location  \n",
       "0     Indianapolis  \n",
       "1     Indianapolis  \n",
       "2     Indianapolis  \n",
       "3     Indianapolis  \n",
       "4     Indianapolis  \n",
       "...            ...  \n",
       "4142     San Diego  \n",
       "4143     San Diego  \n",
       "4144     San Diego  \n",
       "4145     San Diego  \n",
       "4146     San Diego  \n",
       "\n",
       "[4147 rows x 8 columns]"
      ]
     },
     "execution_count": 49,
     "metadata": {},
     "output_type": "execute_result"
    }
   ],
   "source": [
    "dfcombined"
   ]
  },
  {
   "cell_type": "code",
   "execution_count": 50,
   "id": "ffbd74e4",
   "metadata": {
    "scrolled": true
   },
   "outputs": [
    {
     "data": {
      "text/plain": [
       "537"
      ]
     },
     "execution_count": 50,
     "metadata": {},
     "output_type": "execute_result"
    }
   ],
   "source": [
    "dfcombined.duplicated().sum()"
   ]
  },
  {
   "cell_type": "code",
   "execution_count": 51,
   "id": "d006f06e",
   "metadata": {
    "scrolled": true
   },
   "outputs": [
    {
     "data": {
      "text/html": [
       "<div>\n",
       "<style scoped>\n",
       "    .dataframe tbody tr th:only-of-type {\n",
       "        vertical-align: middle;\n",
       "    }\n",
       "\n",
       "    .dataframe tbody tr th {\n",
       "        vertical-align: top;\n",
       "    }\n",
       "\n",
       "    .dataframe thead th {\n",
       "        text-align: right;\n",
       "    }\n",
       "</style>\n",
       "<table border=\"1\" class=\"dataframe\">\n",
       "  <thead>\n",
       "    <tr style=\"text-align: right;\">\n",
       "      <th></th>\n",
       "      <th>Address</th>\n",
       "      <th>Bedrooms</th>\n",
       "      <th>Bathrooms</th>\n",
       "      <th>Area</th>\n",
       "      <th>Year Built</th>\n",
       "      <th>Parking</th>\n",
       "      <th>Price</th>\n",
       "      <th>Location</th>\n",
       "    </tr>\n",
       "  </thead>\n",
       "  <tbody>\n",
       "    <tr>\n",
       "      <th>536</th>\n",
       "      <td>2926 Forest Manor Ave</td>\n",
       "      <td>3 Beds</td>\n",
       "      <td>1 Bath</td>\n",
       "      <td>864 sqft</td>\n",
       "      <td>Year Built: 1911</td>\n",
       "      <td>Garage</td>\n",
       "      <td>$85,000</td>\n",
       "      <td>Indianapolis</td>\n",
       "    </tr>\n",
       "    <tr>\n",
       "      <th>537</th>\n",
       "      <td>8820 Yardley Ct #208</td>\n",
       "      <td>2 Beds</td>\n",
       "      <td>2 Baths</td>\n",
       "      <td>1,070 sqft</td>\n",
       "      <td>Year Built: 1993</td>\n",
       "      <td>No Info</td>\n",
       "      <td>$159,900</td>\n",
       "      <td>Indianapolis</td>\n",
       "    </tr>\n",
       "    <tr>\n",
       "      <th>538</th>\n",
       "      <td>2169 Kildare Ave</td>\n",
       "      <td>2 Beds</td>\n",
       "      <td>1 Bath</td>\n",
       "      <td>1,544 sqft</td>\n",
       "      <td>Year Built: 1940</td>\n",
       "      <td>Garage</td>\n",
       "      <td>$152,000</td>\n",
       "      <td>Indianapolis</td>\n",
       "    </tr>\n",
       "    <tr>\n",
       "      <th>539</th>\n",
       "      <td>4741 Bridgefield Dr</td>\n",
       "      <td>2 Beds</td>\n",
       "      <td>2 Baths</td>\n",
       "      <td>1,312 sqft</td>\n",
       "      <td>Year Built: 1998</td>\n",
       "      <td>2 Car Garage</td>\n",
       "      <td>$180,000</td>\n",
       "      <td>Indianapolis</td>\n",
       "    </tr>\n",
       "    <tr>\n",
       "      <th>540</th>\n",
       "      <td>Grandover Plan in Edgewood Farms by D.R. Horto...</td>\n",
       "      <td>3 Beds</td>\n",
       "      <td>3 Baths</td>\n",
       "      <td>2,141 sqft</td>\n",
       "      <td>Year Built: 2023</td>\n",
       "      <td>No Info</td>\n",
       "      <td>$400,000+</td>\n",
       "      <td>Indianapolis</td>\n",
       "    </tr>\n",
       "    <tr>\n",
       "      <th>...</th>\n",
       "      <td>...</td>\n",
       "      <td>...</td>\n",
       "      <td>...</td>\n",
       "      <td>...</td>\n",
       "      <td>...</td>\n",
       "      <td>...</td>\n",
       "      <td>...</td>\n",
       "      <td>...</td>\n",
       "    </tr>\n",
       "    <tr>\n",
       "      <th>1068</th>\n",
       "      <td>7131 Parkstay Ct</td>\n",
       "      <td>4 Beds</td>\n",
       "      <td>3 Baths</td>\n",
       "      <td>2,053 sqft</td>\n",
       "      <td>Year Built: 2023</td>\n",
       "      <td>2 Car Garage</td>\n",
       "      <td>$329,000</td>\n",
       "      <td>Indianapolis</td>\n",
       "    </tr>\n",
       "    <tr>\n",
       "      <th>1069</th>\n",
       "      <td>809 W  Edgewood Ave</td>\n",
       "      <td>3 Beds</td>\n",
       "      <td>2 Baths</td>\n",
       "      <td>1,767 sqft (on 0.55 acres)</td>\n",
       "      <td>Year Built: 1969</td>\n",
       "      <td>1 Car Garage</td>\n",
       "      <td>$275,000</td>\n",
       "      <td>Indianapolis</td>\n",
       "    </tr>\n",
       "    <tr>\n",
       "      <th>1070</th>\n",
       "      <td>2245 Brookside Ave</td>\n",
       "      <td>3 Beds</td>\n",
       "      <td>1 Bath</td>\n",
       "      <td>1,680 sqft</td>\n",
       "      <td>Year Built: 1907</td>\n",
       "      <td>No Info</td>\n",
       "      <td>$125,000</td>\n",
       "      <td>Indianapolis</td>\n",
       "    </tr>\n",
       "    <tr>\n",
       "      <th>1071</th>\n",
       "      <td>3818 N  Park Ave</td>\n",
       "      <td>3 Beds</td>\n",
       "      <td>2 Baths</td>\n",
       "      <td>2,034 sqft</td>\n",
       "      <td>Year Built: 1905</td>\n",
       "      <td>Garage</td>\n",
       "      <td>$269,000</td>\n",
       "      <td>Indianapolis</td>\n",
       "    </tr>\n",
       "    <tr>\n",
       "      <th>2299</th>\n",
       "      <td>1405 Arizona St NE</td>\n",
       "      <td>4 Beds</td>\n",
       "      <td>2 Baths</td>\n",
       "      <td>2,500 sqft</td>\n",
       "      <td>Year Built: 1958</td>\n",
       "      <td>Garage</td>\n",
       "      <td>$250,000</td>\n",
       "      <td>Albuquerque</td>\n",
       "    </tr>\n",
       "  </tbody>\n",
       "</table>\n",
       "<p>537 rows × 8 columns</p>\n",
       "</div>"
      ],
      "text/plain": [
       "                                                Address Bedrooms Bathrooms  \\\n",
       "536                               2926 Forest Manor Ave   3 Beds    1 Bath   \n",
       "537                                8820 Yardley Ct #208   2 Beds   2 Baths   \n",
       "538                                    2169 Kildare Ave   2 Beds    1 Bath   \n",
       "539                                 4741 Bridgefield Dr   2 Beds   2 Baths   \n",
       "540   Grandover Plan in Edgewood Farms by D.R. Horto...   3 Beds   3 Baths   \n",
       "...                                                 ...      ...       ...   \n",
       "1068                                   7131 Parkstay Ct   4 Beds   3 Baths   \n",
       "1069                                809 W  Edgewood Ave   3 Beds   2 Baths   \n",
       "1070                                 2245 Brookside Ave   3 Beds    1 Bath   \n",
       "1071                                   3818 N  Park Ave   3 Beds   2 Baths   \n",
       "2299                                 1405 Arizona St NE   4 Beds   2 Baths   \n",
       "\n",
       "                            Area        Year Built       Parking      Price  \\\n",
       "536                     864 sqft  Year Built: 1911        Garage    $85,000   \n",
       "537                   1,070 sqft  Year Built: 1993       No Info   $159,900   \n",
       "538                   1,544 sqft  Year Built: 1940        Garage   $152,000   \n",
       "539                   1,312 sqft  Year Built: 1998  2 Car Garage   $180,000   \n",
       "540                   2,141 sqft  Year Built: 2023       No Info  $400,000+   \n",
       "...                          ...               ...           ...        ...   \n",
       "1068                  2,053 sqft  Year Built: 2023  2 Car Garage   $329,000   \n",
       "1069  1,767 sqft (on 0.55 acres)  Year Built: 1969  1 Car Garage   $275,000   \n",
       "1070                  1,680 sqft  Year Built: 1907       No Info   $125,000   \n",
       "1071                  2,034 sqft  Year Built: 1905        Garage   $269,000   \n",
       "2299                  2,500 sqft  Year Built: 1958        Garage   $250,000   \n",
       "\n",
       "          Location  \n",
       "536   Indianapolis  \n",
       "537   Indianapolis  \n",
       "538   Indianapolis  \n",
       "539   Indianapolis  \n",
       "540   Indianapolis  \n",
       "...            ...  \n",
       "1068  Indianapolis  \n",
       "1069  Indianapolis  \n",
       "1070  Indianapolis  \n",
       "1071  Indianapolis  \n",
       "2299   Albuquerque  \n",
       "\n",
       "[537 rows x 8 columns]"
      ]
     },
     "execution_count": 51,
     "metadata": {},
     "output_type": "execute_result"
    }
   ],
   "source": [
    "#537 duplicated entries\n",
    "dfcombined.loc[dfcombined.duplicated(), :]"
   ]
  },
  {
   "cell_type": "code",
   "execution_count": 52,
   "id": "7f002480",
   "metadata": {},
   "outputs": [],
   "source": [
    "#remove duplicate entries \n",
    "dfcombined = dfcombined.drop_duplicates()"
   ]
  },
  {
   "cell_type": "code",
   "execution_count": 62,
   "id": "ed89c0a1",
   "metadata": {
    "scrolled": true
   },
   "outputs": [
    {
     "name": "stdout",
     "output_type": "stream",
     "text": [
      "<class 'pandas.core.frame.DataFrame'>\n",
      "RangeIndex: 3610 entries, 0 to 3609\n",
      "Data columns (total 8 columns):\n",
      " #   Column      Non-Null Count  Dtype \n",
      "---  ------      --------------  ----- \n",
      " 0   Address     3610 non-null   object\n",
      " 1   Bedrooms    3610 non-null   object\n",
      " 2   Bathrooms   3610 non-null   object\n",
      " 3   Area        3610 non-null   object\n",
      " 4   Year Built  3610 non-null   object\n",
      " 5   Parking     3610 non-null   object\n",
      " 6   Price($)    3610 non-null   object\n",
      " 7   Location    3610 non-null   object\n",
      "dtypes: object(8)\n",
      "memory usage: 225.8+ KB\n"
     ]
    }
   ],
   "source": [
    "dfcombined.info()"
   ]
  },
  {
   "cell_type": "code",
   "execution_count": 54,
   "id": "8f9133df",
   "metadata": {},
   "outputs": [],
   "source": [
    "#fix index again\n",
    "dfcombined = dfcombined.reset_index(drop=True)"
   ]
  },
  {
   "cell_type": "markdown",
   "id": "e558168e",
   "metadata": {},
   "source": [
    "### Removing extra elements from the columns\n",
    "#### Remove dollar signs, remove commas from price, change price string to integer to make it database readable"
   ]
  },
  {
   "cell_type": "code",
   "execution_count": 57,
   "id": "03240a65",
   "metadata": {},
   "outputs": [],
   "source": [
    "dfcombined = dfcombined.rename(columns = {'Price':'Price($)'})"
   ]
  },
  {
   "cell_type": "code",
   "execution_count": 58,
   "id": "fd617fae",
   "metadata": {
    "scrolled": true
   },
   "outputs": [
    {
     "data": {
      "text/html": [
       "<div>\n",
       "<style scoped>\n",
       "    .dataframe tbody tr th:only-of-type {\n",
       "        vertical-align: middle;\n",
       "    }\n",
       "\n",
       "    .dataframe tbody tr th {\n",
       "        vertical-align: top;\n",
       "    }\n",
       "\n",
       "    .dataframe thead th {\n",
       "        text-align: right;\n",
       "    }\n",
       "</style>\n",
       "<table border=\"1\" class=\"dataframe\">\n",
       "  <thead>\n",
       "    <tr style=\"text-align: right;\">\n",
       "      <th></th>\n",
       "      <th>Address</th>\n",
       "      <th>Bedrooms</th>\n",
       "      <th>Bathrooms</th>\n",
       "      <th>Area</th>\n",
       "      <th>Year Built</th>\n",
       "      <th>Parking</th>\n",
       "      <th>Price($)</th>\n",
       "      <th>Location</th>\n",
       "    </tr>\n",
       "  </thead>\n",
       "  <tbody>\n",
       "    <tr>\n",
       "      <th>0</th>\n",
       "      <td>2926 Forest Manor Ave</td>\n",
       "      <td>3 Beds</td>\n",
       "      <td>1 Bath</td>\n",
       "      <td>864 sqft</td>\n",
       "      <td>Year Built: 1911</td>\n",
       "      <td>Garage</td>\n",
       "      <td>$85,000</td>\n",
       "      <td>Indianapolis</td>\n",
       "    </tr>\n",
       "    <tr>\n",
       "      <th>1</th>\n",
       "      <td>8820 Yardley Ct #208</td>\n",
       "      <td>2 Beds</td>\n",
       "      <td>2 Baths</td>\n",
       "      <td>1,070 sqft</td>\n",
       "      <td>Year Built: 1993</td>\n",
       "      <td>No Info</td>\n",
       "      <td>$159,900</td>\n",
       "      <td>Indianapolis</td>\n",
       "    </tr>\n",
       "    <tr>\n",
       "      <th>2</th>\n",
       "      <td>2169 Kildare Ave</td>\n",
       "      <td>2 Beds</td>\n",
       "      <td>1 Bath</td>\n",
       "      <td>1,544 sqft</td>\n",
       "      <td>Year Built: 1940</td>\n",
       "      <td>Garage</td>\n",
       "      <td>$152,000</td>\n",
       "      <td>Indianapolis</td>\n",
       "    </tr>\n",
       "    <tr>\n",
       "      <th>3</th>\n",
       "      <td>4741 Bridgefield Dr</td>\n",
       "      <td>2 Beds</td>\n",
       "      <td>2 Baths</td>\n",
       "      <td>1,312 sqft</td>\n",
       "      <td>Year Built: 1998</td>\n",
       "      <td>2 Car Garage</td>\n",
       "      <td>$180,000</td>\n",
       "      <td>Indianapolis</td>\n",
       "    </tr>\n",
       "    <tr>\n",
       "      <th>4</th>\n",
       "      <td>Grandover Plan in Edgewood Farms by D.R. Horto...</td>\n",
       "      <td>3 Beds</td>\n",
       "      <td>3 Baths</td>\n",
       "      <td>2,141 sqft</td>\n",
       "      <td>Year Built: 2023</td>\n",
       "      <td>No Info</td>\n",
       "      <td>$400,000+</td>\n",
       "      <td>Indianapolis</td>\n",
       "    </tr>\n",
       "  </tbody>\n",
       "</table>\n",
       "</div>"
      ],
      "text/plain": [
       "                                             Address Bedrooms Bathrooms  \\\n",
       "0                              2926 Forest Manor Ave   3 Beds    1 Bath   \n",
       "1                               8820 Yardley Ct #208   2 Beds   2 Baths   \n",
       "2                                   2169 Kildare Ave   2 Beds    1 Bath   \n",
       "3                                4741 Bridgefield Dr   2 Beds   2 Baths   \n",
       "4  Grandover Plan in Edgewood Farms by D.R. Horto...   3 Beds   3 Baths   \n",
       "\n",
       "         Area        Year Built       Parking   Price($)      Location  \n",
       "0    864 sqft  Year Built: 1911        Garage    $85,000  Indianapolis  \n",
       "1  1,070 sqft  Year Built: 1993       No Info   $159,900  Indianapolis  \n",
       "2  1,544 sqft  Year Built: 1940        Garage   $152,000  Indianapolis  \n",
       "3  1,312 sqft  Year Built: 1998  2 Car Garage   $180,000  Indianapolis  \n",
       "4  2,141 sqft  Year Built: 2023       No Info  $400,000+  Indianapolis  "
      ]
     },
     "execution_count": 58,
     "metadata": {},
     "output_type": "execute_result"
    }
   ],
   "source": [
    "dfcombined.head()"
   ]
  },
  {
   "cell_type": "code",
   "execution_count": 59,
   "id": "b25ecdd9",
   "metadata": {},
   "outputs": [],
   "source": [
    "dfcombined['Price($)'] = dfcombined['Price($)'].str.strip('$')"
   ]
  },
  {
   "cell_type": "code",
   "execution_count": 61,
   "id": "78f6a615",
   "metadata": {
    "scrolled": false
   },
   "outputs": [
    {
     "data": {
      "text/html": [
       "<div>\n",
       "<style scoped>\n",
       "    .dataframe tbody tr th:only-of-type {\n",
       "        vertical-align: middle;\n",
       "    }\n",
       "\n",
       "    .dataframe tbody tr th {\n",
       "        vertical-align: top;\n",
       "    }\n",
       "\n",
       "    .dataframe thead th {\n",
       "        text-align: right;\n",
       "    }\n",
       "</style>\n",
       "<table border=\"1\" class=\"dataframe\">\n",
       "  <thead>\n",
       "    <tr style=\"text-align: right;\">\n",
       "      <th></th>\n",
       "      <th>Address</th>\n",
       "      <th>Bedrooms</th>\n",
       "      <th>Bathrooms</th>\n",
       "      <th>Area</th>\n",
       "      <th>Year Built</th>\n",
       "      <th>Parking</th>\n",
       "      <th>Price($)</th>\n",
       "      <th>Location</th>\n",
       "    </tr>\n",
       "  </thead>\n",
       "  <tbody>\n",
       "    <tr>\n",
       "      <th>0</th>\n",
       "      <td>2926 Forest Manor Ave</td>\n",
       "      <td>3 Beds</td>\n",
       "      <td>1 Bath</td>\n",
       "      <td>864 sqft</td>\n",
       "      <td>Year Built: 1911</td>\n",
       "      <td>Garage</td>\n",
       "      <td>85,000</td>\n",
       "      <td>Indianapolis</td>\n",
       "    </tr>\n",
       "    <tr>\n",
       "      <th>1</th>\n",
       "      <td>8820 Yardley Ct #208</td>\n",
       "      <td>2 Beds</td>\n",
       "      <td>2 Baths</td>\n",
       "      <td>1,070 sqft</td>\n",
       "      <td>Year Built: 1993</td>\n",
       "      <td>No Info</td>\n",
       "      <td>159,900</td>\n",
       "      <td>Indianapolis</td>\n",
       "    </tr>\n",
       "    <tr>\n",
       "      <th>2</th>\n",
       "      <td>2169 Kildare Ave</td>\n",
       "      <td>2 Beds</td>\n",
       "      <td>1 Bath</td>\n",
       "      <td>1,544 sqft</td>\n",
       "      <td>Year Built: 1940</td>\n",
       "      <td>Garage</td>\n",
       "      <td>152,000</td>\n",
       "      <td>Indianapolis</td>\n",
       "    </tr>\n",
       "    <tr>\n",
       "      <th>3</th>\n",
       "      <td>4741 Bridgefield Dr</td>\n",
       "      <td>2 Beds</td>\n",
       "      <td>2 Baths</td>\n",
       "      <td>1,312 sqft</td>\n",
       "      <td>Year Built: 1998</td>\n",
       "      <td>2 Car Garage</td>\n",
       "      <td>180,000</td>\n",
       "      <td>Indianapolis</td>\n",
       "    </tr>\n",
       "    <tr>\n",
       "      <th>4</th>\n",
       "      <td>Grandover Plan in Edgewood Farms by D.R. Horto...</td>\n",
       "      <td>3 Beds</td>\n",
       "      <td>3 Baths</td>\n",
       "      <td>2,141 sqft</td>\n",
       "      <td>Year Built: 2023</td>\n",
       "      <td>No Info</td>\n",
       "      <td>400,000+</td>\n",
       "      <td>Indianapolis</td>\n",
       "    </tr>\n",
       "  </tbody>\n",
       "</table>\n",
       "</div>"
      ],
      "text/plain": [
       "                                             Address Bedrooms Bathrooms  \\\n",
       "0                              2926 Forest Manor Ave   3 Beds    1 Bath   \n",
       "1                               8820 Yardley Ct #208   2 Beds   2 Baths   \n",
       "2                                   2169 Kildare Ave   2 Beds    1 Bath   \n",
       "3                                4741 Bridgefield Dr   2 Beds   2 Baths   \n",
       "4  Grandover Plan in Edgewood Farms by D.R. Horto...   3 Beds   3 Baths   \n",
       "\n",
       "         Area        Year Built       Parking  Price($)      Location  \n",
       "0    864 sqft  Year Built: 1911        Garage    85,000  Indianapolis  \n",
       "1  1,070 sqft  Year Built: 1993       No Info   159,900  Indianapolis  \n",
       "2  1,544 sqft  Year Built: 1940        Garage   152,000  Indianapolis  \n",
       "3  1,312 sqft  Year Built: 1998  2 Car Garage   180,000  Indianapolis  \n",
       "4  2,141 sqft  Year Built: 2023       No Info  400,000+  Indianapolis  "
      ]
     },
     "execution_count": 61,
     "metadata": {},
     "output_type": "execute_result"
    }
   ],
   "source": [
    "dfcombined.head()"
   ]
  },
  {
   "cell_type": "code",
   "execution_count": 63,
   "id": "d22337bd",
   "metadata": {},
   "outputs": [],
   "source": [
    "dfcombined['Price($)'] = dfcombined['Price($)'].str.replace(',', '')"
   ]
  },
  {
   "cell_type": "code",
   "execution_count": 64,
   "id": "ebbc5013",
   "metadata": {
    "scrolled": false
   },
   "outputs": [
    {
     "data": {
      "text/html": [
       "<div>\n",
       "<style scoped>\n",
       "    .dataframe tbody tr th:only-of-type {\n",
       "        vertical-align: middle;\n",
       "    }\n",
       "\n",
       "    .dataframe tbody tr th {\n",
       "        vertical-align: top;\n",
       "    }\n",
       "\n",
       "    .dataframe thead th {\n",
       "        text-align: right;\n",
       "    }\n",
       "</style>\n",
       "<table border=\"1\" class=\"dataframe\">\n",
       "  <thead>\n",
       "    <tr style=\"text-align: right;\">\n",
       "      <th></th>\n",
       "      <th>Address</th>\n",
       "      <th>Bedrooms</th>\n",
       "      <th>Bathrooms</th>\n",
       "      <th>Area</th>\n",
       "      <th>Year Built</th>\n",
       "      <th>Parking</th>\n",
       "      <th>Price($)</th>\n",
       "      <th>Location</th>\n",
       "    </tr>\n",
       "  </thead>\n",
       "  <tbody>\n",
       "    <tr>\n",
       "      <th>0</th>\n",
       "      <td>2926 Forest Manor Ave</td>\n",
       "      <td>3 Beds</td>\n",
       "      <td>1 Bath</td>\n",
       "      <td>864 sqft</td>\n",
       "      <td>Year Built: 1911</td>\n",
       "      <td>Garage</td>\n",
       "      <td>85000</td>\n",
       "      <td>Indianapolis</td>\n",
       "    </tr>\n",
       "    <tr>\n",
       "      <th>1</th>\n",
       "      <td>8820 Yardley Ct #208</td>\n",
       "      <td>2 Beds</td>\n",
       "      <td>2 Baths</td>\n",
       "      <td>1,070 sqft</td>\n",
       "      <td>Year Built: 1993</td>\n",
       "      <td>No Info</td>\n",
       "      <td>159900</td>\n",
       "      <td>Indianapolis</td>\n",
       "    </tr>\n",
       "    <tr>\n",
       "      <th>2</th>\n",
       "      <td>2169 Kildare Ave</td>\n",
       "      <td>2 Beds</td>\n",
       "      <td>1 Bath</td>\n",
       "      <td>1,544 sqft</td>\n",
       "      <td>Year Built: 1940</td>\n",
       "      <td>Garage</td>\n",
       "      <td>152000</td>\n",
       "      <td>Indianapolis</td>\n",
       "    </tr>\n",
       "    <tr>\n",
       "      <th>3</th>\n",
       "      <td>4741 Bridgefield Dr</td>\n",
       "      <td>2 Beds</td>\n",
       "      <td>2 Baths</td>\n",
       "      <td>1,312 sqft</td>\n",
       "      <td>Year Built: 1998</td>\n",
       "      <td>2 Car Garage</td>\n",
       "      <td>180000</td>\n",
       "      <td>Indianapolis</td>\n",
       "    </tr>\n",
       "    <tr>\n",
       "      <th>4</th>\n",
       "      <td>Grandover Plan in Edgewood Farms by D.R. Horto...</td>\n",
       "      <td>3 Beds</td>\n",
       "      <td>3 Baths</td>\n",
       "      <td>2,141 sqft</td>\n",
       "      <td>Year Built: 2023</td>\n",
       "      <td>No Info</td>\n",
       "      <td>400000+</td>\n",
       "      <td>Indianapolis</td>\n",
       "    </tr>\n",
       "  </tbody>\n",
       "</table>\n",
       "</div>"
      ],
      "text/plain": [
       "                                             Address Bedrooms Bathrooms  \\\n",
       "0                              2926 Forest Manor Ave   3 Beds    1 Bath   \n",
       "1                               8820 Yardley Ct #208   2 Beds   2 Baths   \n",
       "2                                   2169 Kildare Ave   2 Beds    1 Bath   \n",
       "3                                4741 Bridgefield Dr   2 Beds   2 Baths   \n",
       "4  Grandover Plan in Edgewood Farms by D.R. Horto...   3 Beds   3 Baths   \n",
       "\n",
       "         Area        Year Built       Parking Price($)      Location  \n",
       "0    864 sqft  Year Built: 1911        Garage    85000  Indianapolis  \n",
       "1  1,070 sqft  Year Built: 1993       No Info   159900  Indianapolis  \n",
       "2  1,544 sqft  Year Built: 1940        Garage   152000  Indianapolis  \n",
       "3  1,312 sqft  Year Built: 1998  2 Car Garage   180000  Indianapolis  \n",
       "4  2,141 sqft  Year Built: 2023       No Info  400000+  Indianapolis  "
      ]
     },
     "execution_count": 64,
     "metadata": {},
     "output_type": "execute_result"
    }
   ],
   "source": [
    "dfcombined.head()"
   ]
  },
  {
   "cell_type": "code",
   "execution_count": 66,
   "id": "c73a28dc",
   "metadata": {},
   "outputs": [],
   "source": [
    "dfcombined['Price($)'] = dfcombined['Price($)'].str.strip('+')"
   ]
  },
  {
   "cell_type": "code",
   "execution_count": 67,
   "id": "01f521a2",
   "metadata": {
    "scrolled": true
   },
   "outputs": [
    {
     "data": {
      "text/html": [
       "<div>\n",
       "<style scoped>\n",
       "    .dataframe tbody tr th:only-of-type {\n",
       "        vertical-align: middle;\n",
       "    }\n",
       "\n",
       "    .dataframe tbody tr th {\n",
       "        vertical-align: top;\n",
       "    }\n",
       "\n",
       "    .dataframe thead th {\n",
       "        text-align: right;\n",
       "    }\n",
       "</style>\n",
       "<table border=\"1\" class=\"dataframe\">\n",
       "  <thead>\n",
       "    <tr style=\"text-align: right;\">\n",
       "      <th></th>\n",
       "      <th>Address</th>\n",
       "      <th>Bedrooms</th>\n",
       "      <th>Bathrooms</th>\n",
       "      <th>Area</th>\n",
       "      <th>Year Built</th>\n",
       "      <th>Parking</th>\n",
       "      <th>Price($)</th>\n",
       "      <th>Location</th>\n",
       "    </tr>\n",
       "  </thead>\n",
       "  <tbody>\n",
       "    <tr>\n",
       "      <th>0</th>\n",
       "      <td>2926 Forest Manor Ave</td>\n",
       "      <td>3 Beds</td>\n",
       "      <td>1 Bath</td>\n",
       "      <td>864 sqft</td>\n",
       "      <td>Year Built: 1911</td>\n",
       "      <td>Garage</td>\n",
       "      <td>85000</td>\n",
       "      <td>Indianapolis</td>\n",
       "    </tr>\n",
       "    <tr>\n",
       "      <th>1</th>\n",
       "      <td>8820 Yardley Ct #208</td>\n",
       "      <td>2 Beds</td>\n",
       "      <td>2 Baths</td>\n",
       "      <td>1,070 sqft</td>\n",
       "      <td>Year Built: 1993</td>\n",
       "      <td>No Info</td>\n",
       "      <td>159900</td>\n",
       "      <td>Indianapolis</td>\n",
       "    </tr>\n",
       "    <tr>\n",
       "      <th>2</th>\n",
       "      <td>2169 Kildare Ave</td>\n",
       "      <td>2 Beds</td>\n",
       "      <td>1 Bath</td>\n",
       "      <td>1,544 sqft</td>\n",
       "      <td>Year Built: 1940</td>\n",
       "      <td>Garage</td>\n",
       "      <td>152000</td>\n",
       "      <td>Indianapolis</td>\n",
       "    </tr>\n",
       "    <tr>\n",
       "      <th>3</th>\n",
       "      <td>4741 Bridgefield Dr</td>\n",
       "      <td>2 Beds</td>\n",
       "      <td>2 Baths</td>\n",
       "      <td>1,312 sqft</td>\n",
       "      <td>Year Built: 1998</td>\n",
       "      <td>2 Car Garage</td>\n",
       "      <td>180000</td>\n",
       "      <td>Indianapolis</td>\n",
       "    </tr>\n",
       "    <tr>\n",
       "      <th>4</th>\n",
       "      <td>Grandover Plan in Edgewood Farms by D.R. Horto...</td>\n",
       "      <td>3 Beds</td>\n",
       "      <td>3 Baths</td>\n",
       "      <td>2,141 sqft</td>\n",
       "      <td>Year Built: 2023</td>\n",
       "      <td>No Info</td>\n",
       "      <td>400000</td>\n",
       "      <td>Indianapolis</td>\n",
       "    </tr>\n",
       "  </tbody>\n",
       "</table>\n",
       "</div>"
      ],
      "text/plain": [
       "                                             Address Bedrooms Bathrooms  \\\n",
       "0                              2926 Forest Manor Ave   3 Beds    1 Bath   \n",
       "1                               8820 Yardley Ct #208   2 Beds   2 Baths   \n",
       "2                                   2169 Kildare Ave   2 Beds    1 Bath   \n",
       "3                                4741 Bridgefield Dr   2 Beds   2 Baths   \n",
       "4  Grandover Plan in Edgewood Farms by D.R. Horto...   3 Beds   3 Baths   \n",
       "\n",
       "         Area        Year Built       Parking Price($)      Location  \n",
       "0    864 sqft  Year Built: 1911        Garage    85000  Indianapolis  \n",
       "1  1,070 sqft  Year Built: 1993       No Info   159900  Indianapolis  \n",
       "2  1,544 sqft  Year Built: 1940        Garage   152000  Indianapolis  \n",
       "3  1,312 sqft  Year Built: 1998  2 Car Garage   180000  Indianapolis  \n",
       "4  2,141 sqft  Year Built: 2023       No Info   400000  Indianapolis  "
      ]
     },
     "execution_count": 67,
     "metadata": {},
     "output_type": "execute_result"
    }
   ],
   "source": [
    "dfcombined.head()"
   ]
  },
  {
   "cell_type": "markdown",
   "id": "b4ff2bc5",
   "metadata": {},
   "source": [
    "### Changing other columns\n",
    "#### deleting sqft from Area column and year built from year column, etc"
   ]
  },
  {
   "cell_type": "code",
   "execution_count": 68,
   "id": "ae93a2e8",
   "metadata": {},
   "outputs": [],
   "source": [
    "dfcombined = dfcombined.rename(columns = {'Area':'Area(sqft)'})"
   ]
  },
  {
   "cell_type": "code",
   "execution_count": 69,
   "id": "383ee009",
   "metadata": {},
   "outputs": [],
   "source": [
    "dfcombined.to_csv('CombinedDataDuringClean.csv', encoding='utf-8', index=False)"
   ]
  },
  {
   "cell_type": "code",
   "execution_count": 120,
   "id": "89fa1c40",
   "metadata": {},
   "outputs": [],
   "source": [
    "dfcombined = pd.read_csv('CombinedDataDuringClean.csv')"
   ]
  },
  {
   "cell_type": "code",
   "execution_count": 121,
   "id": "96e213ac",
   "metadata": {},
   "outputs": [],
   "source": [
    "#saved csv file for backup just in case I mess up the dataframe\n",
    "\n",
    "dfcombined['Area(sqft)'] = dfcombined['Area(sqft)'].str.replace(' sqft', '')"
   ]
  },
  {
   "cell_type": "code",
   "execution_count": 122,
   "id": "1ec7b87e",
   "metadata": {
    "scrolled": true
   },
   "outputs": [
    {
     "data": {
      "text/html": [
       "<div>\n",
       "<style scoped>\n",
       "    .dataframe tbody tr th:only-of-type {\n",
       "        vertical-align: middle;\n",
       "    }\n",
       "\n",
       "    .dataframe tbody tr th {\n",
       "        vertical-align: top;\n",
       "    }\n",
       "\n",
       "    .dataframe thead th {\n",
       "        text-align: right;\n",
       "    }\n",
       "</style>\n",
       "<table border=\"1\" class=\"dataframe\">\n",
       "  <thead>\n",
       "    <tr style=\"text-align: right;\">\n",
       "      <th></th>\n",
       "      <th>Address</th>\n",
       "      <th>Bedrooms</th>\n",
       "      <th>Bathrooms</th>\n",
       "      <th>Area(sqft)</th>\n",
       "      <th>Year Built</th>\n",
       "      <th>Parking</th>\n",
       "      <th>Price($)</th>\n",
       "      <th>Location</th>\n",
       "    </tr>\n",
       "  </thead>\n",
       "  <tbody>\n",
       "    <tr>\n",
       "      <th>0</th>\n",
       "      <td>2926 Forest Manor Ave</td>\n",
       "      <td>3 Beds</td>\n",
       "      <td>1 Bath</td>\n",
       "      <td>864</td>\n",
       "      <td>Year Built: 1911</td>\n",
       "      <td>Garage</td>\n",
       "      <td>85000</td>\n",
       "      <td>Indianapolis</td>\n",
       "    </tr>\n",
       "    <tr>\n",
       "      <th>1</th>\n",
       "      <td>8820 Yardley Ct #208</td>\n",
       "      <td>2 Beds</td>\n",
       "      <td>2 Baths</td>\n",
       "      <td>1,070</td>\n",
       "      <td>Year Built: 1993</td>\n",
       "      <td>No Info</td>\n",
       "      <td>159900</td>\n",
       "      <td>Indianapolis</td>\n",
       "    </tr>\n",
       "    <tr>\n",
       "      <th>2</th>\n",
       "      <td>2169 Kildare Ave</td>\n",
       "      <td>2 Beds</td>\n",
       "      <td>1 Bath</td>\n",
       "      <td>1,544</td>\n",
       "      <td>Year Built: 1940</td>\n",
       "      <td>Garage</td>\n",
       "      <td>152000</td>\n",
       "      <td>Indianapolis</td>\n",
       "    </tr>\n",
       "    <tr>\n",
       "      <th>3</th>\n",
       "      <td>4741 Bridgefield Dr</td>\n",
       "      <td>2 Beds</td>\n",
       "      <td>2 Baths</td>\n",
       "      <td>1,312</td>\n",
       "      <td>Year Built: 1998</td>\n",
       "      <td>2 Car Garage</td>\n",
       "      <td>180000</td>\n",
       "      <td>Indianapolis</td>\n",
       "    </tr>\n",
       "    <tr>\n",
       "      <th>4</th>\n",
       "      <td>Grandover Plan in Edgewood Farms by D.R. Horto...</td>\n",
       "      <td>3 Beds</td>\n",
       "      <td>3 Baths</td>\n",
       "      <td>2,141</td>\n",
       "      <td>Year Built: 2023</td>\n",
       "      <td>No Info</td>\n",
       "      <td>400000</td>\n",
       "      <td>Indianapolis</td>\n",
       "    </tr>\n",
       "  </tbody>\n",
       "</table>\n",
       "</div>"
      ],
      "text/plain": [
       "                                             Address Bedrooms Bathrooms  \\\n",
       "0                              2926 Forest Manor Ave   3 Beds    1 Bath   \n",
       "1                               8820 Yardley Ct #208   2 Beds   2 Baths   \n",
       "2                                   2169 Kildare Ave   2 Beds    1 Bath   \n",
       "3                                4741 Bridgefield Dr   2 Beds   2 Baths   \n",
       "4  Grandover Plan in Edgewood Farms by D.R. Horto...   3 Beds   3 Baths   \n",
       "\n",
       "  Area(sqft)        Year Built       Parking  Price($)      Location  \n",
       "0        864  Year Built: 1911        Garage     85000  Indianapolis  \n",
       "1      1,070  Year Built: 1993       No Info    159900  Indianapolis  \n",
       "2      1,544  Year Built: 1940        Garage    152000  Indianapolis  \n",
       "3      1,312  Year Built: 1998  2 Car Garage    180000  Indianapolis  \n",
       "4      2,141  Year Built: 2023       No Info    400000  Indianapolis  "
      ]
     },
     "execution_count": 122,
     "metadata": {},
     "output_type": "execute_result"
    }
   ],
   "source": [
    "dfcombined.head()"
   ]
  },
  {
   "cell_type": "code",
   "execution_count": 123,
   "id": "7583a62b",
   "metadata": {},
   "outputs": [],
   "source": [
    "dfcombined['Area(sqft)'] = dfcombined['Area(sqft)'].str.replace(',','')"
   ]
  },
  {
   "cell_type": "code",
   "execution_count": 124,
   "id": "f17d1895",
   "metadata": {
    "scrolled": true
   },
   "outputs": [
    {
     "data": {
      "text/html": [
       "<div>\n",
       "<style scoped>\n",
       "    .dataframe tbody tr th:only-of-type {\n",
       "        vertical-align: middle;\n",
       "    }\n",
       "\n",
       "    .dataframe tbody tr th {\n",
       "        vertical-align: top;\n",
       "    }\n",
       "\n",
       "    .dataframe thead th {\n",
       "        text-align: right;\n",
       "    }\n",
       "</style>\n",
       "<table border=\"1\" class=\"dataframe\">\n",
       "  <thead>\n",
       "    <tr style=\"text-align: right;\">\n",
       "      <th></th>\n",
       "      <th>Address</th>\n",
       "      <th>Bedrooms</th>\n",
       "      <th>Bathrooms</th>\n",
       "      <th>Area(sqft)</th>\n",
       "      <th>Year Built</th>\n",
       "      <th>Parking</th>\n",
       "      <th>Price($)</th>\n",
       "      <th>Location</th>\n",
       "    </tr>\n",
       "  </thead>\n",
       "  <tbody>\n",
       "    <tr>\n",
       "      <th>0</th>\n",
       "      <td>2926 Forest Manor Ave</td>\n",
       "      <td>3 Beds</td>\n",
       "      <td>1 Bath</td>\n",
       "      <td>864</td>\n",
       "      <td>Year Built: 1911</td>\n",
       "      <td>Garage</td>\n",
       "      <td>85000</td>\n",
       "      <td>Indianapolis</td>\n",
       "    </tr>\n",
       "    <tr>\n",
       "      <th>1</th>\n",
       "      <td>8820 Yardley Ct #208</td>\n",
       "      <td>2 Beds</td>\n",
       "      <td>2 Baths</td>\n",
       "      <td>1070</td>\n",
       "      <td>Year Built: 1993</td>\n",
       "      <td>No Info</td>\n",
       "      <td>159900</td>\n",
       "      <td>Indianapolis</td>\n",
       "    </tr>\n",
       "    <tr>\n",
       "      <th>2</th>\n",
       "      <td>2169 Kildare Ave</td>\n",
       "      <td>2 Beds</td>\n",
       "      <td>1 Bath</td>\n",
       "      <td>1544</td>\n",
       "      <td>Year Built: 1940</td>\n",
       "      <td>Garage</td>\n",
       "      <td>152000</td>\n",
       "      <td>Indianapolis</td>\n",
       "    </tr>\n",
       "    <tr>\n",
       "      <th>3</th>\n",
       "      <td>4741 Bridgefield Dr</td>\n",
       "      <td>2 Beds</td>\n",
       "      <td>2 Baths</td>\n",
       "      <td>1312</td>\n",
       "      <td>Year Built: 1998</td>\n",
       "      <td>2 Car Garage</td>\n",
       "      <td>180000</td>\n",
       "      <td>Indianapolis</td>\n",
       "    </tr>\n",
       "    <tr>\n",
       "      <th>4</th>\n",
       "      <td>Grandover Plan in Edgewood Farms by D.R. Horto...</td>\n",
       "      <td>3 Beds</td>\n",
       "      <td>3 Baths</td>\n",
       "      <td>2141</td>\n",
       "      <td>Year Built: 2023</td>\n",
       "      <td>No Info</td>\n",
       "      <td>400000</td>\n",
       "      <td>Indianapolis</td>\n",
       "    </tr>\n",
       "    <tr>\n",
       "      <th>...</th>\n",
       "      <td>...</td>\n",
       "      <td>...</td>\n",
       "      <td>...</td>\n",
       "      <td>...</td>\n",
       "      <td>...</td>\n",
       "      <td>...</td>\n",
       "      <td>...</td>\n",
       "      <td>...</td>\n",
       "    </tr>\n",
       "    <tr>\n",
       "      <th>3605</th>\n",
       "      <td>8517 Even Seth Cir</td>\n",
       "      <td>4 Beds</td>\n",
       "      <td>3 Baths</td>\n",
       "      <td>2217</td>\n",
       "      <td>Year Built: 2018</td>\n",
       "      <td>3 Car Garage</td>\n",
       "      <td>1199000</td>\n",
       "      <td>San Diego</td>\n",
       "    </tr>\n",
       "    <tr>\n",
       "      <th>3606</th>\n",
       "      <td>13104 Dana Vista St #350</td>\n",
       "      <td>4 Beds</td>\n",
       "      <td>2 Baths</td>\n",
       "      <td>1980</td>\n",
       "      <td>Year Built: 2006</td>\n",
       "      <td>Carport</td>\n",
       "      <td>395500</td>\n",
       "      <td>San Diego</td>\n",
       "    </tr>\n",
       "    <tr>\n",
       "      <th>3607</th>\n",
       "      <td>3906 Stanford Dr</td>\n",
       "      <td>4 Beds</td>\n",
       "      <td>3 Baths</td>\n",
       "      <td>2398</td>\n",
       "      <td>Year Built: 1992</td>\n",
       "      <td>3 Car Garage</td>\n",
       "      <td>975000</td>\n",
       "      <td>San Diego</td>\n",
       "    </tr>\n",
       "    <tr>\n",
       "      <th>3608</th>\n",
       "      <td>3365 Donna Dr</td>\n",
       "      <td>3 Beds</td>\n",
       "      <td>3 Baths</td>\n",
       "      <td>1680</td>\n",
       "      <td>Year Built: 1976</td>\n",
       "      <td>2 Car Garage</td>\n",
       "      <td>1495000</td>\n",
       "      <td>San Diego</td>\n",
       "    </tr>\n",
       "    <tr>\n",
       "      <th>3609</th>\n",
       "      <td>15928 Cumberland Dr</td>\n",
       "      <td>5 Beds</td>\n",
       "      <td>3 Baths</td>\n",
       "      <td>3071 (on 0.67 acres)</td>\n",
       "      <td>Year Built: 1989</td>\n",
       "      <td>Garage</td>\n",
       "      <td>1725000</td>\n",
       "      <td>San Diego</td>\n",
       "    </tr>\n",
       "  </tbody>\n",
       "</table>\n",
       "<p>3610 rows × 8 columns</p>\n",
       "</div>"
      ],
      "text/plain": [
       "                                                Address Bedrooms Bathrooms  \\\n",
       "0                                 2926 Forest Manor Ave   3 Beds    1 Bath   \n",
       "1                                  8820 Yardley Ct #208   2 Beds   2 Baths   \n",
       "2                                      2169 Kildare Ave   2 Beds    1 Bath   \n",
       "3                                   4741 Bridgefield Dr   2 Beds   2 Baths   \n",
       "4     Grandover Plan in Edgewood Farms by D.R. Horto...   3 Beds   3 Baths   \n",
       "...                                                 ...      ...       ...   \n",
       "3605                                 8517 Even Seth Cir   4 Beds   3 Baths   \n",
       "3606                           13104 Dana Vista St #350   4 Beds   2 Baths   \n",
       "3607                                   3906 Stanford Dr   4 Beds   3 Baths   \n",
       "3608                                      3365 Donna Dr   3 Beds   3 Baths   \n",
       "3609                                15928 Cumberland Dr   5 Beds   3 Baths   \n",
       "\n",
       "                Area(sqft)        Year Built       Parking  Price($)  \\\n",
       "0                      864  Year Built: 1911        Garage     85000   \n",
       "1                     1070  Year Built: 1993       No Info    159900   \n",
       "2                     1544  Year Built: 1940        Garage    152000   \n",
       "3                     1312  Year Built: 1998  2 Car Garage    180000   \n",
       "4                     2141  Year Built: 2023       No Info    400000   \n",
       "...                    ...               ...           ...       ...   \n",
       "3605                  2217  Year Built: 2018  3 Car Garage   1199000   \n",
       "3606                  1980  Year Built: 2006       Carport    395500   \n",
       "3607                  2398  Year Built: 1992  3 Car Garage    975000   \n",
       "3608                  1680  Year Built: 1976  2 Car Garage   1495000   \n",
       "3609  3071 (on 0.67 acres)  Year Built: 1989        Garage   1725000   \n",
       "\n",
       "          Location  \n",
       "0     Indianapolis  \n",
       "1     Indianapolis  \n",
       "2     Indianapolis  \n",
       "3     Indianapolis  \n",
       "4     Indianapolis  \n",
       "...            ...  \n",
       "3605     San Diego  \n",
       "3606     San Diego  \n",
       "3607     San Diego  \n",
       "3608     San Diego  \n",
       "3609     San Diego  \n",
       "\n",
       "[3610 rows x 8 columns]"
      ]
     },
     "execution_count": 124,
     "metadata": {},
     "output_type": "execute_result"
    }
   ],
   "source": [
    "dfcombined"
   ]
  },
  {
   "cell_type": "markdown",
   "id": "ddc15318",
   "metadata": {},
   "source": [
    "Deleting anything after a space in the area column, to remove any extra info, like acerage included etc. Not needed in this column."
   ]
  },
  {
   "cell_type": "code",
   "execution_count": 125,
   "id": "c52a6cb7",
   "metadata": {
    "scrolled": true
   },
   "outputs": [
    {
     "name": "stderr",
     "output_type": "stream",
     "text": [
      "C:\\Users\\cdmel\\AppData\\Local\\Temp\\ipykernel_19612\\1764279034.py:1: FutureWarning: The default value of regex will change from True to False in a future version.\n",
      "  dfcombined['Area(sqft)'] = dfcombined['Area(sqft)'].str.replace(\"( ).*\",\"\")\n"
     ]
    }
   ],
   "source": [
    "dfcombined['Area(sqft)'] = dfcombined['Area(sqft)'].str.replace(\"( ).*\",\"\")"
   ]
  },
  {
   "cell_type": "code",
   "execution_count": 127,
   "id": "21af7dd5",
   "metadata": {
    "scrolled": true
   },
   "outputs": [
    {
     "data": {
      "text/html": [
       "<div>\n",
       "<style scoped>\n",
       "    .dataframe tbody tr th:only-of-type {\n",
       "        vertical-align: middle;\n",
       "    }\n",
       "\n",
       "    .dataframe tbody tr th {\n",
       "        vertical-align: top;\n",
       "    }\n",
       "\n",
       "    .dataframe thead th {\n",
       "        text-align: right;\n",
       "    }\n",
       "</style>\n",
       "<table border=\"1\" class=\"dataframe\">\n",
       "  <thead>\n",
       "    <tr style=\"text-align: right;\">\n",
       "      <th></th>\n",
       "      <th>Address</th>\n",
       "      <th>Bedrooms</th>\n",
       "      <th>Bathrooms</th>\n",
       "      <th>Area(sqft)</th>\n",
       "      <th>Year Built</th>\n",
       "      <th>Parking</th>\n",
       "      <th>Price($)</th>\n",
       "      <th>Location</th>\n",
       "    </tr>\n",
       "  </thead>\n",
       "  <tbody>\n",
       "    <tr>\n",
       "      <th>0</th>\n",
       "      <td>2926 Forest Manor Ave</td>\n",
       "      <td>3 Beds</td>\n",
       "      <td>1 Bath</td>\n",
       "      <td>864</td>\n",
       "      <td>Year Built: 1911</td>\n",
       "      <td>Garage</td>\n",
       "      <td>85000</td>\n",
       "      <td>Indianapolis</td>\n",
       "    </tr>\n",
       "    <tr>\n",
       "      <th>1</th>\n",
       "      <td>8820 Yardley Ct #208</td>\n",
       "      <td>2 Beds</td>\n",
       "      <td>2 Baths</td>\n",
       "      <td>1070</td>\n",
       "      <td>Year Built: 1993</td>\n",
       "      <td>No Info</td>\n",
       "      <td>159900</td>\n",
       "      <td>Indianapolis</td>\n",
       "    </tr>\n",
       "    <tr>\n",
       "      <th>2</th>\n",
       "      <td>2169 Kildare Ave</td>\n",
       "      <td>2 Beds</td>\n",
       "      <td>1 Bath</td>\n",
       "      <td>1544</td>\n",
       "      <td>Year Built: 1940</td>\n",
       "      <td>Garage</td>\n",
       "      <td>152000</td>\n",
       "      <td>Indianapolis</td>\n",
       "    </tr>\n",
       "    <tr>\n",
       "      <th>3</th>\n",
       "      <td>4741 Bridgefield Dr</td>\n",
       "      <td>2 Beds</td>\n",
       "      <td>2 Baths</td>\n",
       "      <td>1312</td>\n",
       "      <td>Year Built: 1998</td>\n",
       "      <td>2 Car Garage</td>\n",
       "      <td>180000</td>\n",
       "      <td>Indianapolis</td>\n",
       "    </tr>\n",
       "    <tr>\n",
       "      <th>4</th>\n",
       "      <td>Grandover Plan in Edgewood Farms by D.R. Horto...</td>\n",
       "      <td>3 Beds</td>\n",
       "      <td>3 Baths</td>\n",
       "      <td>2141</td>\n",
       "      <td>Year Built: 2023</td>\n",
       "      <td>No Info</td>\n",
       "      <td>400000</td>\n",
       "      <td>Indianapolis</td>\n",
       "    </tr>\n",
       "    <tr>\n",
       "      <th>...</th>\n",
       "      <td>...</td>\n",
       "      <td>...</td>\n",
       "      <td>...</td>\n",
       "      <td>...</td>\n",
       "      <td>...</td>\n",
       "      <td>...</td>\n",
       "      <td>...</td>\n",
       "      <td>...</td>\n",
       "    </tr>\n",
       "    <tr>\n",
       "      <th>3605</th>\n",
       "      <td>8517 Even Seth Cir</td>\n",
       "      <td>4 Beds</td>\n",
       "      <td>3 Baths</td>\n",
       "      <td>2217</td>\n",
       "      <td>Year Built: 2018</td>\n",
       "      <td>3 Car Garage</td>\n",
       "      <td>1199000</td>\n",
       "      <td>San Diego</td>\n",
       "    </tr>\n",
       "    <tr>\n",
       "      <th>3606</th>\n",
       "      <td>13104 Dana Vista St #350</td>\n",
       "      <td>4 Beds</td>\n",
       "      <td>2 Baths</td>\n",
       "      <td>1980</td>\n",
       "      <td>Year Built: 2006</td>\n",
       "      <td>Carport</td>\n",
       "      <td>395500</td>\n",
       "      <td>San Diego</td>\n",
       "    </tr>\n",
       "    <tr>\n",
       "      <th>3607</th>\n",
       "      <td>3906 Stanford Dr</td>\n",
       "      <td>4 Beds</td>\n",
       "      <td>3 Baths</td>\n",
       "      <td>2398</td>\n",
       "      <td>Year Built: 1992</td>\n",
       "      <td>3 Car Garage</td>\n",
       "      <td>975000</td>\n",
       "      <td>San Diego</td>\n",
       "    </tr>\n",
       "    <tr>\n",
       "      <th>3608</th>\n",
       "      <td>3365 Donna Dr</td>\n",
       "      <td>3 Beds</td>\n",
       "      <td>3 Baths</td>\n",
       "      <td>1680</td>\n",
       "      <td>Year Built: 1976</td>\n",
       "      <td>2 Car Garage</td>\n",
       "      <td>1495000</td>\n",
       "      <td>San Diego</td>\n",
       "    </tr>\n",
       "    <tr>\n",
       "      <th>3609</th>\n",
       "      <td>15928 Cumberland Dr</td>\n",
       "      <td>5 Beds</td>\n",
       "      <td>3 Baths</td>\n",
       "      <td>3071</td>\n",
       "      <td>Year Built: 1989</td>\n",
       "      <td>Garage</td>\n",
       "      <td>1725000</td>\n",
       "      <td>San Diego</td>\n",
       "    </tr>\n",
       "  </tbody>\n",
       "</table>\n",
       "<p>3610 rows × 8 columns</p>\n",
       "</div>"
      ],
      "text/plain": [
       "                                                Address Bedrooms Bathrooms  \\\n",
       "0                                 2926 Forest Manor Ave   3 Beds    1 Bath   \n",
       "1                                  8820 Yardley Ct #208   2 Beds   2 Baths   \n",
       "2                                      2169 Kildare Ave   2 Beds    1 Bath   \n",
       "3                                   4741 Bridgefield Dr   2 Beds   2 Baths   \n",
       "4     Grandover Plan in Edgewood Farms by D.R. Horto...   3 Beds   3 Baths   \n",
       "...                                                 ...      ...       ...   \n",
       "3605                                 8517 Even Seth Cir   4 Beds   3 Baths   \n",
       "3606                           13104 Dana Vista St #350   4 Beds   2 Baths   \n",
       "3607                                   3906 Stanford Dr   4 Beds   3 Baths   \n",
       "3608                                      3365 Donna Dr   3 Beds   3 Baths   \n",
       "3609                                15928 Cumberland Dr   5 Beds   3 Baths   \n",
       "\n",
       "     Area(sqft)        Year Built       Parking  Price($)      Location  \n",
       "0           864  Year Built: 1911        Garage     85000  Indianapolis  \n",
       "1          1070  Year Built: 1993       No Info    159900  Indianapolis  \n",
       "2          1544  Year Built: 1940        Garage    152000  Indianapolis  \n",
       "3          1312  Year Built: 1998  2 Car Garage    180000  Indianapolis  \n",
       "4          2141  Year Built: 2023       No Info    400000  Indianapolis  \n",
       "...         ...               ...           ...       ...           ...  \n",
       "3605       2217  Year Built: 2018  3 Car Garage   1199000     San Diego  \n",
       "3606       1980  Year Built: 2006       Carport    395500     San Diego  \n",
       "3607       2398  Year Built: 1992  3 Car Garage    975000     San Diego  \n",
       "3608       1680  Year Built: 1976  2 Car Garage   1495000     San Diego  \n",
       "3609       3071  Year Built: 1989        Garage   1725000     San Diego  \n",
       "\n",
       "[3610 rows x 8 columns]"
      ]
     },
     "execution_count": 127,
     "metadata": {},
     "output_type": "execute_result"
    }
   ],
   "source": [
    "dfcombined"
   ]
  },
  {
   "cell_type": "markdown",
   "id": "8b0633be",
   "metadata": {},
   "source": [
    "### Bedrooms and Bathrooms column editing"
   ]
  },
  {
   "cell_type": "code",
   "execution_count": 128,
   "id": "f61ed1c9",
   "metadata": {},
   "outputs": [],
   "source": [
    "dfcombined['Bedrooms'] = dfcombined['Bedrooms'].str.replace(' Beds','')"
   ]
  },
  {
   "cell_type": "code",
   "execution_count": 129,
   "id": "8eccb211",
   "metadata": {},
   "outputs": [],
   "source": [
    "dfcombined['Bedrooms'] = dfcombined['Bedrooms'].str.replace(' Bed','')"
   ]
  },
  {
   "cell_type": "code",
   "execution_count": 130,
   "id": "fcf5a71a",
   "metadata": {
    "scrolled": true
   },
   "outputs": [
    {
     "data": {
      "text/html": [
       "<div>\n",
       "<style scoped>\n",
       "    .dataframe tbody tr th:only-of-type {\n",
       "        vertical-align: middle;\n",
       "    }\n",
       "\n",
       "    .dataframe tbody tr th {\n",
       "        vertical-align: top;\n",
       "    }\n",
       "\n",
       "    .dataframe thead th {\n",
       "        text-align: right;\n",
       "    }\n",
       "</style>\n",
       "<table border=\"1\" class=\"dataframe\">\n",
       "  <thead>\n",
       "    <tr style=\"text-align: right;\">\n",
       "      <th></th>\n",
       "      <th>Address</th>\n",
       "      <th>Bedrooms</th>\n",
       "      <th>Bathrooms</th>\n",
       "      <th>Area(sqft)</th>\n",
       "      <th>Year Built</th>\n",
       "      <th>Parking</th>\n",
       "      <th>Price($)</th>\n",
       "      <th>Location</th>\n",
       "    </tr>\n",
       "  </thead>\n",
       "  <tbody>\n",
       "    <tr>\n",
       "      <th>0</th>\n",
       "      <td>2926 Forest Manor Ave</td>\n",
       "      <td>3</td>\n",
       "      <td>1 Bath</td>\n",
       "      <td>864</td>\n",
       "      <td>Year Built: 1911</td>\n",
       "      <td>Garage</td>\n",
       "      <td>85000</td>\n",
       "      <td>Indianapolis</td>\n",
       "    </tr>\n",
       "    <tr>\n",
       "      <th>1</th>\n",
       "      <td>8820 Yardley Ct #208</td>\n",
       "      <td>2</td>\n",
       "      <td>2 Baths</td>\n",
       "      <td>1070</td>\n",
       "      <td>Year Built: 1993</td>\n",
       "      <td>No Info</td>\n",
       "      <td>159900</td>\n",
       "      <td>Indianapolis</td>\n",
       "    </tr>\n",
       "    <tr>\n",
       "      <th>2</th>\n",
       "      <td>2169 Kildare Ave</td>\n",
       "      <td>2</td>\n",
       "      <td>1 Bath</td>\n",
       "      <td>1544</td>\n",
       "      <td>Year Built: 1940</td>\n",
       "      <td>Garage</td>\n",
       "      <td>152000</td>\n",
       "      <td>Indianapolis</td>\n",
       "    </tr>\n",
       "    <tr>\n",
       "      <th>3</th>\n",
       "      <td>4741 Bridgefield Dr</td>\n",
       "      <td>2</td>\n",
       "      <td>2 Baths</td>\n",
       "      <td>1312</td>\n",
       "      <td>Year Built: 1998</td>\n",
       "      <td>2 Car Garage</td>\n",
       "      <td>180000</td>\n",
       "      <td>Indianapolis</td>\n",
       "    </tr>\n",
       "    <tr>\n",
       "      <th>4</th>\n",
       "      <td>Grandover Plan in Edgewood Farms by D.R. Horto...</td>\n",
       "      <td>3</td>\n",
       "      <td>3 Baths</td>\n",
       "      <td>2141</td>\n",
       "      <td>Year Built: 2023</td>\n",
       "      <td>No Info</td>\n",
       "      <td>400000</td>\n",
       "      <td>Indianapolis</td>\n",
       "    </tr>\n",
       "    <tr>\n",
       "      <th>...</th>\n",
       "      <td>...</td>\n",
       "      <td>...</td>\n",
       "      <td>...</td>\n",
       "      <td>...</td>\n",
       "      <td>...</td>\n",
       "      <td>...</td>\n",
       "      <td>...</td>\n",
       "      <td>...</td>\n",
       "    </tr>\n",
       "    <tr>\n",
       "      <th>3605</th>\n",
       "      <td>8517 Even Seth Cir</td>\n",
       "      <td>4</td>\n",
       "      <td>3 Baths</td>\n",
       "      <td>2217</td>\n",
       "      <td>Year Built: 2018</td>\n",
       "      <td>3 Car Garage</td>\n",
       "      <td>1199000</td>\n",
       "      <td>San Diego</td>\n",
       "    </tr>\n",
       "    <tr>\n",
       "      <th>3606</th>\n",
       "      <td>13104 Dana Vista St #350</td>\n",
       "      <td>4</td>\n",
       "      <td>2 Baths</td>\n",
       "      <td>1980</td>\n",
       "      <td>Year Built: 2006</td>\n",
       "      <td>Carport</td>\n",
       "      <td>395500</td>\n",
       "      <td>San Diego</td>\n",
       "    </tr>\n",
       "    <tr>\n",
       "      <th>3607</th>\n",
       "      <td>3906 Stanford Dr</td>\n",
       "      <td>4</td>\n",
       "      <td>3 Baths</td>\n",
       "      <td>2398</td>\n",
       "      <td>Year Built: 1992</td>\n",
       "      <td>3 Car Garage</td>\n",
       "      <td>975000</td>\n",
       "      <td>San Diego</td>\n",
       "    </tr>\n",
       "    <tr>\n",
       "      <th>3608</th>\n",
       "      <td>3365 Donna Dr</td>\n",
       "      <td>3</td>\n",
       "      <td>3 Baths</td>\n",
       "      <td>1680</td>\n",
       "      <td>Year Built: 1976</td>\n",
       "      <td>2 Car Garage</td>\n",
       "      <td>1495000</td>\n",
       "      <td>San Diego</td>\n",
       "    </tr>\n",
       "    <tr>\n",
       "      <th>3609</th>\n",
       "      <td>15928 Cumberland Dr</td>\n",
       "      <td>5</td>\n",
       "      <td>3 Baths</td>\n",
       "      <td>3071</td>\n",
       "      <td>Year Built: 1989</td>\n",
       "      <td>Garage</td>\n",
       "      <td>1725000</td>\n",
       "      <td>San Diego</td>\n",
       "    </tr>\n",
       "  </tbody>\n",
       "</table>\n",
       "<p>3610 rows × 8 columns</p>\n",
       "</div>"
      ],
      "text/plain": [
       "                                                Address Bedrooms Bathrooms  \\\n",
       "0                                 2926 Forest Manor Ave        3    1 Bath   \n",
       "1                                  8820 Yardley Ct #208        2   2 Baths   \n",
       "2                                      2169 Kildare Ave        2    1 Bath   \n",
       "3                                   4741 Bridgefield Dr        2   2 Baths   \n",
       "4     Grandover Plan in Edgewood Farms by D.R. Horto...        3   3 Baths   \n",
       "...                                                 ...      ...       ...   \n",
       "3605                                 8517 Even Seth Cir        4   3 Baths   \n",
       "3606                           13104 Dana Vista St #350        4   2 Baths   \n",
       "3607                                   3906 Stanford Dr        4   3 Baths   \n",
       "3608                                      3365 Donna Dr        3   3 Baths   \n",
       "3609                                15928 Cumberland Dr        5   3 Baths   \n",
       "\n",
       "     Area(sqft)        Year Built       Parking  Price($)      Location  \n",
       "0           864  Year Built: 1911        Garage     85000  Indianapolis  \n",
       "1          1070  Year Built: 1993       No Info    159900  Indianapolis  \n",
       "2          1544  Year Built: 1940        Garage    152000  Indianapolis  \n",
       "3          1312  Year Built: 1998  2 Car Garage    180000  Indianapolis  \n",
       "4          2141  Year Built: 2023       No Info    400000  Indianapolis  \n",
       "...         ...               ...           ...       ...           ...  \n",
       "3605       2217  Year Built: 2018  3 Car Garage   1199000     San Diego  \n",
       "3606       1980  Year Built: 2006       Carport    395500     San Diego  \n",
       "3607       2398  Year Built: 1992  3 Car Garage    975000     San Diego  \n",
       "3608       1680  Year Built: 1976  2 Car Garage   1495000     San Diego  \n",
       "3609       3071  Year Built: 1989        Garage   1725000     San Diego  \n",
       "\n",
       "[3610 rows x 8 columns]"
      ]
     },
     "execution_count": 130,
     "metadata": {},
     "output_type": "execute_result"
    }
   ],
   "source": [
    "dfcombined"
   ]
  },
  {
   "cell_type": "markdown",
   "id": "35631011",
   "metadata": {},
   "source": [
    "Check for studio in the bedrooms column, change to 0 rooms"
   ]
  },
  {
   "cell_type": "code",
   "execution_count": 131,
   "id": "ecbf2ad0",
   "metadata": {
    "scrolled": true
   },
   "outputs": [
    {
     "data": {
      "text/plain": [
       "17"
      ]
     },
     "execution_count": 131,
     "metadata": {},
     "output_type": "execute_result"
    }
   ],
   "source": [
    "#amount of rows in the bedrooms column with studio in the name\n",
    "len(dfcombined.loc[dfcombined['Bedrooms'].isin(['Studio'])])"
   ]
  },
  {
   "cell_type": "code",
   "execution_count": 132,
   "id": "e5052c6d",
   "metadata": {},
   "outputs": [
    {
     "data": {
      "text/plain": [
       "3         1448\n",
       "4          839\n",
       "2          621\n",
       "5          397\n",
       "6          134\n",
       "1          104\n",
       "7           20\n",
       "8           17\n",
       "Studio      17\n",
       "10           6\n",
       "9            3\n",
       "14           2\n",
       "49           1\n",
       "11           1\n",
       "Name: Bedrooms, dtype: int64"
      ]
     },
     "execution_count": 132,
     "metadata": {},
     "output_type": "execute_result"
    }
   ],
   "source": [
    "dfcombined['Bedrooms'].value_counts()"
   ]
  },
  {
   "cell_type": "code",
   "execution_count": 133,
   "id": "5b5ce578",
   "metadata": {},
   "outputs": [],
   "source": [
    "#I think I want to change studio to 0 bedroom\n",
    "dfcombined['Bedrooms'] = dfcombined['Bedrooms'].apply(lambda x: 0 if 'Studio' in x else x)\n",
    "#dfcombined['Bedrooms'] = dfcombined['Bedrooms'].str.replace('Studio','0')"
   ]
  },
  {
   "cell_type": "code",
   "execution_count": 134,
   "id": "676038ed",
   "metadata": {
    "scrolled": false
   },
   "outputs": [
    {
     "data": {
      "text/plain": [
       "3     1448\n",
       "4      839\n",
       "2      621\n",
       "5      397\n",
       "6      134\n",
       "1      104\n",
       "7       20\n",
       "8       17\n",
       "0       17\n",
       "10       6\n",
       "9        3\n",
       "14       2\n",
       "49       1\n",
       "11       1\n",
       "Name: Bedrooms, dtype: int64"
      ]
     },
     "execution_count": 134,
     "metadata": {},
     "output_type": "execute_result"
    }
   ],
   "source": [
    "dfcombined['Bedrooms'].value_counts()"
   ]
  },
  {
   "cell_type": "markdown",
   "id": "6a8fbe43",
   "metadata": {},
   "source": [
    "As you can see the studio elements were changed to 0 bedrooms. "
   ]
  },
  {
   "cell_type": "code",
   "execution_count": 135,
   "id": "73ce6f2f",
   "metadata": {},
   "outputs": [],
   "source": [
    "dfcombined['Bathrooms'] = dfcombined['Bathrooms'].str.replace(' Bath','')"
   ]
  },
  {
   "cell_type": "code",
   "execution_count": 136,
   "id": "daabb7e2",
   "metadata": {
    "scrolled": true
   },
   "outputs": [
    {
     "data": {
      "text/html": [
       "<div>\n",
       "<style scoped>\n",
       "    .dataframe tbody tr th:only-of-type {\n",
       "        vertical-align: middle;\n",
       "    }\n",
       "\n",
       "    .dataframe tbody tr th {\n",
       "        vertical-align: top;\n",
       "    }\n",
       "\n",
       "    .dataframe thead th {\n",
       "        text-align: right;\n",
       "    }\n",
       "</style>\n",
       "<table border=\"1\" class=\"dataframe\">\n",
       "  <thead>\n",
       "    <tr style=\"text-align: right;\">\n",
       "      <th></th>\n",
       "      <th>Address</th>\n",
       "      <th>Bedrooms</th>\n",
       "      <th>Bathrooms</th>\n",
       "      <th>Area(sqft)</th>\n",
       "      <th>Year Built</th>\n",
       "      <th>Parking</th>\n",
       "      <th>Price($)</th>\n",
       "      <th>Location</th>\n",
       "    </tr>\n",
       "  </thead>\n",
       "  <tbody>\n",
       "    <tr>\n",
       "      <th>0</th>\n",
       "      <td>2926 Forest Manor Ave</td>\n",
       "      <td>3</td>\n",
       "      <td>1</td>\n",
       "      <td>864</td>\n",
       "      <td>Year Built: 1911</td>\n",
       "      <td>Garage</td>\n",
       "      <td>85000</td>\n",
       "      <td>Indianapolis</td>\n",
       "    </tr>\n",
       "    <tr>\n",
       "      <th>1</th>\n",
       "      <td>8820 Yardley Ct #208</td>\n",
       "      <td>2</td>\n",
       "      <td>2s</td>\n",
       "      <td>1070</td>\n",
       "      <td>Year Built: 1993</td>\n",
       "      <td>No Info</td>\n",
       "      <td>159900</td>\n",
       "      <td>Indianapolis</td>\n",
       "    </tr>\n",
       "    <tr>\n",
       "      <th>2</th>\n",
       "      <td>2169 Kildare Ave</td>\n",
       "      <td>2</td>\n",
       "      <td>1</td>\n",
       "      <td>1544</td>\n",
       "      <td>Year Built: 1940</td>\n",
       "      <td>Garage</td>\n",
       "      <td>152000</td>\n",
       "      <td>Indianapolis</td>\n",
       "    </tr>\n",
       "    <tr>\n",
       "      <th>3</th>\n",
       "      <td>4741 Bridgefield Dr</td>\n",
       "      <td>2</td>\n",
       "      <td>2s</td>\n",
       "      <td>1312</td>\n",
       "      <td>Year Built: 1998</td>\n",
       "      <td>2 Car Garage</td>\n",
       "      <td>180000</td>\n",
       "      <td>Indianapolis</td>\n",
       "    </tr>\n",
       "    <tr>\n",
       "      <th>4</th>\n",
       "      <td>Grandover Plan in Edgewood Farms by D.R. Horto...</td>\n",
       "      <td>3</td>\n",
       "      <td>3s</td>\n",
       "      <td>2141</td>\n",
       "      <td>Year Built: 2023</td>\n",
       "      <td>No Info</td>\n",
       "      <td>400000</td>\n",
       "      <td>Indianapolis</td>\n",
       "    </tr>\n",
       "  </tbody>\n",
       "</table>\n",
       "</div>"
      ],
      "text/plain": [
       "                                             Address Bedrooms Bathrooms  \\\n",
       "0                              2926 Forest Manor Ave        3         1   \n",
       "1                               8820 Yardley Ct #208        2        2s   \n",
       "2                                   2169 Kildare Ave        2         1   \n",
       "3                                4741 Bridgefield Dr        2        2s   \n",
       "4  Grandover Plan in Edgewood Farms by D.R. Horto...        3        3s   \n",
       "\n",
       "  Area(sqft)        Year Built       Parking  Price($)      Location  \n",
       "0        864  Year Built: 1911        Garage     85000  Indianapolis  \n",
       "1       1070  Year Built: 1993       No Info    159900  Indianapolis  \n",
       "2       1544  Year Built: 1940        Garage    152000  Indianapolis  \n",
       "3       1312  Year Built: 1998  2 Car Garage    180000  Indianapolis  \n",
       "4       2141  Year Built: 2023       No Info    400000  Indianapolis  "
      ]
     },
     "execution_count": 136,
     "metadata": {},
     "output_type": "execute_result"
    }
   ],
   "source": [
    "dfcombined.head()"
   ]
  },
  {
   "cell_type": "code",
   "execution_count": 137,
   "id": "752f6893",
   "metadata": {},
   "outputs": [],
   "source": [
    "dfcombined['Bathrooms'] = dfcombined['Bathrooms'].str.replace('s','')"
   ]
  },
  {
   "cell_type": "code",
   "execution_count": 138,
   "id": "35b70e46",
   "metadata": {
    "scrolled": true
   },
   "outputs": [
    {
     "data": {
      "text/html": [
       "<div>\n",
       "<style scoped>\n",
       "    .dataframe tbody tr th:only-of-type {\n",
       "        vertical-align: middle;\n",
       "    }\n",
       "\n",
       "    .dataframe tbody tr th {\n",
       "        vertical-align: top;\n",
       "    }\n",
       "\n",
       "    .dataframe thead th {\n",
       "        text-align: right;\n",
       "    }\n",
       "</style>\n",
       "<table border=\"1\" class=\"dataframe\">\n",
       "  <thead>\n",
       "    <tr style=\"text-align: right;\">\n",
       "      <th></th>\n",
       "      <th>Address</th>\n",
       "      <th>Bedrooms</th>\n",
       "      <th>Bathrooms</th>\n",
       "      <th>Area(sqft)</th>\n",
       "      <th>Year Built</th>\n",
       "      <th>Parking</th>\n",
       "      <th>Price($)</th>\n",
       "      <th>Location</th>\n",
       "    </tr>\n",
       "  </thead>\n",
       "  <tbody>\n",
       "    <tr>\n",
       "      <th>0</th>\n",
       "      <td>2926 Forest Manor Ave</td>\n",
       "      <td>3</td>\n",
       "      <td>1</td>\n",
       "      <td>864</td>\n",
       "      <td>Year Built: 1911</td>\n",
       "      <td>Garage</td>\n",
       "      <td>85000</td>\n",
       "      <td>Indianapolis</td>\n",
       "    </tr>\n",
       "    <tr>\n",
       "      <th>1</th>\n",
       "      <td>8820 Yardley Ct #208</td>\n",
       "      <td>2</td>\n",
       "      <td>2</td>\n",
       "      <td>1070</td>\n",
       "      <td>Year Built: 1993</td>\n",
       "      <td>No Info</td>\n",
       "      <td>159900</td>\n",
       "      <td>Indianapolis</td>\n",
       "    </tr>\n",
       "    <tr>\n",
       "      <th>2</th>\n",
       "      <td>2169 Kildare Ave</td>\n",
       "      <td>2</td>\n",
       "      <td>1</td>\n",
       "      <td>1544</td>\n",
       "      <td>Year Built: 1940</td>\n",
       "      <td>Garage</td>\n",
       "      <td>152000</td>\n",
       "      <td>Indianapolis</td>\n",
       "    </tr>\n",
       "    <tr>\n",
       "      <th>3</th>\n",
       "      <td>4741 Bridgefield Dr</td>\n",
       "      <td>2</td>\n",
       "      <td>2</td>\n",
       "      <td>1312</td>\n",
       "      <td>Year Built: 1998</td>\n",
       "      <td>2 Car Garage</td>\n",
       "      <td>180000</td>\n",
       "      <td>Indianapolis</td>\n",
       "    </tr>\n",
       "    <tr>\n",
       "      <th>4</th>\n",
       "      <td>Grandover Plan in Edgewood Farms by D.R. Horto...</td>\n",
       "      <td>3</td>\n",
       "      <td>3</td>\n",
       "      <td>2141</td>\n",
       "      <td>Year Built: 2023</td>\n",
       "      <td>No Info</td>\n",
       "      <td>400000</td>\n",
       "      <td>Indianapolis</td>\n",
       "    </tr>\n",
       "    <tr>\n",
       "      <th>...</th>\n",
       "      <td>...</td>\n",
       "      <td>...</td>\n",
       "      <td>...</td>\n",
       "      <td>...</td>\n",
       "      <td>...</td>\n",
       "      <td>...</td>\n",
       "      <td>...</td>\n",
       "      <td>...</td>\n",
       "    </tr>\n",
       "    <tr>\n",
       "      <th>3605</th>\n",
       "      <td>8517 Even Seth Cir</td>\n",
       "      <td>4</td>\n",
       "      <td>3</td>\n",
       "      <td>2217</td>\n",
       "      <td>Year Built: 2018</td>\n",
       "      <td>3 Car Garage</td>\n",
       "      <td>1199000</td>\n",
       "      <td>San Diego</td>\n",
       "    </tr>\n",
       "    <tr>\n",
       "      <th>3606</th>\n",
       "      <td>13104 Dana Vista St #350</td>\n",
       "      <td>4</td>\n",
       "      <td>2</td>\n",
       "      <td>1980</td>\n",
       "      <td>Year Built: 2006</td>\n",
       "      <td>Carport</td>\n",
       "      <td>395500</td>\n",
       "      <td>San Diego</td>\n",
       "    </tr>\n",
       "    <tr>\n",
       "      <th>3607</th>\n",
       "      <td>3906 Stanford Dr</td>\n",
       "      <td>4</td>\n",
       "      <td>3</td>\n",
       "      <td>2398</td>\n",
       "      <td>Year Built: 1992</td>\n",
       "      <td>3 Car Garage</td>\n",
       "      <td>975000</td>\n",
       "      <td>San Diego</td>\n",
       "    </tr>\n",
       "    <tr>\n",
       "      <th>3608</th>\n",
       "      <td>3365 Donna Dr</td>\n",
       "      <td>3</td>\n",
       "      <td>3</td>\n",
       "      <td>1680</td>\n",
       "      <td>Year Built: 1976</td>\n",
       "      <td>2 Car Garage</td>\n",
       "      <td>1495000</td>\n",
       "      <td>San Diego</td>\n",
       "    </tr>\n",
       "    <tr>\n",
       "      <th>3609</th>\n",
       "      <td>15928 Cumberland Dr</td>\n",
       "      <td>5</td>\n",
       "      <td>3</td>\n",
       "      <td>3071</td>\n",
       "      <td>Year Built: 1989</td>\n",
       "      <td>Garage</td>\n",
       "      <td>1725000</td>\n",
       "      <td>San Diego</td>\n",
       "    </tr>\n",
       "  </tbody>\n",
       "</table>\n",
       "<p>3610 rows × 8 columns</p>\n",
       "</div>"
      ],
      "text/plain": [
       "                                                Address Bedrooms Bathrooms  \\\n",
       "0                                 2926 Forest Manor Ave        3         1   \n",
       "1                                  8820 Yardley Ct #208        2         2   \n",
       "2                                      2169 Kildare Ave        2         1   \n",
       "3                                   4741 Bridgefield Dr        2         2   \n",
       "4     Grandover Plan in Edgewood Farms by D.R. Horto...        3         3   \n",
       "...                                                 ...      ...       ...   \n",
       "3605                                 8517 Even Seth Cir        4         3   \n",
       "3606                           13104 Dana Vista St #350        4         2   \n",
       "3607                                   3906 Stanford Dr        4         3   \n",
       "3608                                      3365 Donna Dr        3         3   \n",
       "3609                                15928 Cumberland Dr        5         3   \n",
       "\n",
       "     Area(sqft)        Year Built       Parking  Price($)      Location  \n",
       "0           864  Year Built: 1911        Garage     85000  Indianapolis  \n",
       "1          1070  Year Built: 1993       No Info    159900  Indianapolis  \n",
       "2          1544  Year Built: 1940        Garage    152000  Indianapolis  \n",
       "3          1312  Year Built: 1998  2 Car Garage    180000  Indianapolis  \n",
       "4          2141  Year Built: 2023       No Info    400000  Indianapolis  \n",
       "...         ...               ...           ...       ...           ...  \n",
       "3605       2217  Year Built: 2018  3 Car Garage   1199000     San Diego  \n",
       "3606       1980  Year Built: 2006       Carport    395500     San Diego  \n",
       "3607       2398  Year Built: 1992  3 Car Garage    975000     San Diego  \n",
       "3608       1680  Year Built: 1976  2 Car Garage   1495000     San Diego  \n",
       "3609       3071  Year Built: 1989        Garage   1725000     San Diego  \n",
       "\n",
       "[3610 rows x 8 columns]"
      ]
     },
     "execution_count": 138,
     "metadata": {},
     "output_type": "execute_result"
    }
   ],
   "source": [
    "dfcombined"
   ]
  },
  {
   "cell_type": "markdown",
   "id": "9287f552",
   "metadata": {},
   "source": [
    "### Save to csv for backup, edit Year Built column"
   ]
  },
  {
   "cell_type": "code",
   "execution_count": 139,
   "id": "42809d12",
   "metadata": {},
   "outputs": [],
   "source": [
    "dfcombined.to_csv('CombinedDataDuringClean.csv', encoding='utf-8', index=False)"
   ]
  },
  {
   "cell_type": "code",
   "execution_count": 142,
   "id": "5075bc91",
   "metadata": {
    "scrolled": true
   },
   "outputs": [
    {
     "name": "stderr",
     "output_type": "stream",
     "text": [
      "C:\\Users\\cdmel\\AppData\\Local\\Temp\\ipykernel_19612\\329812324.py:1: FutureWarning: The default value of regex will change from True to False in a future version.\n",
      "  dfcombined['Year Built'] = dfcombined['Year Built'].str.replace(\":.*\",\"\")\n"
     ]
    }
   ],
   "source": [
    "dfcombined['Year Built'] = dfcombined['Year Built'].str.replace(\":.*\",\"\")"
   ]
  },
  {
   "cell_type": "markdown",
   "id": "270110ee",
   "metadata": {},
   "source": [
    "Found that there was also some columns with the year renovated included in the year built column, so I just deleted this information since there wasn't enough houses that included this information to keep it. "
   ]
  },
  {
   "cell_type": "code",
   "execution_count": 148,
   "id": "7b782e77",
   "metadata": {},
   "outputs": [],
   "source": [
    "dfcombined['Year Built'] = dfcombined['Year Built'].str.replace('Year Renovated', '')"
   ]
  },
  {
   "cell_type": "code",
   "execution_count": 149,
   "id": "ca14786f",
   "metadata": {
    "scrolled": true
   },
   "outputs": [
    {
     "data": {
      "text/plain": [
       "2023    661\n",
       "1925    180\n",
       "1920    123\n",
       "2022     75\n",
       "1950     68\n",
       "       ... \n",
       "1893      1\n",
       "1891      1\n",
       "1907      1\n",
       "1853      1\n",
       "1918      1\n",
       "Name: Year Built, Length: 144, dtype: int64"
      ]
     },
     "execution_count": 149,
     "metadata": {},
     "output_type": "execute_result"
    }
   ],
   "source": [
    "dfcombined['Year Built'].value_counts()"
   ]
  },
  {
   "cell_type": "code",
   "execution_count": 150,
   "id": "c376b2ea",
   "metadata": {},
   "outputs": [],
   "source": [
    "dfcombined.to_csv('CombinedDataDuringClean.csv', encoding='utf-8', index=False)"
   ]
  },
  {
   "cell_type": "markdown",
   "id": "591c6614",
   "metadata": {},
   "source": [
    "### Change parking column to yes/no\n",
    "Search for keywords to check if there is parking available and change to yes or no."
   ]
  },
  {
   "cell_type": "code",
   "execution_count": 151,
   "id": "19c1023d",
   "metadata": {
    "scrolled": true
   },
   "outputs": [
    {
     "data": {
      "text/html": [
       "<div>\n",
       "<style scoped>\n",
       "    .dataframe tbody tr th:only-of-type {\n",
       "        vertical-align: middle;\n",
       "    }\n",
       "\n",
       "    .dataframe tbody tr th {\n",
       "        vertical-align: top;\n",
       "    }\n",
       "\n",
       "    .dataframe thead th {\n",
       "        text-align: right;\n",
       "    }\n",
       "</style>\n",
       "<table border=\"1\" class=\"dataframe\">\n",
       "  <thead>\n",
       "    <tr style=\"text-align: right;\">\n",
       "      <th></th>\n",
       "      <th>Address</th>\n",
       "      <th>Bedrooms</th>\n",
       "      <th>Bathrooms</th>\n",
       "      <th>Area(sqft)</th>\n",
       "      <th>Year Built</th>\n",
       "      <th>Parking</th>\n",
       "      <th>Price($)</th>\n",
       "      <th>Location</th>\n",
       "    </tr>\n",
       "  </thead>\n",
       "  <tbody>\n",
       "    <tr>\n",
       "      <th>0</th>\n",
       "      <td>2926 Forest Manor Ave</td>\n",
       "      <td>3</td>\n",
       "      <td>1</td>\n",
       "      <td>864</td>\n",
       "      <td>1911</td>\n",
       "      <td>Garage</td>\n",
       "      <td>85000</td>\n",
       "      <td>Indianapolis</td>\n",
       "    </tr>\n",
       "    <tr>\n",
       "      <th>1</th>\n",
       "      <td>8820 Yardley Ct #208</td>\n",
       "      <td>2</td>\n",
       "      <td>2</td>\n",
       "      <td>1070</td>\n",
       "      <td>1993</td>\n",
       "      <td>No Info</td>\n",
       "      <td>159900</td>\n",
       "      <td>Indianapolis</td>\n",
       "    </tr>\n",
       "    <tr>\n",
       "      <th>2</th>\n",
       "      <td>2169 Kildare Ave</td>\n",
       "      <td>2</td>\n",
       "      <td>1</td>\n",
       "      <td>1544</td>\n",
       "      <td>1940</td>\n",
       "      <td>Garage</td>\n",
       "      <td>152000</td>\n",
       "      <td>Indianapolis</td>\n",
       "    </tr>\n",
       "    <tr>\n",
       "      <th>3</th>\n",
       "      <td>4741 Bridgefield Dr</td>\n",
       "      <td>2</td>\n",
       "      <td>2</td>\n",
       "      <td>1312</td>\n",
       "      <td>1998</td>\n",
       "      <td>2 Car Garage</td>\n",
       "      <td>180000</td>\n",
       "      <td>Indianapolis</td>\n",
       "    </tr>\n",
       "    <tr>\n",
       "      <th>4</th>\n",
       "      <td>Grandover Plan in Edgewood Farms by D.R. Horto...</td>\n",
       "      <td>3</td>\n",
       "      <td>3</td>\n",
       "      <td>2141</td>\n",
       "      <td>2023</td>\n",
       "      <td>No Info</td>\n",
       "      <td>400000</td>\n",
       "      <td>Indianapolis</td>\n",
       "    </tr>\n",
       "  </tbody>\n",
       "</table>\n",
       "</div>"
      ],
      "text/plain": [
       "                                             Address Bedrooms Bathrooms  \\\n",
       "0                              2926 Forest Manor Ave        3         1   \n",
       "1                               8820 Yardley Ct #208        2         2   \n",
       "2                                   2169 Kildare Ave        2         1   \n",
       "3                                4741 Bridgefield Dr        2         2   \n",
       "4  Grandover Plan in Edgewood Farms by D.R. Horto...        3         3   \n",
       "\n",
       "  Area(sqft) Year Built       Parking  Price($)      Location  \n",
       "0        864       1911        Garage     85000  Indianapolis  \n",
       "1       1070       1993       No Info    159900  Indianapolis  \n",
       "2       1544       1940        Garage    152000  Indianapolis  \n",
       "3       1312       1998  2 Car Garage    180000  Indianapolis  \n",
       "4       2141       2023       No Info    400000  Indianapolis  "
      ]
     },
     "execution_count": 151,
     "metadata": {},
     "output_type": "execute_result"
    }
   ],
   "source": [
    "dfcombined.head()"
   ]
  },
  {
   "cell_type": "code",
   "execution_count": 152,
   "id": "83590339",
   "metadata": {
    "scrolled": true
   },
   "outputs": [
    {
     "data": {
      "text/plain": [
       "2 Car Garage        988\n",
       "Garage              752\n",
       "No Info             503\n",
       "Open Parking        416\n",
       "3 Car Garage        339\n",
       "1 Car Garage        305\n",
       "None                 81\n",
       "4 Car Garage         69\n",
       "1 Carport Spaces     20\n",
       "Carport              19\n",
       "2 Open Spaces        17\n",
       "2 Carport Spaces     16\n",
       "1 Open Spaces        14\n",
       "1 Parking Spaces     13\n",
       "2 Parking Spaces      8\n",
       "5 Car Garage          7\n",
       "6 Car Garage          7\n",
       "Parking Lot           3\n",
       "2.5 Car Garage        3\n",
       "3 Open Spaces         3\n",
       "4 Open Spaces         3\n",
       "6 Parking Spaces      3\n",
       "8 Car Garage          3\n",
       "Attached Garage       2\n",
       "5 Open Spaces         2\n",
       "5 Carport Spaces      1\n",
       "7 Car Garage          1\n",
       "4 Parking Spaces      1\n",
       "5 Parking Spaces      1\n",
       "4 Carport Spaces      1\n",
       "3 Carport Spaces      1\n",
       "15 Car Garage         1\n",
       "20 Car Garage         1\n",
       "3 Parking Spaces      1\n",
       "8 Parking Spaces      1\n",
       "28 Car Garage         1\n",
       "17 Car Garage         1\n",
       "6 Open Spaces         1\n",
       "10 Open Spaces        1\n",
       "Name: Parking, dtype: int64"
      ]
     },
     "execution_count": 152,
     "metadata": {},
     "output_type": "execute_result"
    }
   ],
   "source": [
    "dfcombined['Parking'].value_counts()"
   ]
  },
  {
   "cell_type": "code",
   "execution_count": 153,
   "id": "4080c326",
   "metadata": {},
   "outputs": [],
   "source": [
    "# Garage, Parking, Car, Spaces = Yes \n",
    "# None or No = No\n",
    "\n",
    "dfcombined['Parking'] = dfcombined['Parking'].apply(lambda x: 'yes' if 'Garage' in x or \n",
    "                                                    'Car' in x or 'Spaces' in x or 'Parking' in x \n",
    "                                                    or 'Carport' in x else 'no')\n"
   ]
  },
  {
   "cell_type": "code",
   "execution_count": 154,
   "id": "ef376275",
   "metadata": {
    "scrolled": true
   },
   "outputs": [
    {
     "data": {
      "text/plain": [
       "yes    3026\n",
       "no      584\n",
       "Name: Parking, dtype: int64"
      ]
     },
     "execution_count": 154,
     "metadata": {},
     "output_type": "execute_result"
    }
   ],
   "source": [
    "dfcombined['Parking'].value_counts()"
   ]
  },
  {
   "cell_type": "code",
   "execution_count": 155,
   "id": "f28a94cf",
   "metadata": {},
   "outputs": [],
   "source": [
    "dfcombined.to_csv('CombinedDataDuringClean.csv', encoding='utf-8', index=False)"
   ]
  },
  {
   "cell_type": "markdown",
   "id": "425b791c",
   "metadata": {},
   "source": [
    "### Changing all numbers to Integers\n",
    "Bedrooms, Bathrooms, SQFT and Year Built\n",
    "\n",
    "#### Bedrooms and bathrooms"
   ]
  },
  {
   "cell_type": "code",
   "execution_count": 158,
   "id": "529f65bc",
   "metadata": {},
   "outputs": [
    {
     "data": {
      "text/plain": [
       "False"
      ]
     },
     "execution_count": 158,
     "metadata": {},
     "output_type": "execute_result"
    }
   ],
   "source": [
    "#Checking if bedrooms entries are a string or a number \n",
    "is_numeric_dtype(dfcombined['Bedrooms'])"
   ]
  },
  {
   "cell_type": "code",
   "execution_count": 159,
   "id": "ae382efd",
   "metadata": {},
   "outputs": [
    {
     "data": {
      "text/plain": [
       "True"
      ]
     },
     "execution_count": 159,
     "metadata": {},
     "output_type": "execute_result"
    }
   ],
   "source": [
    "is_string_dtype(dfcombined['Bedrooms'])"
   ]
  },
  {
   "cell_type": "code",
   "execution_count": 161,
   "id": "ea132b54",
   "metadata": {
    "scrolled": true
   },
   "outputs": [],
   "source": [
    "#change bedrooms datatype to numeric\n",
    "dfcombined['Bedrooms'] = dfcombined['Bedrooms'].astype(int)"
   ]
  },
  {
   "cell_type": "code",
   "execution_count": 163,
   "id": "a5e00bc6",
   "metadata": {
    "scrolled": true
   },
   "outputs": [
    {
     "data": {
      "text/plain": [
       "True"
      ]
     },
     "execution_count": 163,
     "metadata": {},
     "output_type": "execute_result"
    }
   ],
   "source": [
    "is_numeric_dtype(dfcombined['Bedrooms'])"
   ]
  },
  {
   "cell_type": "code",
   "execution_count": 164,
   "id": "6355bcc7",
   "metadata": {},
   "outputs": [],
   "source": [
    "dfcombined['Bathrooms'] = dfcombined['Bathrooms'].astype(int)"
   ]
  },
  {
   "cell_type": "markdown",
   "id": "1ca0e8ef",
   "metadata": {},
   "source": [
    "#### next change area"
   ]
  },
  {
   "cell_type": "code",
   "execution_count": 173,
   "id": "49b9c833",
   "metadata": {
    "scrolled": true
   },
   "outputs": [
    {
     "data": {
      "text/plain": [
       "False"
      ]
     },
     "execution_count": 173,
     "metadata": {},
     "output_type": "execute_result"
    }
   ],
   "source": [
    "is_numeric_dtype(dfcombined['Area(sqft)'])"
   ]
  },
  {
   "cell_type": "code",
   "execution_count": 174,
   "id": "5def2c41",
   "metadata": {},
   "outputs": [],
   "source": [
    "dfcombined['Area(sqft)'] = dfcombined['Area(sqft)'].astype(int)"
   ]
  },
  {
   "cell_type": "code",
   "execution_count": 175,
   "id": "631287dc",
   "metadata": {},
   "outputs": [
    {
     "data": {
      "text/plain": [
       "True"
      ]
     },
     "execution_count": 175,
     "metadata": {},
     "output_type": "execute_result"
    }
   ],
   "source": [
    "is_numeric_dtype(dfcombined['Area(sqft)'])"
   ]
  },
  {
   "cell_type": "markdown",
   "id": "c6d4a674",
   "metadata": {},
   "source": [
    "#### next change year built"
   ]
  },
  {
   "cell_type": "code",
   "execution_count": 176,
   "id": "b5630bff",
   "metadata": {},
   "outputs": [
    {
     "data": {
      "text/plain": [
       "False"
      ]
     },
     "execution_count": 176,
     "metadata": {},
     "output_type": "execute_result"
    }
   ],
   "source": [
    "is_numeric_dtype(dfcombined['Year Built'])"
   ]
  },
  {
   "cell_type": "code",
   "execution_count": 177,
   "id": "a5907876",
   "metadata": {},
   "outputs": [],
   "source": [
    "dfcombined['Year Built'] = dfcombined['Year Built'].astype(int)"
   ]
  },
  {
   "cell_type": "code",
   "execution_count": 178,
   "id": "d12a0fd0",
   "metadata": {
    "scrolled": true
   },
   "outputs": [
    {
     "data": {
      "text/plain": [
       "True"
      ]
     },
     "execution_count": 178,
     "metadata": {},
     "output_type": "execute_result"
    }
   ],
   "source": [
    "is_numeric_dtype(dfcombined['Year Built'])"
   ]
  },
  {
   "cell_type": "code",
   "execution_count": 183,
   "id": "f8afdc06",
   "metadata": {
    "scrolled": false
   },
   "outputs": [
    {
     "data": {
      "text/plain": [
       "2023    661\n",
       "1925    180\n",
       "1920    123\n",
       "2022     75\n",
       "1950     68\n",
       "       ... \n",
       "1893      1\n",
       "1891      1\n",
       "1907      1\n",
       "1853      1\n",
       "1918      1\n",
       "Name: Year Built, Length: 144, dtype: int64"
      ]
     },
     "execution_count": 183,
     "metadata": {},
     "output_type": "execute_result"
    }
   ],
   "source": [
    "dfcombined['Year Built'].value_counts()"
   ]
  },
  {
   "cell_type": "code",
   "execution_count": 184,
   "id": "9d060eb5",
   "metadata": {},
   "outputs": [],
   "source": [
    "dfcombined.to_csv('CombinedDataDuringClean.csv', encoding='utf-8', index=False)"
   ]
  },
  {
   "cell_type": "code",
   "execution_count": 187,
   "id": "aff294ee",
   "metadata": {},
   "outputs": [
    {
     "data": {
      "text/plain": [
       "True"
      ]
     },
     "execution_count": 187,
     "metadata": {},
     "output_type": "execute_result"
    }
   ],
   "source": [
    "is_numeric_dtype(dfcombined['Price($)'])"
   ]
  },
  {
   "cell_type": "markdown",
   "id": "c6070cfe",
   "metadata": {},
   "source": [
    "### make new column price per sqft"
   ]
  },
  {
   "cell_type": "code",
   "execution_count": 188,
   "id": "3e7d1eb8",
   "metadata": {},
   "outputs": [],
   "source": [
    "dfcombined['Price/Sqft'] = dfcombined['Price($)']/dfcombined['Area(sqft)']"
   ]
  },
  {
   "cell_type": "code",
   "execution_count": 189,
   "id": "34d4485e",
   "metadata": {
    "scrolled": true
   },
   "outputs": [
    {
     "data": {
      "text/html": [
       "<div>\n",
       "<style scoped>\n",
       "    .dataframe tbody tr th:only-of-type {\n",
       "        vertical-align: middle;\n",
       "    }\n",
       "\n",
       "    .dataframe tbody tr th {\n",
       "        vertical-align: top;\n",
       "    }\n",
       "\n",
       "    .dataframe thead th {\n",
       "        text-align: right;\n",
       "    }\n",
       "</style>\n",
       "<table border=\"1\" class=\"dataframe\">\n",
       "  <thead>\n",
       "    <tr style=\"text-align: right;\">\n",
       "      <th></th>\n",
       "      <th>Address</th>\n",
       "      <th>Bedrooms</th>\n",
       "      <th>Bathrooms</th>\n",
       "      <th>Area(sqft)</th>\n",
       "      <th>Year Built</th>\n",
       "      <th>Parking</th>\n",
       "      <th>Price($)</th>\n",
       "      <th>Location</th>\n",
       "      <th>Price/Sqft</th>\n",
       "    </tr>\n",
       "  </thead>\n",
       "  <tbody>\n",
       "    <tr>\n",
       "      <th>0</th>\n",
       "      <td>2926 Forest Manor Ave</td>\n",
       "      <td>3</td>\n",
       "      <td>1</td>\n",
       "      <td>864</td>\n",
       "      <td>1911</td>\n",
       "      <td>yes</td>\n",
       "      <td>85000</td>\n",
       "      <td>Indianapolis</td>\n",
       "      <td>98.379630</td>\n",
       "    </tr>\n",
       "    <tr>\n",
       "      <th>1</th>\n",
       "      <td>8820 Yardley Ct #208</td>\n",
       "      <td>2</td>\n",
       "      <td>2</td>\n",
       "      <td>1070</td>\n",
       "      <td>1993</td>\n",
       "      <td>no</td>\n",
       "      <td>159900</td>\n",
       "      <td>Indianapolis</td>\n",
       "      <td>149.439252</td>\n",
       "    </tr>\n",
       "    <tr>\n",
       "      <th>2</th>\n",
       "      <td>2169 Kildare Ave</td>\n",
       "      <td>2</td>\n",
       "      <td>1</td>\n",
       "      <td>1544</td>\n",
       "      <td>1940</td>\n",
       "      <td>yes</td>\n",
       "      <td>152000</td>\n",
       "      <td>Indianapolis</td>\n",
       "      <td>98.445596</td>\n",
       "    </tr>\n",
       "    <tr>\n",
       "      <th>3</th>\n",
       "      <td>4741 Bridgefield Dr</td>\n",
       "      <td>2</td>\n",
       "      <td>2</td>\n",
       "      <td>1312</td>\n",
       "      <td>1998</td>\n",
       "      <td>yes</td>\n",
       "      <td>180000</td>\n",
       "      <td>Indianapolis</td>\n",
       "      <td>137.195122</td>\n",
       "    </tr>\n",
       "    <tr>\n",
       "      <th>4</th>\n",
       "      <td>Grandover Plan in Edgewood Farms by D.R. Horto...</td>\n",
       "      <td>3</td>\n",
       "      <td>3</td>\n",
       "      <td>2141</td>\n",
       "      <td>2023</td>\n",
       "      <td>no</td>\n",
       "      <td>400000</td>\n",
       "      <td>Indianapolis</td>\n",
       "      <td>186.828585</td>\n",
       "    </tr>\n",
       "  </tbody>\n",
       "</table>\n",
       "</div>"
      ],
      "text/plain": [
       "                                             Address  Bedrooms  Bathrooms  \\\n",
       "0                              2926 Forest Manor Ave         3          1   \n",
       "1                               8820 Yardley Ct #208         2          2   \n",
       "2                                   2169 Kildare Ave         2          1   \n",
       "3                                4741 Bridgefield Dr         2          2   \n",
       "4  Grandover Plan in Edgewood Farms by D.R. Horto...         3          3   \n",
       "\n",
       "   Area(sqft)  Year Built Parking  Price($)      Location  Price/Sqft  \n",
       "0         864        1911     yes     85000  Indianapolis   98.379630  \n",
       "1        1070        1993      no    159900  Indianapolis  149.439252  \n",
       "2        1544        1940     yes    152000  Indianapolis   98.445596  \n",
       "3        1312        1998     yes    180000  Indianapolis  137.195122  \n",
       "4        2141        2023      no    400000  Indianapolis  186.828585  "
      ]
     },
     "execution_count": 189,
     "metadata": {},
     "output_type": "execute_result"
    }
   ],
   "source": [
    "dfcombined.head()"
   ]
  },
  {
   "cell_type": "code",
   "execution_count": 191,
   "id": "23d336a2",
   "metadata": {},
   "outputs": [],
   "source": [
    "dfcombined['Price/Sqft'] = dfcombined['Price/Sqft'].round(2)"
   ]
  },
  {
   "cell_type": "code",
   "execution_count": 192,
   "id": "13542e40",
   "metadata": {
    "scrolled": true
   },
   "outputs": [
    {
     "data": {
      "text/html": [
       "<div>\n",
       "<style scoped>\n",
       "    .dataframe tbody tr th:only-of-type {\n",
       "        vertical-align: middle;\n",
       "    }\n",
       "\n",
       "    .dataframe tbody tr th {\n",
       "        vertical-align: top;\n",
       "    }\n",
       "\n",
       "    .dataframe thead th {\n",
       "        text-align: right;\n",
       "    }\n",
       "</style>\n",
       "<table border=\"1\" class=\"dataframe\">\n",
       "  <thead>\n",
       "    <tr style=\"text-align: right;\">\n",
       "      <th></th>\n",
       "      <th>Address</th>\n",
       "      <th>Bedrooms</th>\n",
       "      <th>Bathrooms</th>\n",
       "      <th>Area(sqft)</th>\n",
       "      <th>Year Built</th>\n",
       "      <th>Parking</th>\n",
       "      <th>Price($)</th>\n",
       "      <th>Location</th>\n",
       "      <th>Price/Sqft</th>\n",
       "    </tr>\n",
       "  </thead>\n",
       "  <tbody>\n",
       "    <tr>\n",
       "      <th>0</th>\n",
       "      <td>2926 Forest Manor Ave</td>\n",
       "      <td>3</td>\n",
       "      <td>1</td>\n",
       "      <td>864</td>\n",
       "      <td>1911</td>\n",
       "      <td>yes</td>\n",
       "      <td>85000</td>\n",
       "      <td>Indianapolis</td>\n",
       "      <td>98.38</td>\n",
       "    </tr>\n",
       "    <tr>\n",
       "      <th>1</th>\n",
       "      <td>8820 Yardley Ct #208</td>\n",
       "      <td>2</td>\n",
       "      <td>2</td>\n",
       "      <td>1070</td>\n",
       "      <td>1993</td>\n",
       "      <td>no</td>\n",
       "      <td>159900</td>\n",
       "      <td>Indianapolis</td>\n",
       "      <td>149.44</td>\n",
       "    </tr>\n",
       "    <tr>\n",
       "      <th>2</th>\n",
       "      <td>2169 Kildare Ave</td>\n",
       "      <td>2</td>\n",
       "      <td>1</td>\n",
       "      <td>1544</td>\n",
       "      <td>1940</td>\n",
       "      <td>yes</td>\n",
       "      <td>152000</td>\n",
       "      <td>Indianapolis</td>\n",
       "      <td>98.45</td>\n",
       "    </tr>\n",
       "    <tr>\n",
       "      <th>3</th>\n",
       "      <td>4741 Bridgefield Dr</td>\n",
       "      <td>2</td>\n",
       "      <td>2</td>\n",
       "      <td>1312</td>\n",
       "      <td>1998</td>\n",
       "      <td>yes</td>\n",
       "      <td>180000</td>\n",
       "      <td>Indianapolis</td>\n",
       "      <td>137.20</td>\n",
       "    </tr>\n",
       "    <tr>\n",
       "      <th>4</th>\n",
       "      <td>Grandover Plan in Edgewood Farms by D.R. Horto...</td>\n",
       "      <td>3</td>\n",
       "      <td>3</td>\n",
       "      <td>2141</td>\n",
       "      <td>2023</td>\n",
       "      <td>no</td>\n",
       "      <td>400000</td>\n",
       "      <td>Indianapolis</td>\n",
       "      <td>186.83</td>\n",
       "    </tr>\n",
       "  </tbody>\n",
       "</table>\n",
       "</div>"
      ],
      "text/plain": [
       "                                             Address  Bedrooms  Bathrooms  \\\n",
       "0                              2926 Forest Manor Ave         3          1   \n",
       "1                               8820 Yardley Ct #208         2          2   \n",
       "2                                   2169 Kildare Ave         2          1   \n",
       "3                                4741 Bridgefield Dr         2          2   \n",
       "4  Grandover Plan in Edgewood Farms by D.R. Horto...         3          3   \n",
       "\n",
       "   Area(sqft)  Year Built Parking  Price($)      Location  Price/Sqft  \n",
       "0         864        1911     yes     85000  Indianapolis       98.38  \n",
       "1        1070        1993      no    159900  Indianapolis      149.44  \n",
       "2        1544        1940     yes    152000  Indianapolis       98.45  \n",
       "3        1312        1998     yes    180000  Indianapolis      137.20  \n",
       "4        2141        2023      no    400000  Indianapolis      186.83  "
      ]
     },
     "execution_count": 192,
     "metadata": {},
     "output_type": "execute_result"
    }
   ],
   "source": [
    "dfcombined.head()"
   ]
  },
  {
   "cell_type": "markdown",
   "id": "a97b803f",
   "metadata": {},
   "source": [
    "### Checking for outliers in the data"
   ]
  },
  {
   "cell_type": "code",
   "execution_count": 193,
   "id": "4b7ba9a4",
   "metadata": {},
   "outputs": [
    {
     "data": {
      "text/plain": [
       "count    3610.000000\n",
       "mean      372.819216\n",
       "std       374.355695\n",
       "min         4.950000\n",
       "25%       172.602500\n",
       "50%       226.625000\n",
       "75%       384.440000\n",
       "max      3703.700000\n",
       "Name: Price/Sqft, dtype: float64"
      ]
     },
     "execution_count": 193,
     "metadata": {},
     "output_type": "execute_result"
    }
   ],
   "source": [
    "dfcombined['Price/Sqft'].describe()"
   ]
  },
  {
   "cell_type": "markdown",
   "id": "8d2d14d7",
   "metadata": {},
   "source": [
    "The house below is an apartment building for sale. It doesnt have any bedrooms listed even though it is 10,000 sqft. I think I will delete this outlier. "
   ]
  },
  {
   "cell_type": "code",
   "execution_count": 194,
   "id": "c760012c",
   "metadata": {
    "scrolled": true
   },
   "outputs": [
    {
     "data": {
      "text/html": [
       "<div>\n",
       "<style scoped>\n",
       "    .dataframe tbody tr th:only-of-type {\n",
       "        vertical-align: middle;\n",
       "    }\n",
       "\n",
       "    .dataframe tbody tr th {\n",
       "        vertical-align: top;\n",
       "    }\n",
       "\n",
       "    .dataframe thead th {\n",
       "        text-align: right;\n",
       "    }\n",
       "</style>\n",
       "<table border=\"1\" class=\"dataframe\">\n",
       "  <thead>\n",
       "    <tr style=\"text-align: right;\">\n",
       "      <th></th>\n",
       "      <th>Address</th>\n",
       "      <th>Bedrooms</th>\n",
       "      <th>Bathrooms</th>\n",
       "      <th>Area(sqft)</th>\n",
       "      <th>Year Built</th>\n",
       "      <th>Parking</th>\n",
       "      <th>Price($)</th>\n",
       "      <th>Location</th>\n",
       "      <th>Price/Sqft</th>\n",
       "    </tr>\n",
       "  </thead>\n",
       "  <tbody>\n",
       "    <tr>\n",
       "      <th>1832</th>\n",
       "      <td>300 San Mateo Blvd NE</td>\n",
       "      <td>0</td>\n",
       "      <td>1</td>\n",
       "      <td>101000</td>\n",
       "      <td>1979</td>\n",
       "      <td>no</td>\n",
       "      <td>500000</td>\n",
       "      <td>Albuquerque</td>\n",
       "      <td>4.95</td>\n",
       "    </tr>\n",
       "  </tbody>\n",
       "</table>\n",
       "</div>"
      ],
      "text/plain": [
       "                    Address  Bedrooms  Bathrooms  Area(sqft)  Year Built  \\\n",
       "1832  300 San Mateo Blvd NE         0          1      101000        1979   \n",
       "\n",
       "     Parking  Price($)     Location  Price/Sqft  \n",
       "1832      no    500000  Albuquerque        4.95  "
      ]
     },
     "execution_count": 194,
     "metadata": {},
     "output_type": "execute_result"
    }
   ],
   "source": [
    "dfcombined.loc[dfcombined['Price/Sqft'] < 10]"
   ]
  },
  {
   "cell_type": "code",
   "execution_count": 197,
   "id": "640d661f",
   "metadata": {},
   "outputs": [],
   "source": [
    "dfcombined = dfcombined.drop(1832)"
   ]
  },
  {
   "cell_type": "code",
   "execution_count": 198,
   "id": "e2731196",
   "metadata": {
    "scrolled": true
   },
   "outputs": [
    {
     "data": {
      "text/html": [
       "<div>\n",
       "<style scoped>\n",
       "    .dataframe tbody tr th:only-of-type {\n",
       "        vertical-align: middle;\n",
       "    }\n",
       "\n",
       "    .dataframe tbody tr th {\n",
       "        vertical-align: top;\n",
       "    }\n",
       "\n",
       "    .dataframe thead th {\n",
       "        text-align: right;\n",
       "    }\n",
       "</style>\n",
       "<table border=\"1\" class=\"dataframe\">\n",
       "  <thead>\n",
       "    <tr style=\"text-align: right;\">\n",
       "      <th></th>\n",
       "      <th>Address</th>\n",
       "      <th>Bedrooms</th>\n",
       "      <th>Bathrooms</th>\n",
       "      <th>Area(sqft)</th>\n",
       "      <th>Year Built</th>\n",
       "      <th>Parking</th>\n",
       "      <th>Price($)</th>\n",
       "      <th>Location</th>\n",
       "      <th>Price/Sqft</th>\n",
       "    </tr>\n",
       "  </thead>\n",
       "  <tbody>\n",
       "  </tbody>\n",
       "</table>\n",
       "</div>"
      ],
      "text/plain": [
       "Empty DataFrame\n",
       "Columns: [Address, Bedrooms, Bathrooms, Area(sqft), Year Built, Parking, Price($), Location, Price/Sqft]\n",
       "Index: []"
      ]
     },
     "execution_count": 198,
     "metadata": {},
     "output_type": "execute_result"
    }
   ],
   "source": [
    "dfcombined.loc[dfcombined['Price/Sqft'] < 10]"
   ]
  },
  {
   "cell_type": "markdown",
   "id": "23d258b3",
   "metadata": {},
   "source": [
    "The house below is fine. It is just a very large house and has a lot of bedrooms/sqft. The price per sqft was the same on Trulia. "
   ]
  },
  {
   "cell_type": "code",
   "execution_count": 196,
   "id": "de441bcb",
   "metadata": {
    "scrolled": true
   },
   "outputs": [
    {
     "data": {
      "text/html": [
       "<div>\n",
       "<style scoped>\n",
       "    .dataframe tbody tr th:only-of-type {\n",
       "        vertical-align: middle;\n",
       "    }\n",
       "\n",
       "    .dataframe tbody tr th {\n",
       "        vertical-align: top;\n",
       "    }\n",
       "\n",
       "    .dataframe thead th {\n",
       "        text-align: right;\n",
       "    }\n",
       "</style>\n",
       "<table border=\"1\" class=\"dataframe\">\n",
       "  <thead>\n",
       "    <tr style=\"text-align: right;\">\n",
       "      <th></th>\n",
       "      <th>Address</th>\n",
       "      <th>Bedrooms</th>\n",
       "      <th>Bathrooms</th>\n",
       "      <th>Area(sqft)</th>\n",
       "      <th>Year Built</th>\n",
       "      <th>Parking</th>\n",
       "      <th>Price($)</th>\n",
       "      <th>Location</th>\n",
       "      <th>Price/Sqft</th>\n",
       "    </tr>\n",
       "  </thead>\n",
       "  <tbody>\n",
       "    <tr>\n",
       "      <th>3517</th>\n",
       "      <td>6308 Camino De La Costa</td>\n",
       "      <td>8</td>\n",
       "      <td>10</td>\n",
       "      <td>10260</td>\n",
       "      <td>1987</td>\n",
       "      <td>yes</td>\n",
       "      <td>38000000</td>\n",
       "      <td>San Diego</td>\n",
       "      <td>3703.7</td>\n",
       "    </tr>\n",
       "  </tbody>\n",
       "</table>\n",
       "</div>"
      ],
      "text/plain": [
       "                      Address  Bedrooms  Bathrooms  Area(sqft)  Year Built  \\\n",
       "3517  6308 Camino De La Costa         8         10       10260        1987   \n",
       "\n",
       "     Parking  Price($)   Location  Price/Sqft  \n",
       "3517     yes  38000000  San Diego      3703.7  "
      ]
     },
     "execution_count": 196,
     "metadata": {},
     "output_type": "execute_result"
    }
   ],
   "source": [
    "dfcombined.loc[dfcombined['Price/Sqft'] == 3703.700000]"
   ]
  },
  {
   "cell_type": "code",
   "execution_count": 199,
   "id": "1c193e3f",
   "metadata": {
    "scrolled": true
   },
   "outputs": [
    {
     "data": {
      "text/plain": [
       "count    3609.000000\n",
       "mean      372.921147\n",
       "std       374.357463\n",
       "min        17.090000\n",
       "25%       172.640000\n",
       "50%       226.690000\n",
       "75%       384.620000\n",
       "max      3703.700000\n",
       "Name: Price/Sqft, dtype: float64"
      ]
     },
     "execution_count": 199,
     "metadata": {},
     "output_type": "execute_result"
    }
   ],
   "source": [
    "dfcombined['Price/Sqft'].describe()"
   ]
  },
  {
   "cell_type": "code",
   "execution_count": 200,
   "id": "69b400eb",
   "metadata": {
    "scrolled": true
   },
   "outputs": [
    {
     "data": {
      "text/plain": [
       "count    3609.000000\n",
       "mean        3.404267\n",
       "std         1.469684\n",
       "min         0.000000\n",
       "25%         3.000000\n",
       "50%         3.000000\n",
       "75%         4.000000\n",
       "max        49.000000\n",
       "Name: Bedrooms, dtype: float64"
      ]
     },
     "execution_count": 200,
     "metadata": {},
     "output_type": "execute_result"
    }
   ],
   "source": [
    "dfcombined['Bedrooms'].describe()"
   ]
  },
  {
   "cell_type": "code",
   "execution_count": 201,
   "id": "f7657605",
   "metadata": {
    "scrolled": true
   },
   "outputs": [
    {
     "data": {
      "text/html": [
       "<div>\n",
       "<style scoped>\n",
       "    .dataframe tbody tr th:only-of-type {\n",
       "        vertical-align: middle;\n",
       "    }\n",
       "\n",
       "    .dataframe tbody tr th {\n",
       "        vertical-align: top;\n",
       "    }\n",
       "\n",
       "    .dataframe thead th {\n",
       "        text-align: right;\n",
       "    }\n",
       "</style>\n",
       "<table border=\"1\" class=\"dataframe\">\n",
       "  <thead>\n",
       "    <tr style=\"text-align: right;\">\n",
       "      <th></th>\n",
       "      <th>Address</th>\n",
       "      <th>Bedrooms</th>\n",
       "      <th>Bathrooms</th>\n",
       "      <th>Area(sqft)</th>\n",
       "      <th>Year Built</th>\n",
       "      <th>Parking</th>\n",
       "      <th>Price($)</th>\n",
       "      <th>Location</th>\n",
       "      <th>Price/Sqft</th>\n",
       "    </tr>\n",
       "  </thead>\n",
       "  <tbody>\n",
       "    <tr>\n",
       "      <th>2018</th>\n",
       "      <td>Address Not Disclosed</td>\n",
       "      <td>49</td>\n",
       "      <td>49</td>\n",
       "      <td>20314</td>\n",
       "      <td>1977</td>\n",
       "      <td>no</td>\n",
       "      <td>3250000</td>\n",
       "      <td>Albuquerque</td>\n",
       "      <td>159.99</td>\n",
       "    </tr>\n",
       "  </tbody>\n",
       "</table>\n",
       "</div>"
      ],
      "text/plain": [
       "                    Address  Bedrooms  Bathrooms  Area(sqft)  Year Built  \\\n",
       "2018  Address Not Disclosed        49         49       20314        1977   \n",
       "\n",
       "     Parking  Price($)     Location  Price/Sqft  \n",
       "2018      no   3250000  Albuquerque      159.99  "
      ]
     },
     "execution_count": 201,
     "metadata": {},
     "output_type": "execute_result"
    }
   ],
   "source": [
    "dfcombined.loc[dfcombined['Bedrooms'] == 49]"
   ]
  },
  {
   "cell_type": "markdown",
   "id": "6e0faf56",
   "metadata": {},
   "source": [
    "It's kind of weird that the address is not disclosed and there is 49 bed/baths. So I think I will also drop this index."
   ]
  },
  {
   "cell_type": "code",
   "execution_count": 202,
   "id": "ca2842dc",
   "metadata": {},
   "outputs": [],
   "source": [
    "dfcombined = dfcombined.drop(2018)"
   ]
  },
  {
   "cell_type": "code",
   "execution_count": 203,
   "id": "7884da57",
   "metadata": {
    "scrolled": true
   },
   "outputs": [
    {
     "data": {
      "text/plain": [
       "count    3608.000000\n",
       "mean        3.391630\n",
       "std         1.258586\n",
       "min         0.000000\n",
       "25%         3.000000\n",
       "50%         3.000000\n",
       "75%         4.000000\n",
       "max        14.000000\n",
       "Name: Bedrooms, dtype: float64"
      ]
     },
     "execution_count": 203,
     "metadata": {},
     "output_type": "execute_result"
    }
   ],
   "source": [
    "dfcombined['Bedrooms'].describe()"
   ]
  },
  {
   "cell_type": "code",
   "execution_count": 204,
   "id": "a33cce99",
   "metadata": {
    "scrolled": true
   },
   "outputs": [
    {
     "data": {
      "text/html": [
       "<div>\n",
       "<style scoped>\n",
       "    .dataframe tbody tr th:only-of-type {\n",
       "        vertical-align: middle;\n",
       "    }\n",
       "\n",
       "    .dataframe tbody tr th {\n",
       "        vertical-align: top;\n",
       "    }\n",
       "\n",
       "    .dataframe thead th {\n",
       "        text-align: right;\n",
       "    }\n",
       "</style>\n",
       "<table border=\"1\" class=\"dataframe\">\n",
       "  <thead>\n",
       "    <tr style=\"text-align: right;\">\n",
       "      <th></th>\n",
       "      <th>Address</th>\n",
       "      <th>Bedrooms</th>\n",
       "      <th>Bathrooms</th>\n",
       "      <th>Area(sqft)</th>\n",
       "      <th>Year Built</th>\n",
       "      <th>Parking</th>\n",
       "      <th>Price($)</th>\n",
       "      <th>Location</th>\n",
       "      <th>Price/Sqft</th>\n",
       "    </tr>\n",
       "  </thead>\n",
       "  <tbody>\n",
       "    <tr>\n",
       "      <th>2666</th>\n",
       "      <td>2327 N  Park Ave</td>\n",
       "      <td>14</td>\n",
       "      <td>18</td>\n",
       "      <td>3720</td>\n",
       "      <td>2011</td>\n",
       "      <td>yes</td>\n",
       "      <td>469900</td>\n",
       "      <td>Philadelphia</td>\n",
       "      <td>126.32</td>\n",
       "    </tr>\n",
       "    <tr>\n",
       "      <th>3543</th>\n",
       "      <td>4140 48th St</td>\n",
       "      <td>14</td>\n",
       "      <td>8</td>\n",
       "      <td>4120</td>\n",
       "      <td>2022</td>\n",
       "      <td>yes</td>\n",
       "      <td>2095000</td>\n",
       "      <td>San Diego</td>\n",
       "      <td>508.50</td>\n",
       "    </tr>\n",
       "  </tbody>\n",
       "</table>\n",
       "</div>"
      ],
      "text/plain": [
       "               Address  Bedrooms  Bathrooms  Area(sqft)  Year Built Parking  \\\n",
       "2666  2327 N  Park Ave        14         18        3720        2011     yes   \n",
       "3543      4140 48th St        14          8        4120        2022     yes   \n",
       "\n",
       "      Price($)      Location  Price/Sqft  \n",
       "2666    469900  Philadelphia      126.32  \n",
       "3543   2095000     San Diego      508.50  "
      ]
     },
     "execution_count": 204,
     "metadata": {},
     "output_type": "execute_result"
    }
   ],
   "source": [
    "dfcombined.loc[dfcombined['Bedrooms'] == 14]"
   ]
  },
  {
   "cell_type": "markdown",
   "id": "b5429e8e",
   "metadata": {},
   "source": [
    "These two are both apartment buildings and have more information so I will leave them."
   ]
  },
  {
   "cell_type": "code",
   "execution_count": 205,
   "id": "74f08111",
   "metadata": {
    "scrolled": true
   },
   "outputs": [
    {
     "data": {
      "text/plain": [
       "count    3608.000000\n",
       "mean        2.710643\n",
       "std         1.315274\n",
       "min         1.000000\n",
       "25%         2.000000\n",
       "50%         3.000000\n",
       "75%         3.000000\n",
       "max        21.000000\n",
       "Name: Bathrooms, dtype: float64"
      ]
     },
     "execution_count": 205,
     "metadata": {},
     "output_type": "execute_result"
    }
   ],
   "source": [
    "dfcombined['Bathrooms'].describe()"
   ]
  },
  {
   "cell_type": "code",
   "execution_count": 207,
   "id": "5a930501",
   "metadata": {
    "scrolled": true
   },
   "outputs": [
    {
     "data": {
      "text/html": [
       "<div>\n",
       "<style scoped>\n",
       "    .dataframe tbody tr th:only-of-type {\n",
       "        vertical-align: middle;\n",
       "    }\n",
       "\n",
       "    .dataframe tbody tr th {\n",
       "        vertical-align: top;\n",
       "    }\n",
       "\n",
       "    .dataframe thead th {\n",
       "        text-align: right;\n",
       "    }\n",
       "</style>\n",
       "<table border=\"1\" class=\"dataframe\">\n",
       "  <thead>\n",
       "    <tr style=\"text-align: right;\">\n",
       "      <th></th>\n",
       "      <th>Address</th>\n",
       "      <th>Bedrooms</th>\n",
       "      <th>Bathrooms</th>\n",
       "      <th>Area(sqft)</th>\n",
       "      <th>Year Built</th>\n",
       "      <th>Parking</th>\n",
       "      <th>Price($)</th>\n",
       "      <th>Location</th>\n",
       "      <th>Price/Sqft</th>\n",
       "    </tr>\n",
       "  </thead>\n",
       "  <tbody>\n",
       "    <tr>\n",
       "      <th>2992</th>\n",
       "      <td>2036-2036 N  Highland Ave  #2040</td>\n",
       "      <td>6</td>\n",
       "      <td>21</td>\n",
       "      <td>2601</td>\n",
       "      <td>2023</td>\n",
       "      <td>yes</td>\n",
       "      <td>1499900</td>\n",
       "      <td>San Diego</td>\n",
       "      <td>576.66</td>\n",
       "    </tr>\n",
       "  </tbody>\n",
       "</table>\n",
       "</div>"
      ],
      "text/plain": [
       "                               Address  Bedrooms  Bathrooms  Area(sqft)  \\\n",
       "2992  2036-2036 N  Highland Ave  #2040         6         21        2601   \n",
       "\n",
       "      Year Built Parking  Price($)   Location  Price/Sqft  \n",
       "2992        2023     yes   1499900  San Diego      576.66  "
      ]
     },
     "execution_count": 207,
     "metadata": {},
     "output_type": "execute_result"
    }
   ],
   "source": [
    "dfcombined.loc[dfcombined['Bathrooms'] == 21]"
   ]
  },
  {
   "cell_type": "code",
   "execution_count": 209,
   "id": "23f680fa",
   "metadata": {
    "scrolled": true
   },
   "outputs": [
    {
     "data": {
      "text/plain": [
       "count     3608.000000\n",
       "mean      2223.975610\n",
       "std       1308.644328\n",
       "min        300.000000\n",
       "25%       1333.750000\n",
       "50%       1906.000000\n",
       "75%       2811.250000\n",
       "max      15420.000000\n",
       "Name: Area(sqft), dtype: float64"
      ]
     },
     "execution_count": 209,
     "metadata": {},
     "output_type": "execute_result"
    }
   ],
   "source": [
    "dfcombined['Area(sqft)'].describe()"
   ]
  },
  {
   "cell_type": "code",
   "execution_count": 210,
   "id": "8379ee28",
   "metadata": {},
   "outputs": [],
   "source": [
    "dfcombined.to_csv('CombinedDataDuringClean.csv', encoding='utf-8', index=False)"
   ]
  },
  {
   "cell_type": "code",
   "execution_count": 211,
   "id": "de56a565",
   "metadata": {},
   "outputs": [],
   "source": [
    "dfcombined.to_csv('DataCleaned.csv', encoding='utf-8', index=False)"
   ]
  }
 ],
 "metadata": {
  "kernelspec": {
   "display_name": "Python 3 (ipykernel)",
   "language": "python",
   "name": "python3"
  },
  "language_info": {
   "codemirror_mode": {
    "name": "ipython",
    "version": 3
   },
   "file_extension": ".py",
   "mimetype": "text/x-python",
   "name": "python",
   "nbconvert_exporter": "python",
   "pygments_lexer": "ipython3",
   "version": "3.9.13"
  }
 },
 "nbformat": 4,
 "nbformat_minor": 5
}
